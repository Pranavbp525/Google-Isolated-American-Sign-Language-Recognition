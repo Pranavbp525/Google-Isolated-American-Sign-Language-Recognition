{
 "cells": [
  {
   "cell_type": "code",
   "execution_count": 2,
   "id": "3cbcfb51",
   "metadata": {
    "execution": {
     "iopub.execute_input": "2023-04-28T00:24:07.677663Z",
     "iopub.status.busy": "2023-04-28T00:24:07.676737Z",
     "iopub.status.idle": "2023-04-28T00:24:07.684087Z",
     "shell.execute_reply": "2023-04-28T00:24:07.683004Z",
     "shell.execute_reply.started": "2023-04-28T00:24:07.677612Z"
    }
   },
   "outputs": [],
   "source": [
    "import torch\n",
    "import numpy as np\n",
    "import pandas as pd\n",
    "import matplotlib.pyplot as plt\n",
    "from tqdm import tqdm\n",
    "import torch.nn as nn\n",
    "from torch.utils.data import Dataset\n",
    "from torch.utils.data import DataLoader\n",
    "import torchvision.transforms.functional as TF\n",
    "import os\n",
    "import math\n",
    "import random\n",
    "import pyarrow.parquet as pq"
   ]
  },
  {
   "cell_type": "code",
   "execution_count": 3,
   "id": "88600c86",
   "metadata": {
    "execution": {
     "iopub.execute_input": "2023-04-28T00:24:08.153454Z",
     "iopub.status.busy": "2023-04-28T00:24:08.152958Z",
     "iopub.status.idle": "2023-04-28T00:24:08.160671Z",
     "shell.execute_reply": "2023-04-28T00:24:08.159610Z",
     "shell.execute_reply.started": "2023-04-28T00:24:08.153408Z"
    }
   },
   "outputs": [
    {
     "name": "stdout",
     "output_type": "stream",
     "text": [
      "Using device: cuda\n"
     ]
    }
   ],
   "source": [
    "device = torch.device('cuda' if torch.cuda.is_available() else 'cpu')\n",
    "print('Using device:', device)"
   ]
  },
  {
   "cell_type": "code",
   "execution_count": 4,
   "id": "0f6eff4f",
   "metadata": {
    "execution": {
     "iopub.execute_input": "2023-04-28T00:24:09.121859Z",
     "iopub.status.busy": "2023-04-28T00:24:09.121391Z",
     "iopub.status.idle": "2023-04-28T00:24:09.133603Z",
     "shell.execute_reply": "2023-04-28T00:24:09.132439Z",
     "shell.execute_reply.started": "2023-04-28T00:24:09.121816Z"
    }
   },
   "outputs": [],
   "source": [
    "def is_parquet_file(filename):\n",
    "    return (filename[0].endswith(\".parquet\"))\n",
    "\n",
    "class LandmarkDataset(Dataset):\n",
    "    def __init__(self, data, labels):\n",
    "        \n",
    "        \n",
    "        self.labels = torch.LongTensor(labels).to(device)\n",
    "        self.landmark_filenames = ['/kaggle/input/ml-asl-project/'+x[0] for x in data if is_parquet_file(x)]\n",
    "        self.data = [torch.FloatTensor(pd.read_parquet(path).values).to(device) for path in tqdm(self.landmark_filenames,desc='Loading data', total=len(self.landmark_filenames))]\n",
    "\n",
    "    def __len__(self):\n",
    "        return len(self.data)\n",
    "\n",
    "    def __getitem__(self, idx):\n",
    "        \n",
    "        \n",
    "        return self.data[idx], self.labels[idx]"
   ]
  },
  {
   "cell_type": "code",
   "execution_count": 5,
   "id": "907ba7af",
   "metadata": {
    "execution": {
     "iopub.execute_input": "2023-04-28T00:24:09.693804Z",
     "iopub.status.busy": "2023-04-28T00:24:09.692998Z",
     "iopub.status.idle": "2023-04-28T00:24:10.010972Z",
     "shell.execute_reply": "2023-04-28T00:24:10.009857Z",
     "shell.execute_reply.started": "2023-04-28T00:24:09.693760Z"
    }
   },
   "outputs": [],
   "source": [
    "data = pd.read_csv(\"/kaggle/input/final-train/final_train.csv\")\n",
    "data = data.drop([\"Unnamed: 0\"], axis = 1)"
   ]
  },
  {
   "cell_type": "code",
   "execution_count": 6,
   "id": "728d1308",
   "metadata": {
    "execution": {
     "iopub.execute_input": "2023-04-28T00:24:10.252759Z",
     "iopub.status.busy": "2023-04-28T00:24:10.252227Z",
     "iopub.status.idle": "2023-04-28T00:24:10.266802Z",
     "shell.execute_reply": "2023-04-28T00:24:10.265385Z",
     "shell.execute_reply.started": "2023-04-28T00:24:10.252714Z"
    }
   },
   "outputs": [
    {
     "data": {
      "text/plain": [
       "array([['dataset4/asl-signs/train_landmark_files/26734/1000035562.parquet'],\n",
       "       ['dataset4/asl-signs/train_landmark_files/28656/1000106739.parquet'],\n",
       "       ['dataset4/asl-signs/train_landmark_files/16069/100015657.parquet'],\n",
       "       ...,\n",
       "       ['dataset4/asl-signs/train_landmark_files/25571/999833418.parquet'],\n",
       "       ['dataset4/asl-signs/train_landmark_files/29302/999895257.parquet'],\n",
       "       ['dataset4/asl-signs/train_landmark_files/36257/999962374.parquet']],\n",
       "      dtype=object)"
      ]
     },
     "execution_count": 6,
     "metadata": {},
     "output_type": "execute_result"
    }
   ],
   "source": [
    "X = data[\"path\"].values\n",
    "X = X.reshape(-1,1)\n",
    "X"
   ]
  },
  {
   "cell_type": "code",
   "execution_count": 7,
   "id": "c48e493f",
   "metadata": {
    "execution": {
     "iopub.execute_input": "2023-04-28T00:24:13.013107Z",
     "iopub.status.busy": "2023-04-28T00:24:13.012735Z",
     "iopub.status.idle": "2023-04-28T00:24:13.020636Z",
     "shell.execute_reply": "2023-04-28T00:24:13.019413Z",
     "shell.execute_reply.started": "2023-04-28T00:24:13.013075Z"
    }
   },
   "outputs": [
    {
     "data": {
      "text/plain": [
       "array([ 25, 232,  48, ...,  86, 188, 105])"
      ]
     },
     "execution_count": 7,
     "metadata": {},
     "output_type": "execute_result"
    }
   ],
   "source": [
    "Y = data[\"label\"].values\n",
    "#Y = Y.reshape(-1,1)\n",
    "Y"
   ]
  },
  {
   "cell_type": "code",
   "execution_count": 8,
   "id": "04bd1ad3",
   "metadata": {
    "execution": {
     "iopub.execute_input": "2023-04-28T00:24:14.940710Z",
     "iopub.status.busy": "2023-04-28T00:24:14.940270Z",
     "iopub.status.idle": "2023-04-28T00:24:14.959288Z",
     "shell.execute_reply": "2023-04-28T00:24:14.958389Z",
     "shell.execute_reply.started": "2023-04-28T00:24:14.940673Z"
    }
   },
   "outputs": [],
   "source": [
    "from sklearn.model_selection import train_test_split\n",
    "X_train, X_test, y_train, y_test = train_test_split(X, Y, test_size=0.1, random_state=42)"
   ]
  },
  {
   "cell_type": "code",
   "execution_count": 9,
   "id": "74578c87",
   "metadata": {
    "execution": {
     "iopub.execute_input": "2023-04-28T00:24:18.257142Z",
     "iopub.status.busy": "2023-04-28T00:24:18.256177Z",
     "iopub.status.idle": "2023-04-28T00:24:18.264501Z",
     "shell.execute_reply": "2023-04-28T00:24:18.263228Z",
     "shell.execute_reply.started": "2023-04-28T00:24:18.257104Z"
    }
   },
   "outputs": [
    {
     "name": "stdout",
     "output_type": "stream",
     "text": [
      "X shape:  (94477, 1)\n",
      "Y shape:  (94477,)\n",
      "X_train shape:  (85029, 1)\n",
      "y_train shape:  (85029,)\n",
      "X_test shape:  (9448, 1)\n",
      "y_test shape:  (9448,)\n"
     ]
    }
   ],
   "source": [
    "print(\"X shape: \",X.shape)\n",
    "print(\"Y shape: \",Y.shape)\n",
    "print(\"X_train shape: \",X_train.shape)\n",
    "print(\"y_train shape: \",y_train.shape)\n",
    "print(\"X_test shape: \",X_test.shape)\n",
    "print(\"y_test shape: \",y_test.shape)"
   ]
  },
  {
   "cell_type": "code",
   "execution_count": 10,
   "id": "2415062c",
   "metadata": {
    "execution": {
     "iopub.execute_input": "2023-04-28T00:24:20.628895Z",
     "iopub.status.busy": "2023-04-28T00:24:20.628432Z",
     "iopub.status.idle": "2023-04-28T01:11:37.590974Z",
     "shell.execute_reply": "2023-04-28T01:11:37.589360Z",
     "shell.execute_reply.started": "2023-04-28T00:24:20.628860Z"
    }
   },
   "outputs": [
    {
     "name": "stderr",
     "output_type": "stream",
     "text": [
      "Loading data: 100%|██████████| 85029/85029 [42:00<00:00, 33.74it/s]\n",
      "Loading data: 100%|██████████| 9448/9448 [05:16<00:00, 29.84it/s]\n"
     ]
    }
   ],
   "source": [
    "train_dataset = LandmarkDataset(X_train, y_train)\n",
    "val_dataset = LandmarkDataset(X_test, y_test)"
   ]
  },
  {
   "cell_type": "code",
   "execution_count": 11,
   "id": "67011e73",
   "metadata": {
    "execution": {
     "iopub.execute_input": "2023-04-28T01:13:33.104166Z",
     "iopub.status.busy": "2023-04-28T01:13:33.103401Z",
     "iopub.status.idle": "2023-04-28T01:13:33.206948Z",
     "shell.execute_reply": "2023-04-28T01:13:33.206023Z",
     "shell.execute_reply.started": "2023-04-28T01:13:33.104128Z"
    }
   },
   "outputs": [
    {
     "data": {
      "text/plain": [
       "(tensor([[ 0.4033,  0.3968,  0.4048,  ...,  0.4906,  0.5191,  0.5397],\n",
       "         [ 0.3956,  0.3968,  0.3964,  ...,  0.4934,  0.5190,  0.5360],\n",
       "         [ 0.3928,  0.3844,  0.3925,  ...,  0.4926,  0.5144,  0.5263],\n",
       "         ...,\n",
       "         [-1.0000, -1.0000, -1.0000,  ..., -1.0000, -1.0000, -1.0000],\n",
       "         [-1.0000, -1.0000, -1.0000,  ..., -1.0000, -1.0000, -1.0000],\n",
       "         [-1.0000, -1.0000, -1.0000,  ..., -1.0000, -1.0000, -1.0000]],\n",
       "        device='cuda:0'),\n",
       " tensor(168, device='cuda:0'))"
      ]
     },
     "execution_count": 11,
     "metadata": {},
     "output_type": "execute_result"
    }
   ],
   "source": [
    "train_dataset[0]"
   ]
  },
  {
   "cell_type": "code",
   "execution_count": 12,
   "id": "e816a942",
   "metadata": {
    "execution": {
     "iopub.execute_input": "2023-04-28T01:13:38.437805Z",
     "iopub.status.busy": "2023-04-28T01:13:38.437120Z",
     "iopub.status.idle": "2023-04-28T01:13:38.443593Z",
     "shell.execute_reply": "2023-04-28T01:13:38.442162Z",
     "shell.execute_reply.started": "2023-04-28T01:13:38.437767Z"
    }
   },
   "outputs": [],
   "source": [
    "train_loader = DataLoader(dataset=train_dataset, batch_size=128, shuffle=True)#, num_workers=8, drop_last=False, pin_memory=True)\n",
    "val_loader = DataLoader(dataset=val_dataset, batch_size=128, shuffle=False)#, num_workers=8, drop_last=False, pin_memory=True)"
   ]
  },
  {
   "cell_type": "code",
   "execution_count": 13,
   "id": "a57a84e6",
   "metadata": {
    "execution": {
     "iopub.execute_input": "2023-04-28T01:13:49.411854Z",
     "iopub.status.busy": "2023-04-28T01:13:49.411170Z",
     "iopub.status.idle": "2023-04-28T01:13:49.424070Z",
     "shell.execute_reply": "2023-04-28T01:13:49.423020Z",
     "shell.execute_reply.started": "2023-04-28T01:13:49.411815Z"
    }
   },
   "outputs": [],
   "source": [
    "class LSTMModel(nn.Module):\n",
    "    def __init__(self, num_features, hidden_size, num_layers, bidirectional, num_classes, batch_first):\n",
    "        super(LSTMModel,self).__init__()\n",
    "        self.num_fearturs = num_features\n",
    "        self.hidden_size = hidden_size\n",
    "        self.num_layers = num_layers\n",
    "        self.bidirectional = bidirectional\n",
    "        self.num_classes = num_classes\n",
    "        self.batch_first = batch_first\n",
    "        self.lstm = nn.LSTM(input_size = num_features, hidden_size = hidden_size, num_layers = num_layers, batch_first = batch_first, bidirectional = bidirectional)\n",
    "        if self.bidirectional:\n",
    "            self.fc = nn.Linear(hidden_size*2, num_classes)\n",
    "        else:\n",
    "            self.fc = nn.Linear(hidden_size, num_classes)\n",
    "        self.embed = nn.Sequential(\n",
    "            nn.Linear(num_features, num_features*2, bias = True),\n",
    "            nn.LayerNorm(num_features*2),\n",
    "            nn.ReLU(inplace = True),\n",
    "            nn.Linear(num_features*2, num_features, bias = True),\n",
    "            nn.LayerNorm(num_features),\n",
    "            nn.ReLU(inplace = True)\n",
    "            )\n",
    "        \n",
    "    def forward(self, x):\n",
    "        x = self.embed(x)\n",
    "        if self.bidirectional:\n",
    "            h0 = torch.zeros(self.num_layers*2, x.shape[0], self.hidden_size).to(x.device)\n",
    "            c0 = torch.zeros(self.num_layers*2, x.shape[0], self.hidden_size).to(x.device)\n",
    "        else:\n",
    "            h0 = torch.zeros(self.num_layers, x.shape[0], self.hidden_size).to(x.device)\n",
    "            c0 = torch.zeros(self.num_layers, x.shape[0], self.hidden_size).to(x.device)\n",
    "        out, _ = self.lstm(x, (h0, c0))\n",
    "        out = out[:, -1, :]\n",
    "        out = self.fc(out)\n",
    "        \n",
    "        return out"
   ]
  },
  {
   "cell_type": "code",
   "execution_count": 5,
   "id": "49229b67",
   "metadata": {
    "execution": {
     "iopub.execute_input": "2023-04-27T00:32:16.855712Z",
     "iopub.status.busy": "2023-04-27T00:32:16.855303Z",
     "iopub.status.idle": "2023-04-27T01:39:27.600049Z",
     "shell.execute_reply": "2023-04-27T01:39:27.598964Z",
     "shell.execute_reply.started": "2023-04-27T00:32:16.855679Z"
    }
   },
   "outputs": [
    {
     "name": "stderr",
     "output_type": "stream",
     "text": [
      "\u001b[32m[I 2023-04-27 00:32:16,870]\u001b[0m A new study created in memory with name: no-name-86b6c8c2-dded-4686-bf36-f469523ee2e6\u001b[0m\n"
     ]
    },
    {
     "name": "stdout",
     "output_type": "stream",
     "text": [
      "{'hidden_size': 160, 'num_layers': 5}\n"
     ]
    },
    {
     "name": "stderr",
     "output_type": "stream",
     "text": [
      "Epoch 1: 100%|██████████| 333/333 [00:25<00:00, 13.11it/s, accuracy=0.0035, loss=5.52, val_accuracy=0.00349, val_loss=5.52]\n",
      "Epoch 2: 100%|██████████| 333/333 [00:25<00:00, 13.10it/s, accuracy=0.00457, loss=5.51, val_accuracy=0.00646, val_loss=5.5] \n",
      "Epoch 3: 100%|██████████| 333/333 [00:25<00:00, 13.12it/s, accuracy=0.00633, loss=5.49, val_accuracy=0.00635, val_loss=5.49]\n",
      "Epoch 4: 100%|██████████| 333/333 [00:25<00:00, 13.12it/s, accuracy=0.0074, loss=5.45, val_accuracy=0.00931, val_loss=5.34]\n",
      "Epoch 5: 100%|██████████| 333/333 [00:25<00:00, 13.11it/s, accuracy=0.0134, loss=5.21, val_accuracy=0.0145, val_loss=5.14]\n",
      "Epoch 6: 100%|██████████| 333/333 [00:25<00:00, 13.13it/s, accuracy=0.0165, loss=5.11, val_accuracy=0.0189, val_loss=5.11] \n",
      "Epoch 7: 100%|██████████| 333/333 [00:25<00:00, 13.11it/s, accuracy=0.0205, loss=5.04, val_accuracy=0.0211, val_loss=5.03]\n",
      "Epoch 8: 100%|██████████| 333/333 [00:25<00:00, 13.12it/s, accuracy=0.0232, loss=5, val_accuracy=0.0219, val_loss=5.01]\n"
     ]
    },
    {
     "name": "stdout",
     "output_type": "stream",
     "text": [
      "\n"
     ]
    },
    {
     "name": "stderr",
     "output_type": "stream",
     "text": [
      "Epoch 9: 100%|██████████| 333/333 [00:25<00:00, 13.12it/s, accuracy=0.019, loss=5.07, val_accuracy=0.0206, val_loss=5.02]\n",
      "Epoch 10: 100%|██████████| 333/333 [00:25<00:00, 13.11it/s, accuracy=0.0222, loss=4.99, val_accuracy=0.0238, val_loss=4.98]\n",
      "\u001b[32m[I 2023-04-27 00:36:30,827]\u001b[0m Trial 0 finished with value: 4.983493392531936 and parameters: {'hidden_size': 160, 'num_layers': 5}. Best is trial 0 with value: 4.983493392531936.\u001b[0m\n"
     ]
    },
    {
     "name": "stdout",
     "output_type": "stream",
     "text": [
      "{'hidden_size': 96, 'num_layers': 7}\n"
     ]
    },
    {
     "name": "stderr",
     "output_type": "stream",
     "text": [
      "Epoch 1: 100%|██████████| 333/333 [00:21<00:00, 15.83it/s, accuracy=0.00339, loss=5.52, val_accuracy=0.0036, val_loss=5.52]  \n",
      "Epoch 2: 100%|██████████| 333/333 [00:21<00:00, 15.81it/s, accuracy=0.0041, loss=5.52, val_accuracy=0.00339, val_loss=5.52]\n",
      "Epoch 3: 100%|██████████| 333/333 [00:21<00:00, 15.76it/s, accuracy=0.00387, loss=5.52, val_accuracy=0.00307, val_loss=5.52]\n",
      "Epoch 4: 100%|██████████| 333/333 [00:21<00:00, 15.77it/s, accuracy=0.00407, loss=5.52, val_accuracy=0.00339, val_loss=5.52]\n",
      "Epoch 5: 100%|██████████| 333/333 [00:21<00:00, 15.73it/s, accuracy=0.00387, loss=5.52, val_accuracy=0.00339, val_loss=5.52]\n",
      "Epoch 6: 100%|██████████| 333/333 [00:21<00:00, 15.75it/s, accuracy=0.00416, loss=5.52, val_accuracy=0.00339, val_loss=5.52]\n",
      "Epoch 7: 100%|██████████| 333/333 [00:21<00:00, 15.82it/s, accuracy=0.00389, loss=5.52, val_accuracy=0.00318, val_loss=5.52]\n",
      "Epoch 8: 100%|██████████| 333/333 [00:21<00:00, 15.79it/s, accuracy=0.00422, loss=5.52, val_accuracy=0.00381, val_loss=5.52]\n"
     ]
    },
    {
     "name": "stdout",
     "output_type": "stream",
     "text": [
      "\n"
     ]
    },
    {
     "name": "stderr",
     "output_type": "stream",
     "text": [
      "Epoch 9: 100%|██████████| 333/333 [00:21<00:00, 15.80it/s, accuracy=0.00407, loss=5.52, val_accuracy=0.00392, val_loss=5.52]\n",
      "Epoch 10: 100%|██████████| 333/333 [00:21<00:00, 15.79it/s, accuracy=0.00409, loss=5.52, val_accuracy=0.00328, val_loss=5.52]\n",
      "\u001b[32m[I 2023-04-27 00:40:01,865]\u001b[0m Trial 1 finished with value: 5.521474825369345 and parameters: {'hidden_size': 96, 'num_layers': 7}. Best is trial 0 with value: 4.983493392531936.\u001b[0m\n"
     ]
    },
    {
     "name": "stdout",
     "output_type": "stream",
     "text": [
      "{'hidden_size': 96, 'num_layers': 2}\n"
     ]
    },
    {
     "name": "stderr",
     "output_type": "stream",
     "text": [
      "Epoch 1: 100%|██████████| 333/333 [00:09<00:00, 33.41it/s, accuracy=0.0042, loss=5.52, val_accuracy=0.00402, val_loss=5.52]\n",
      "Epoch 2: 100%|██████████| 333/333 [00:09<00:00, 33.74it/s, accuracy=0.00385, loss=5.52, val_accuracy=0.00466, val_loss=5.52]\n",
      "Epoch 3: 100%|██████████| 333/333 [00:09<00:00, 33.68it/s, accuracy=0.00429, loss=5.52, val_accuracy=0.00455, val_loss=5.52]\n",
      "Epoch 4: 100%|██████████| 333/333 [00:09<00:00, 33.69it/s, accuracy=0.00407, loss=5.52, val_accuracy=0.00392, val_loss=5.52]\n",
      "Epoch 5: 100%|██████████| 333/333 [00:09<00:00, 33.63it/s, accuracy=0.00534, loss=5.5, val_accuracy=0.00603, val_loss=5.5] \n",
      "Epoch 6: 100%|██████████| 333/333 [00:09<00:00, 33.73it/s, accuracy=0.00597, loss=5.49, val_accuracy=0.00614, val_loss=5.5] \n",
      "Epoch 7: 100%|██████████| 333/333 [00:09<00:00, 33.66it/s, accuracy=0.00715, loss=5.47, val_accuracy=0.00614, val_loss=5.47]\n",
      "Epoch 8: 100%|██████████| 333/333 [00:09<00:00, 33.68it/s, accuracy=0.00826, loss=5.43, val_accuracy=0.00868, val_loss=5.4] \n"
     ]
    },
    {
     "name": "stdout",
     "output_type": "stream",
     "text": [
      "\n"
     ]
    },
    {
     "name": "stderr",
     "output_type": "stream",
     "text": [
      "Epoch 9: 100%|██████████| 333/333 [00:09<00:00, 33.74it/s, accuracy=0.00786, loss=5.41, val_accuracy=0.00773, val_loss=5.36]\n",
      "Epoch 10: 100%|██████████| 333/333 [00:09<00:00, 33.68it/s, accuracy=0.0085, loss=5.28, val_accuracy=0.0121, val_loss=5.18]\n",
      "\u001b[32m[I 2023-04-27 00:41:40,838]\u001b[0m Trial 2 finished with value: 5.177524811512715 and parameters: {'hidden_size': 96, 'num_layers': 2}. Best is trial 0 with value: 4.983493392531936.\u001b[0m\n"
     ]
    },
    {
     "name": "stdout",
     "output_type": "stream",
     "text": [
      "{'hidden_size': 128, 'num_layers': 8}\n"
     ]
    },
    {
     "name": "stderr",
     "output_type": "stream",
     "text": [
      "Epoch 1: 100%|██████████| 333/333 [00:26<00:00, 12.69it/s, accuracy=0.00403, loss=5.52, val_accuracy=0.00561, val_loss=5.52]\n",
      "Epoch 2: 100%|██████████| 333/333 [00:26<00:00, 12.72it/s, accuracy=0.00383, loss=5.52, val_accuracy=0.00328, val_loss=5.52]\n",
      "Epoch 3: 100%|██████████| 333/333 [00:26<00:00, 12.73it/s, accuracy=0.00418, loss=5.52, val_accuracy=0.0036, val_loss=5.52] \n",
      "Epoch 4: 100%|██████████| 333/333 [00:26<00:00, 12.75it/s, accuracy=0.00421, loss=5.52, val_accuracy=0.00328, val_loss=5.52]\n",
      "Epoch 5: 100%|██████████| 333/333 [00:26<00:00, 12.75it/s, accuracy=0.00428, loss=5.52, val_accuracy=0.00328, val_loss=5.52]\n",
      "Epoch 6: 100%|██████████| 333/333 [00:26<00:00, 12.75it/s, accuracy=0.00418, loss=5.52, val_accuracy=0.00328, val_loss=5.52]\n",
      "Epoch 7: 100%|██████████| 333/333 [00:26<00:00, 12.70it/s, accuracy=0.00414, loss=5.52, val_accuracy=0.00296, val_loss=5.52]\n",
      "Epoch 8: 100%|██████████| 333/333 [00:26<00:00, 12.78it/s, accuracy=0.00439, loss=5.52, val_accuracy=0.00434, val_loss=5.52]\n"
     ]
    },
    {
     "name": "stdout",
     "output_type": "stream",
     "text": [
      "\n"
     ]
    },
    {
     "name": "stderr",
     "output_type": "stream",
     "text": [
      "Epoch 9: 100%|██████████| 333/333 [00:26<00:00, 12.71it/s, accuracy=0.00436, loss=5.52, val_accuracy=0.00328, val_loss=5.52]\n",
      "Epoch 10: 100%|██████████| 333/333 [00:26<00:00, 12.72it/s, accuracy=0.00412, loss=5.52, val_accuracy=0.00339, val_loss=5.52]\n",
      "\u001b[32m[I 2023-04-27 00:46:02,518]\u001b[0m Trial 3 finished with value: 5.522565777237351 and parameters: {'hidden_size': 128, 'num_layers': 8}. Best is trial 0 with value: 4.983493392531936.\u001b[0m\n"
     ]
    },
    {
     "name": "stdout",
     "output_type": "stream",
     "text": [
      "{'hidden_size': 128, 'num_layers': 1}\n"
     ]
    },
    {
     "name": "stderr",
     "output_type": "stream",
     "text": [
      "Epoch 1: 100%|██████████| 333/333 [00:08<00:00, 38.54it/s, accuracy=0.00381, loss=5.52, val_accuracy=0.0055, val_loss=5.52] \n",
      "Epoch 2: 100%|██████████| 333/333 [00:08<00:00, 38.58it/s, accuracy=0.00416, loss=5.52, val_accuracy=0.00423, val_loss=5.52]\n",
      "Epoch 3: 100%|██████████| 333/333 [00:08<00:00, 38.63it/s, accuracy=0.00363, loss=5.52, val_accuracy=0.00423, val_loss=5.52]\n",
      "Epoch 4: 100%|██████████| 333/333 [00:08<00:00, 38.54it/s, accuracy=0.00375, loss=5.52, val_accuracy=0.00381, val_loss=5.52]\n",
      "Epoch 5: 100%|██████████| 333/333 [00:08<00:00, 38.58it/s, accuracy=0.00393, loss=5.52, val_accuracy=0.00339, val_loss=5.52]\n",
      "Epoch 6: 100%|██████████| 333/333 [00:08<00:00, 38.56it/s, accuracy=0.00413, loss=5.52, val_accuracy=0.00445, val_loss=5.52]\n",
      "Epoch 7: 100%|██████████| 333/333 [00:08<00:00, 38.36it/s, accuracy=0.00445, loss=5.52, val_accuracy=0.00445, val_loss=5.52]\n",
      "Epoch 8: 100%|██████████| 333/333 [00:08<00:00, 38.54it/s, accuracy=0.00472, loss=5.52, val_accuracy=0.00466, val_loss=5.52]\n"
     ]
    },
    {
     "name": "stdout",
     "output_type": "stream",
     "text": [
      "\n"
     ]
    },
    {
     "name": "stderr",
     "output_type": "stream",
     "text": [
      "Epoch 9: 100%|██████████| 333/333 [00:08<00:00, 38.57it/s, accuracy=0.00447, loss=5.52, val_accuracy=0.00381, val_loss=5.52]\n",
      "Epoch 10: 100%|██████████| 333/333 [00:08<00:00, 38.55it/s, accuracy=0.00442, loss=5.52, val_accuracy=0.00497, val_loss=5.52]\n",
      "\u001b[32m[I 2023-04-27 00:47:28,967]\u001b[0m Trial 4 finished with value: 5.519601989436794 and parameters: {'hidden_size': 128, 'num_layers': 1}. Best is trial 0 with value: 4.983493392531936.\u001b[0m\n"
     ]
    },
    {
     "name": "stdout",
     "output_type": "stream",
     "text": [
      "{'hidden_size': 256, 'num_layers': 7}\n"
     ]
    },
    {
     "name": "stderr",
     "output_type": "stream",
     "text": [
      "Epoch 1: 100%|██████████| 333/333 [00:48<00:00,  6.86it/s, accuracy=0.00408, loss=5.52, val_accuracy=0.00296, val_loss=5.52]\n",
      "Epoch 2: 100%|██████████| 333/333 [00:48<00:00,  6.85it/s, accuracy=0.00418, loss=5.52, val_accuracy=0.00434, val_loss=5.52]\n",
      "Epoch 3: 100%|██████████| 333/333 [00:48<00:00,  6.86it/s, accuracy=0.00399, loss=5.52, val_accuracy=0.00466, val_loss=5.52]\n",
      "Epoch 4: 100%|██████████| 333/333 [00:48<00:00,  6.86it/s, accuracy=0.00418, loss=5.52, val_accuracy=0.00296, val_loss=5.52]\n",
      "Epoch 5: 100%|██████████| 333/333 [00:48<00:00,  6.86it/s, accuracy=0.00427, loss=5.52, val_accuracy=0.00339, val_loss=5.52]\n",
      "Epoch 6: 100%|██████████| 333/333 [00:48<00:00,  6.85it/s, accuracy=0.00427, loss=5.52, val_accuracy=0.00296, val_loss=5.52]\n",
      "Epoch 7: 100%|██████████| 333/333 [00:48<00:00,  6.86it/s, accuracy=0.00389, loss=5.52, val_accuracy=0.00296, val_loss=5.52]\n",
      "Epoch 8: 100%|██████████| 333/333 [00:48<00:00,  6.86it/s, accuracy=0.00401, loss=5.52, val_accuracy=0.00296, val_loss=5.52]\n"
     ]
    },
    {
     "name": "stdout",
     "output_type": "stream",
     "text": [
      "\n"
     ]
    },
    {
     "name": "stderr",
     "output_type": "stream",
     "text": [
      "Epoch 9: 100%|██████████| 333/333 [00:48<00:00,  6.85it/s, accuracy=0.0041, loss=5.52, val_accuracy=0.0036, val_loss=5.52] \n",
      "Epoch 10: 100%|██████████| 333/333 [00:48<00:00,  6.86it/s, accuracy=0.0042, loss=5.52, val_accuracy=0.00434, val_loss=5.52]\n",
      "\u001b[32m[I 2023-04-27 00:55:34,734]\u001b[0m Trial 5 finished with value: 5.522268849450189 and parameters: {'hidden_size': 256, 'num_layers': 7}. Best is trial 0 with value: 4.983493392531936.\u001b[0m\n"
     ]
    },
    {
     "name": "stdout",
     "output_type": "stream",
     "text": [
      "{'hidden_size': 160, 'num_layers': 1}\n"
     ]
    },
    {
     "name": "stderr",
     "output_type": "stream",
     "text": [
      "Epoch 1: 100%|██████████| 333/333 [00:09<00:00, 33.57it/s, accuracy=0.00403, loss=5.52, val_accuracy=0.0037, val_loss=5.52] \n",
      "Epoch 2: 100%|██████████| 333/333 [00:09<00:00, 33.62it/s, accuracy=0.00376, loss=5.52, val_accuracy=0.0037, val_loss=5.52] \n",
      "Epoch 3: 100%|██████████| 333/333 [00:09<00:00, 33.65it/s, accuracy=0.00374, loss=5.52, val_accuracy=0.0037, val_loss=5.52] \n",
      "Epoch 4: 100%|██████████| 333/333 [00:09<00:00, 33.62it/s, accuracy=0.0041, loss=5.52, val_accuracy=0.00392, val_loss=5.52]\n",
      "Epoch 5: 100%|██████████| 333/333 [00:09<00:00, 33.54it/s, accuracy=0.00455, loss=5.52, val_accuracy=0.00466, val_loss=5.52]\n",
      "Epoch 6: 100%|██████████| 333/333 [00:09<00:00, 33.51it/s, accuracy=0.00469, loss=5.52, val_accuracy=0.00402, val_loss=5.52]\n",
      "Epoch 7: 100%|██████████| 333/333 [00:09<00:00, 33.51it/s, accuracy=0.00487, loss=5.52, val_accuracy=0.00423, val_loss=5.52]\n",
      "Epoch 8: 100%|██████████| 333/333 [00:09<00:00, 33.57it/s, accuracy=0.00467, loss=5.52, val_accuracy=0.00455, val_loss=5.52]\n"
     ]
    },
    {
     "name": "stdout",
     "output_type": "stream",
     "text": [
      "\n"
     ]
    },
    {
     "name": "stderr",
     "output_type": "stream",
     "text": [
      "Epoch 9: 100%|██████████| 333/333 [00:09<00:00, 33.55it/s, accuracy=0.00508, loss=5.51, val_accuracy=0.00529, val_loss=5.51]\n",
      "Epoch 10: 100%|██████████| 333/333 [00:09<00:00, 33.37it/s, accuracy=0.00585, loss=5.5, val_accuracy=0.00614, val_loss=5.5] \n",
      "\u001b[32m[I 2023-04-27 00:57:14,042]\u001b[0m Trial 6 finished with value: 5.500430493741422 and parameters: {'hidden_size': 160, 'num_layers': 1}. Best is trial 0 with value: 4.983493392531936.\u001b[0m\n"
     ]
    },
    {
     "name": "stdout",
     "output_type": "stream",
     "text": [
      "{'hidden_size': 192, 'num_layers': 6}\n"
     ]
    },
    {
     "name": "stderr",
     "output_type": "stream",
     "text": [
      "Epoch 1: 100%|██████████| 333/333 [00:32<00:00, 10.10it/s, accuracy=0.00406, loss=5.52, val_accuracy=0.0037, val_loss=5.52] \n",
      "Epoch 2: 100%|██████████| 333/333 [00:32<00:00, 10.11it/s, accuracy=0.00423, loss=5.52, val_accuracy=0.00307, val_loss=5.52]\n",
      "Epoch 3: 100%|██████████| 333/333 [00:32<00:00, 10.10it/s, accuracy=0.00396, loss=5.52, val_accuracy=0.00328, val_loss=5.52]\n",
      "Epoch 4: 100%|██████████| 333/333 [00:32<00:00, 10.13it/s, accuracy=0.00475, loss=5.52, val_accuracy=0.00328, val_loss=5.52]\n",
      "Epoch 5: 100%|██████████| 333/333 [00:32<00:00, 10.15it/s, accuracy=0.00457, loss=5.52, val_accuracy=0.00445, val_loss=5.52]\n",
      "Epoch 6: 100%|██████████| 333/333 [00:32<00:00, 10.12it/s, accuracy=0.00453, loss=5.52, val_accuracy=0.00466, val_loss=5.52]\n",
      "Epoch 7: 100%|██████████| 333/333 [00:33<00:00, 10.09it/s, accuracy=0.00476, loss=5.52, val_accuracy=0.00466, val_loss=5.52]\n",
      "Epoch 8: 100%|██████████| 333/333 [00:32<00:00, 10.10it/s, accuracy=0.00479, loss=5.52, val_accuracy=0.00455, val_loss=5.52]\n"
     ]
    },
    {
     "name": "stdout",
     "output_type": "stream",
     "text": [
      "\n"
     ]
    },
    {
     "name": "stderr",
     "output_type": "stream",
     "text": [
      "Epoch 9: 100%|██████████| 333/333 [00:33<00:00, 10.08it/s, accuracy=0.00462, loss=5.52, val_accuracy=0.00466, val_loss=5.52]\n",
      "Epoch 10: 100%|██████████| 333/333 [00:32<00:00, 10.11it/s, accuracy=0.00483, loss=5.52, val_accuracy=0.00445, val_loss=5.52]\n",
      "\u001b[32m[I 2023-04-27 01:02:43,526]\u001b[0m Trial 7 finished with value: 5.520130299233101 and parameters: {'hidden_size': 192, 'num_layers': 6}. Best is trial 0 with value: 4.983493392531936.\u001b[0m\n"
     ]
    },
    {
     "name": "stdout",
     "output_type": "stream",
     "text": [
      "{'hidden_size': 128, 'num_layers': 1}\n"
     ]
    },
    {
     "name": "stderr",
     "output_type": "stream",
     "text": [
      "Epoch 1: 100%|██████████| 333/333 [00:08<00:00, 38.46it/s, accuracy=0.00367, loss=5.52, val_accuracy=0.00307, val_loss=5.52]\n",
      "Epoch 2: 100%|██████████| 333/333 [00:08<00:00, 38.50it/s, accuracy=0.00373, loss=5.52, val_accuracy=0.00402, val_loss=5.52]\n",
      "Epoch 3: 100%|██████████| 333/333 [00:08<00:00, 38.46it/s, accuracy=0.00367, loss=5.52, val_accuracy=0.00328, val_loss=5.52]\n",
      "Epoch 4: 100%|██████████| 333/333 [00:08<00:00, 38.49it/s, accuracy=0.00403, loss=5.52, val_accuracy=0.00296, val_loss=5.52] \n",
      "Epoch 5: 100%|██████████| 333/333 [00:08<00:00, 38.51it/s, accuracy=0.00459, loss=5.52, val_accuracy=0.00392, val_loss=5.52]\n",
      "Epoch 6: 100%|██████████| 333/333 [00:08<00:00, 38.39it/s, accuracy=0.00456, loss=5.52, val_accuracy=0.00349, val_loss=5.52]\n",
      "Epoch 7: 100%|██████████| 333/333 [00:08<00:00, 38.49it/s, accuracy=0.00475, loss=5.52, val_accuracy=0.00434, val_loss=5.52]\n",
      "Epoch 8: 100%|██████████| 333/333 [00:08<00:00, 38.63it/s, accuracy=0.00462, loss=5.52, val_accuracy=0.00318, val_loss=5.52]\n"
     ]
    },
    {
     "name": "stdout",
     "output_type": "stream",
     "text": [
      "\n"
     ]
    },
    {
     "name": "stderr",
     "output_type": "stream",
     "text": [
      "Epoch 9: 100%|██████████| 333/333 [00:08<00:00, 38.61it/s, accuracy=0.00537, loss=5.51, val_accuracy=0.00402, val_loss=5.5] \n",
      "Epoch 10: 100%|██████████| 333/333 [00:08<00:00, 38.42it/s, accuracy=0.00619, loss=5.49, val_accuracy=0.00519, val_loss=5.5] \n",
      "\u001b[32m[I 2023-04-27 01:04:10,080]\u001b[0m Trial 8 finished with value: 5.499425475661819 and parameters: {'hidden_size': 128, 'num_layers': 1}. Best is trial 0 with value: 4.983493392531936.\u001b[0m\n"
     ]
    },
    {
     "name": "stdout",
     "output_type": "stream",
     "text": [
      "{'hidden_size': 192, 'num_layers': 4}\n"
     ]
    },
    {
     "name": "stderr",
     "output_type": "stream",
     "text": [
      "Epoch 1: 100%|██████████| 333/333 [00:23<00:00, 14.13it/s, accuracy=0.00401, loss=5.52, val_accuracy=0.0037, val_loss=5.52] \n",
      "Epoch 2: 100%|██████████| 333/333 [00:23<00:00, 14.09it/s, accuracy=0.00405, loss=5.52, val_accuracy=0.00349, val_loss=5.52]\n",
      "Epoch 3: 100%|██████████| 333/333 [00:23<00:00, 14.08it/s, accuracy=0.00416, loss=5.52, val_accuracy=0.0055, val_loss=5.52] \n",
      "Epoch 4: 100%|██████████| 333/333 [00:23<00:00, 14.04it/s, accuracy=0.00472, loss=5.52, val_accuracy=0.0037, val_loss=5.52] \n",
      "Epoch 5: 100%|██████████| 333/333 [00:23<00:00, 14.03it/s, accuracy=0.00423, loss=5.52, val_accuracy=0.00497, val_loss=5.52]\n",
      "Epoch 6: 100%|██████████| 333/333 [00:23<00:00, 14.10it/s, accuracy=0.00479, loss=5.52, val_accuracy=0.0054, val_loss=5.52] \n",
      "Epoch 7: 100%|██████████| 333/333 [00:23<00:00, 14.13it/s, accuracy=0.00481, loss=5.51, val_accuracy=0.00392, val_loss=5.52]\n",
      "Epoch 8: 100%|██████████| 333/333 [00:23<00:00, 14.08it/s, accuracy=0.00501, loss=5.51, val_accuracy=0.00392, val_loss=5.52]\n"
     ]
    },
    {
     "name": "stdout",
     "output_type": "stream",
     "text": [
      "\n"
     ]
    },
    {
     "name": "stderr",
     "output_type": "stream",
     "text": [
      "Epoch 9: 100%|██████████| 333/333 [00:23<00:00, 14.14it/s, accuracy=0.00442, loss=5.52, val_accuracy=0.00392, val_loss=5.52]\n",
      "Epoch 10: 100%|██████████| 333/333 [00:23<00:00, 14.13it/s, accuracy=0.00497, loss=5.51, val_accuracy=0.00466, val_loss=5.52]\n",
      "\u001b[32m[I 2023-04-27 01:08:06,418]\u001b[0m Trial 9 finished with value: 5.520587315430513 and parameters: {'hidden_size': 192, 'num_layers': 4}. Best is trial 0 with value: 4.983493392531936.\u001b[0m\n"
     ]
    },
    {
     "name": "stdout",
     "output_type": "stream",
     "text": [
      "{'hidden_size': 64, 'num_layers': 4}\n"
     ]
    },
    {
     "name": "stderr",
     "output_type": "stream",
     "text": [
      "Epoch 1: 100%|██████████| 333/333 [00:10<00:00, 32.96it/s, accuracy=0.00373, loss=5.52, val_accuracy=0.0036, val_loss=5.52] \n",
      "Epoch 2: 100%|██████████| 333/333 [00:10<00:00, 31.83it/s, accuracy=0.00369, loss=5.52, val_accuracy=0.00402, val_loss=5.52]\n",
      "Epoch 3: 100%|██████████| 333/333 [00:10<00:00, 32.84it/s, accuracy=0.00454, loss=5.51, val_accuracy=0.00593, val_loss=5.5] \n",
      "Epoch 4: 100%|██████████| 333/333 [00:10<00:00, 32.98it/s, accuracy=0.00565, loss=5.49, val_accuracy=0.00572, val_loss=5.5] \n",
      "Epoch 5: 100%|██████████| 333/333 [00:10<00:00, 31.47it/s, accuracy=0.00569, loss=5.49, val_accuracy=0.00519, val_loss=5.49]\n",
      "Epoch 6: 100%|██████████| 333/333 [00:10<00:00, 32.91it/s, accuracy=0.00699, loss=5.44, val_accuracy=0.00624, val_loss=5.38]\n",
      "Epoch 7: 100%|██████████| 333/333 [00:10<00:00, 33.01it/s, accuracy=0.00882, loss=5.35, val_accuracy=0.00804, val_loss=5.31]\n",
      "Epoch 8: 100%|██████████| 333/333 [00:10<00:00, 30.51it/s, accuracy=0.00982, loss=5.3, val_accuracy=0.00773, val_loss=5.28]\n"
     ]
    },
    {
     "name": "stdout",
     "output_type": "stream",
     "text": [
      "\n"
     ]
    },
    {
     "name": "stderr",
     "output_type": "stream",
     "text": [
      "Epoch 9: 100%|██████████| 333/333 [00:10<00:00, 32.80it/s, accuracy=0.00909, loss=5.31, val_accuracy=0.00953, val_loss=5.28]\n",
      "Epoch 10: 100%|██████████| 333/333 [00:10<00:00, 32.64it/s, accuracy=0.0122, loss=5.2, val_accuracy=0.0135, val_loss=5.16] \n",
      "\u001b[32m[I 2023-04-27 01:09:49,335]\u001b[0m Trial 10 finished with value: 5.161530945752118 and parameters: {'hidden_size': 64, 'num_layers': 4}. Best is trial 0 with value: 4.983493392531936.\u001b[0m\n"
     ]
    },
    {
     "name": "stdout",
     "output_type": "stream",
     "text": [
      "{'hidden_size': 64, 'num_layers': 4}\n"
     ]
    },
    {
     "name": "stderr",
     "output_type": "stream",
     "text": [
      "Epoch 1: 100%|██████████| 333/333 [00:10<00:00, 31.42it/s, accuracy=0.00416, loss=5.52, val_accuracy=0.00318, val_loss=5.52]\n",
      "Epoch 2: 100%|██████████| 333/333 [00:10<00:00, 32.59it/s, accuracy=0.0044, loss=5.52, val_accuracy=0.00381, val_loss=5.52]\n",
      "Epoch 3: 100%|██████████| 333/333 [00:10<00:00, 32.91it/s, accuracy=0.00467, loss=5.52, val_accuracy=0.00466, val_loss=5.52]\n",
      "Epoch 4: 100%|██████████| 333/333 [00:10<00:00, 31.91it/s, accuracy=0.00502, loss=5.5, val_accuracy=0.00487, val_loss=5.5] \n",
      "Epoch 5: 100%|██████████| 333/333 [00:10<00:00, 32.86it/s, accuracy=0.00617, loss=5.49, val_accuracy=0.00582, val_loss=5.5] \n",
      "Epoch 6: 100%|██████████| 333/333 [00:10<00:00, 32.75it/s, accuracy=0.0063, loss=5.48, val_accuracy=0.00529, val_loss=5.5] \n",
      "Epoch 7: 100%|██████████| 333/333 [00:10<00:00, 32.88it/s, accuracy=0.00673, loss=5.46, val_accuracy=0.00773, val_loss=5.43]\n",
      "Epoch 8: 100%|██████████| 333/333 [00:10<00:00, 31.55it/s, accuracy=0.00803, loss=5.4, val_accuracy=0.0073, val_loss=5.37] \n"
     ]
    },
    {
     "name": "stdout",
     "output_type": "stream",
     "text": [
      "\n"
     ]
    },
    {
     "name": "stderr",
     "output_type": "stream",
     "text": [
      "Epoch 9: 100%|██████████| 333/333 [00:10<00:00, 32.69it/s, accuracy=0.00848, loss=5.36, val_accuracy=0.0108, val_loss=5.26] \n",
      "Epoch 10: 100%|██████████| 333/333 [00:10<00:00, 32.85it/s, accuracy=0.0109, loss=5.24, val_accuracy=0.0109, val_loss=5.2] \n",
      "\u001b[32m[I 2023-04-27 01:11:32,082]\u001b[0m Trial 11 finished with value: 5.19819536724606 and parameters: {'hidden_size': 64, 'num_layers': 4}. Best is trial 0 with value: 4.983493392531936.\u001b[0m\n"
     ]
    },
    {
     "name": "stdout",
     "output_type": "stream",
     "text": [
      "{'hidden_size': 64, 'num_layers': 5}\n"
     ]
    },
    {
     "name": "stderr",
     "output_type": "stream",
     "text": [
      "Epoch 1: 100%|██████████| 333/333 [00:13<00:00, 25.55it/s, accuracy=0.00383, loss=5.52, val_accuracy=0.00402, val_loss=5.52]\n",
      "Epoch 2: 100%|██████████| 333/333 [00:12<00:00, 25.84it/s, accuracy=0.00407, loss=5.52, val_accuracy=0.00434, val_loss=5.52]\n",
      "Epoch 3: 100%|██████████| 333/333 [00:13<00:00, 25.48it/s, accuracy=0.00414, loss=5.52, val_accuracy=0.0036, val_loss=5.52] \n",
      "Epoch 4: 100%|██████████| 333/333 [00:12<00:00, 25.93it/s, accuracy=0.0047, loss=5.52, val_accuracy=0.00466, val_loss=5.52]\n",
      "Epoch 5: 100%|██████████| 333/333 [00:12<00:00, 26.09it/s, accuracy=0.00479, loss=5.52, val_accuracy=0.00455, val_loss=5.52]\n",
      "Epoch 6: 100%|██████████| 333/333 [00:13<00:00, 25.56it/s, accuracy=0.00474, loss=5.52, val_accuracy=0.00508, val_loss=5.52]\n",
      "Epoch 7: 100%|██████████| 333/333 [00:12<00:00, 26.15it/s, accuracy=0.00526, loss=5.5, val_accuracy=0.0055, val_loss=5.5]  \n",
      "Epoch 8: 100%|██████████| 333/333 [00:13<00:00, 25.36it/s, accuracy=0.00603, loss=5.49, val_accuracy=0.00497, val_loss=5.5] \n"
     ]
    },
    {
     "name": "stdout",
     "output_type": "stream",
     "text": [
      "\n"
     ]
    },
    {
     "name": "stderr",
     "output_type": "stream",
     "text": [
      "Epoch 9: 100%|██████████| 333/333 [00:12<00:00, 25.80it/s, accuracy=0.00673, loss=5.49, val_accuracy=0.00624, val_loss=5.49]\n",
      "Epoch 10: 100%|██████████| 333/333 [00:12<00:00, 25.83it/s, accuracy=0.0071, loss=5.44, val_accuracy=0.00794, val_loss=5.35]\n",
      "\u001b[32m[I 2023-04-27 01:13:41,426]\u001b[0m Trial 12 finished with value: 5.354805675712791 and parameters: {'hidden_size': 64, 'num_layers': 5}. Best is trial 0 with value: 4.983493392531936.\u001b[0m\n"
     ]
    },
    {
     "name": "stdout",
     "output_type": "stream",
     "text": [
      "{'hidden_size': 160, 'num_layers': 3}\n"
     ]
    },
    {
     "name": "stderr",
     "output_type": "stream",
     "text": [
      "Epoch 1: 100%|██████████| 333/333 [00:17<00:00, 18.63it/s, accuracy=0.00401, loss=5.52, val_accuracy=0.00497, val_loss=5.52]\n",
      "Epoch 2: 100%|██████████| 333/333 [00:17<00:00, 18.66it/s, accuracy=0.00415, loss=5.52, val_accuracy=0.0037, val_loss=5.52] \n",
      "Epoch 3: 100%|██████████| 333/333 [00:17<00:00, 18.64it/s, accuracy=0.00563, loss=5.5, val_accuracy=0.00529, val_loss=5.5] \n",
      "Epoch 4: 100%|██████████| 333/333 [00:17<00:00, 18.65it/s, accuracy=0.0063, loss=5.49, val_accuracy=0.00656, val_loss=5.5] \n",
      "Epoch 5: 100%|██████████| 333/333 [00:17<00:00, 18.62it/s, accuracy=0.00662, loss=5.47, val_accuracy=0.00762, val_loss=5.42]\n",
      "Epoch 6: 100%|██████████| 333/333 [00:17<00:00, 18.60it/s, accuracy=0.00955, loss=5.32, val_accuracy=0.0091, val_loss=5.27] \n",
      "Epoch 7: 100%|██████████| 333/333 [00:17<00:00, 18.67it/s, accuracy=0.0105, loss=5.24, val_accuracy=0.0109, val_loss=5.22]\n",
      "Epoch 8: 100%|██████████| 333/333 [00:17<00:00, 18.58it/s, accuracy=0.0127, loss=5.2, val_accuracy=0.0145, val_loss=5.19]\n"
     ]
    },
    {
     "name": "stdout",
     "output_type": "stream",
     "text": [
      "\n"
     ]
    },
    {
     "name": "stderr",
     "output_type": "stream",
     "text": [
      "Epoch 9: 100%|██████████| 333/333 [00:17<00:00, 18.57it/s, accuracy=0.0126, loss=5.22, val_accuracy=0.0103, val_loss=5.2]  \n",
      "Epoch 10: 100%|██████████| 333/333 [00:17<00:00, 18.53it/s, accuracy=0.0161, loss=5.12, val_accuracy=0.0199, val_loss=5.06]\n",
      "\u001b[32m[I 2023-04-27 01:16:40,402]\u001b[0m Trial 13 finished with value: 5.05655337668754 and parameters: {'hidden_size': 160, 'num_layers': 3}. Best is trial 0 with value: 4.983493392531936.\u001b[0m\n"
     ]
    },
    {
     "name": "stdout",
     "output_type": "stream",
     "text": [
      "{'hidden_size': 160, 'num_layers': 3}\n"
     ]
    },
    {
     "name": "stderr",
     "output_type": "stream",
     "text": [
      "Epoch 1: 100%|██████████| 333/333 [00:17<00:00, 18.58it/s, accuracy=0.00402, loss=5.52, val_accuracy=0.00286, val_loss=5.52]\n",
      "Epoch 2: 100%|██████████| 333/333 [00:17<00:00, 18.57it/s, accuracy=0.00413, loss=5.52, val_accuracy=0.0037, val_loss=5.52] \n",
      "Epoch 3: 100%|██████████| 333/333 [00:17<00:00, 18.53it/s, accuracy=0.00475, loss=5.52, val_accuracy=0.00392, val_loss=5.52]\n",
      "Epoch 4: 100%|██████████| 333/333 [00:17<00:00, 18.54it/s, accuracy=0.00485, loss=5.5, val_accuracy=0.0054, val_loss=5.5]  \n",
      "Epoch 5: 100%|██████████| 333/333 [00:17<00:00, 18.59it/s, accuracy=0.0063, loss=5.49, val_accuracy=0.00582, val_loss=5.5] \n",
      "Epoch 6: 100%|██████████| 333/333 [00:17<00:00, 18.59it/s, accuracy=0.00652, loss=5.48, val_accuracy=0.00667, val_loss=5.49]\n",
      "Epoch 7: 100%|██████████| 333/333 [00:17<00:00, 18.64it/s, accuracy=0.00794, loss=5.45, val_accuracy=0.00889, val_loss=5.41]\n",
      "Epoch 8: 100%|██████████| 333/333 [00:17<00:00, 18.63it/s, accuracy=0.00941, loss=5.36, val_accuracy=0.00942, val_loss=5.34]\n"
     ]
    },
    {
     "name": "stdout",
     "output_type": "stream",
     "text": [
      "\n"
     ]
    },
    {
     "name": "stderr",
     "output_type": "stream",
     "text": [
      "Epoch 9: 100%|██████████| 333/333 [00:17<00:00, 18.57it/s, accuracy=0.00877, loss=5.33, val_accuracy=0.00942, val_loss=5.38]\n",
      "Epoch 10: 100%|██████████| 333/333 [00:17<00:00, 18.53it/s, accuracy=0.0113, loss=5.22, val_accuracy=0.0114, val_loss=5.25] \n",
      "\u001b[32m[I 2023-04-27 01:19:39,732]\u001b[0m Trial 14 finished with value: 5.245254787238869 and parameters: {'hidden_size': 160, 'num_layers': 3}. Best is trial 0 with value: 4.983493392531936.\u001b[0m\n"
     ]
    },
    {
     "name": "stdout",
     "output_type": "stream",
     "text": [
      "{'hidden_size': 160, 'num_layers': 3}\n"
     ]
    },
    {
     "name": "stderr",
     "output_type": "stream",
     "text": [
      "Epoch 1: 100%|██████████| 333/333 [00:18<00:00, 18.49it/s, accuracy=0.00399, loss=5.52, val_accuracy=0.00434, val_loss=5.52]\n",
      "Epoch 2: 100%|██████████| 333/333 [00:18<00:00, 18.49it/s, accuracy=0.00435, loss=5.52, val_accuracy=0.00339, val_loss=5.52]\n",
      "Epoch 3: 100%|██████████| 333/333 [00:18<00:00, 18.49it/s, accuracy=0.00456, loss=5.52, val_accuracy=0.00434, val_loss=5.52]\n",
      "Epoch 4: 100%|██████████| 333/333 [00:18<00:00, 18.44it/s, accuracy=0.00443, loss=5.52, val_accuracy=0.00445, val_loss=5.52]\n",
      "Epoch 5: 100%|██████████| 333/333 [00:17<00:00, 18.51it/s, accuracy=0.00468, loss=5.52, val_accuracy=0.00392, val_loss=5.52]\n",
      "Epoch 6: 100%|██████████| 333/333 [00:18<00:00, 18.50it/s, accuracy=0.00485, loss=5.52, val_accuracy=0.00476, val_loss=5.52]\n",
      "Epoch 7: 100%|██████████| 333/333 [00:17<00:00, 18.50it/s, accuracy=0.00465, loss=5.52, val_accuracy=0.00402, val_loss=5.52]\n",
      "Epoch 8: 100%|██████████| 333/333 [00:18<00:00, 18.47it/s, accuracy=0.00492, loss=5.52, val_accuracy=0.00402, val_loss=5.52]\n"
     ]
    },
    {
     "name": "stdout",
     "output_type": "stream",
     "text": [
      "\n"
     ]
    },
    {
     "name": "stderr",
     "output_type": "stream",
     "text": [
      "Epoch 9: 100%|██████████| 333/333 [00:17<00:00, 18.61it/s, accuracy=0.0046, loss=5.52, val_accuracy=0.00392, val_loss=5.52]\n",
      "Epoch 10: 100%|██████████| 333/333 [00:17<00:00, 18.62it/s, accuracy=0.00485, loss=5.52, val_accuracy=0.00392, val_loss=5.52]\n",
      "\u001b[32m[I 2023-04-27 01:22:39,679]\u001b[0m Trial 15 finished with value: 5.521239345138137 and parameters: {'hidden_size': 160, 'num_layers': 3}. Best is trial 0 with value: 4.983493392531936.\u001b[0m\n"
     ]
    },
    {
     "name": "stdout",
     "output_type": "stream",
     "text": [
      "{'hidden_size': 160, 'num_layers': 5}\n"
     ]
    },
    {
     "name": "stderr",
     "output_type": "stream",
     "text": [
      "Epoch 1: 100%|██████████| 333/333 [00:25<00:00, 13.11it/s, accuracy=0.00403, loss=5.52, val_accuracy=0.00381, val_loss=5.52]\n",
      "Epoch 2: 100%|██████████| 333/333 [00:25<00:00, 13.12it/s, accuracy=0.00375, loss=5.52, val_accuracy=0.00455, val_loss=5.52]\n",
      "Epoch 3: 100%|██████████| 333/333 [00:25<00:00, 13.11it/s, accuracy=0.00501, loss=5.51, val_accuracy=0.00624, val_loss=5.51]\n",
      "Epoch 4: 100%|██████████| 333/333 [00:25<00:00, 13.12it/s, accuracy=0.00602, loss=5.49, val_accuracy=0.00667, val_loss=5.5] \n",
      "Epoch 5: 100%|██████████| 333/333 [00:25<00:00, 13.06it/s, accuracy=0.0066, loss=5.49, val_accuracy=0.00582, val_loss=5.49]\n",
      "Epoch 6: 100%|██████████| 333/333 [00:25<00:00, 13.06it/s, accuracy=0.00655, loss=5.48, val_accuracy=0.00762, val_loss=5.48]\n",
      "Epoch 7: 100%|██████████| 333/333 [00:25<00:00, 13.06it/s, accuracy=0.00741, loss=5.43, val_accuracy=0.00656, val_loss=5.38]\n",
      "Epoch 8: 100%|██████████| 333/333 [00:25<00:00, 13.04it/s, accuracy=0.00942, loss=5.35, val_accuracy=0.0106, val_loss=5.37] \n"
     ]
    },
    {
     "name": "stdout",
     "output_type": "stream",
     "text": [
      "\n"
     ]
    },
    {
     "name": "stderr",
     "output_type": "stream",
     "text": [
      "Epoch 9: 100%|██████████| 333/333 [00:25<00:00, 13.08it/s, accuracy=0.00843, loss=5.36, val_accuracy=0.00942, val_loss=5.25]\n",
      "Epoch 10: 100%|██████████| 333/333 [00:25<00:00, 13.11it/s, accuracy=0.0122, loss=5.19, val_accuracy=0.00942, val_loss=5.22]\n",
      "\u001b[32m[I 2023-04-27 01:26:54,177]\u001b[0m Trial 16 finished with value: 5.223115070446117 and parameters: {'hidden_size': 160, 'num_layers': 5}. Best is trial 0 with value: 4.983493392531936.\u001b[0m\n"
     ]
    },
    {
     "name": "stdout",
     "output_type": "stream",
     "text": [
      "{'hidden_size': 160, 'num_layers': 3}\n"
     ]
    },
    {
     "name": "stderr",
     "output_type": "stream",
     "text": [
      "Epoch 1: 100%|██████████| 333/333 [00:17<00:00, 18.67it/s, accuracy=0.00381, loss=5.52, val_accuracy=0.00572, val_loss=5.52]\n",
      "Epoch 2: 100%|██████████| 333/333 [00:17<00:00, 18.63it/s, accuracy=0.00373, loss=5.52, val_accuracy=0.00413, val_loss=5.52]\n",
      "Epoch 3: 100%|██████████| 333/333 [00:17<00:00, 18.68it/s, accuracy=0.00419, loss=5.52, val_accuracy=0.00402, val_loss=5.52]\n",
      "Epoch 4: 100%|██████████| 333/333 [00:17<00:00, 18.71it/s, accuracy=0.00457, loss=5.52, val_accuracy=0.00445, val_loss=5.52]\n",
      "Epoch 5: 100%|██████████| 333/333 [00:17<00:00, 18.70it/s, accuracy=0.00552, loss=5.51, val_accuracy=0.0055, val_loss=5.5] \n",
      "Epoch 6: 100%|██████████| 333/333 [00:17<00:00, 18.66it/s, accuracy=0.00603, loss=5.49, val_accuracy=0.0055, val_loss=5.49] \n",
      "Epoch 7: 100%|██████████| 333/333 [00:17<00:00, 18.71it/s, accuracy=0.00683, loss=5.47, val_accuracy=0.00635, val_loss=5.46]\n",
      "Epoch 8: 100%|██████████| 333/333 [00:17<00:00, 18.63it/s, accuracy=0.00837, loss=5.4, val_accuracy=0.00826, val_loss=5.36]\n"
     ]
    },
    {
     "name": "stdout",
     "output_type": "stream",
     "text": [
      "\n"
     ]
    },
    {
     "name": "stderr",
     "output_type": "stream",
     "text": [
      "Epoch 9: 100%|██████████| 333/333 [00:17<00:00, 18.67it/s, accuracy=0.00884, loss=5.36, val_accuracy=0.0109, val_loss=5.24] \n",
      "Epoch 10: 100%|██████████| 333/333 [00:17<00:00, 18.65it/s, accuracy=0.0134, loss=5.18, val_accuracy=0.0121, val_loss=5.19]\n",
      "\u001b[32m[I 2023-04-27 01:29:52,599]\u001b[0m Trial 17 finished with value: 5.19024185232214 and parameters: {'hidden_size': 160, 'num_layers': 3}. Best is trial 0 with value: 4.983493392531936.\u001b[0m\n"
     ]
    },
    {
     "name": "stdout",
     "output_type": "stream",
     "text": [
      "{'hidden_size': 256, 'num_layers': 6}\n"
     ]
    },
    {
     "name": "stderr",
     "output_type": "stream",
     "text": [
      "Epoch 1: 100%|██████████| 333/333 [00:43<00:00,  7.71it/s, accuracy=0.00382, loss=5.52, val_accuracy=0.00466, val_loss=5.52]\n",
      "Epoch 2: 100%|██████████| 333/333 [00:42<00:00,  7.75it/s, accuracy=0.00383, loss=5.52, val_accuracy=0.00318, val_loss=5.52]\n",
      "Epoch 3: 100%|██████████| 333/333 [00:43<00:00,  7.73it/s, accuracy=0.0039, loss=5.52, val_accuracy=0.00296, val_loss=5.52]\n",
      "Epoch 4: 100%|██████████| 333/333 [00:43<00:00,  7.74it/s, accuracy=0.00401, loss=5.52, val_accuracy=0.00307, val_loss=5.52]\n",
      "Epoch 5: 100%|██████████| 333/333 [00:43<00:00,  7.74it/s, accuracy=0.00402, loss=5.52, val_accuracy=0.00434, val_loss=5.52]\n",
      "Epoch 6: 100%|██████████| 333/333 [00:43<00:00,  7.74it/s, accuracy=0.00428, loss=5.52, val_accuracy=0.00434, val_loss=5.52]\n",
      "Epoch 7: 100%|██████████| 333/333 [00:43<00:00,  7.72it/s, accuracy=0.00409, loss=5.52, val_accuracy=0.00296, val_loss=5.52]\n",
      "Epoch 8: 100%|██████████| 333/333 [00:43<00:00,  7.74it/s, accuracy=0.00406, loss=5.52, val_accuracy=0.00296, val_loss=5.52]\n"
     ]
    },
    {
     "name": "stdout",
     "output_type": "stream",
     "text": [
      "\n"
     ]
    },
    {
     "name": "stderr",
     "output_type": "stream",
     "text": [
      "Epoch 9: 100%|██████████| 333/333 [00:43<00:00,  7.73it/s, accuracy=0.00419, loss=5.52, val_accuracy=0.00339, val_loss=5.52]\n",
      "Epoch 10: 100%|██████████| 333/333 [00:43<00:00,  7.73it/s, accuracy=0.00425, loss=5.52, val_accuracy=0.0036, val_loss=5.52] \n",
      "\u001b[32m[I 2023-04-27 01:37:03,432]\u001b[0m Trial 18 finished with value: 5.522360402184564 and parameters: {'hidden_size': 256, 'num_layers': 6}. Best is trial 0 with value: 4.983493392531936.\u001b[0m\n"
     ]
    },
    {
     "name": "stdout",
     "output_type": "stream",
     "text": [
      "{'hidden_size': 160, 'num_layers': 2}\n"
     ]
    },
    {
     "name": "stderr",
     "output_type": "stream",
     "text": [
      "Epoch 1: 100%|██████████| 333/333 [00:14<00:00, 23.14it/s, accuracy=0.00416, loss=5.52, val_accuracy=0.00339, val_loss=5.52]\n",
      "Epoch 2: 100%|██████████| 333/333 [00:14<00:00, 23.15it/s, accuracy=0.0038, loss=5.52, val_accuracy=0.00413, val_loss=5.52]\n",
      "Epoch 3: 100%|██████████| 333/333 [00:14<00:00, 23.15it/s, accuracy=0.00446, loss=5.52, val_accuracy=0.00381, val_loss=5.52]\n",
      "Epoch 4: 100%|██████████| 333/333 [00:14<00:00, 23.11it/s, accuracy=0.00553, loss=5.5, val_accuracy=0.00593, val_loss=5.5] \n",
      "Epoch 5: 100%|██████████| 333/333 [00:14<00:00, 23.12it/s, accuracy=0.00616, loss=5.49, val_accuracy=0.00519, val_loss=5.49]\n",
      "Epoch 6: 100%|██████████| 333/333 [00:14<00:00, 23.13it/s, accuracy=0.00626, loss=5.48, val_accuracy=0.00508, val_loss=5.44]\n",
      "Epoch 7: 100%|██████████| 333/333 [00:14<00:00, 23.08it/s, accuracy=0.00747, loss=5.38, val_accuracy=0.00646, val_loss=5.35]\n",
      "Epoch 8: 100%|██████████| 333/333 [00:14<00:00, 23.06it/s, accuracy=0.00896, loss=5.32, val_accuracy=0.00889, val_loss=5.3] \n"
     ]
    },
    {
     "name": "stdout",
     "output_type": "stream",
     "text": [
      "\n"
     ]
    },
    {
     "name": "stderr",
     "output_type": "stream",
     "text": [
      "Epoch 9: 100%|██████████| 333/333 [00:14<00:00, 23.07it/s, accuracy=0.00928, loss=5.31, val_accuracy=0.0107, val_loss=5.22] \n",
      "Epoch 10: 100%|██████████| 333/333 [00:14<00:00, 23.08it/s, accuracy=0.0119, loss=5.19, val_accuracy=0.0162, val_loss=5.14]\n",
      "\u001b[32m[I 2023-04-27 01:39:27,596]\u001b[0m Trial 19 finished with value: 5.14094877243042 and parameters: {'hidden_size': 160, 'num_layers': 2}. Best is trial 0 with value: 4.983493392531936.\u001b[0m\n"
     ]
    }
   ],
   "source": [
    "import optuna\n",
    "from optuna.pruners import MedianPruner\n",
    "\n",
    "def train(params,save_model, trial):\n",
    "    learning_rate = 5e-4\n",
    "    weight_decay = 1e-1\n",
    "    cycle = 8\n",
    "    model = LSTMModel(num_features = 176, hidden_size = params[\"hidden_size\"], num_layers = params['num_layers'], \n",
    "                  bidirectional = False, num_classes = 250, batch_first = True).to(device)\n",
    "    loss_fn = nn.CrossEntropyLoss()\n",
    "    optimizer = torch.optim.AdamW(model.parameters(), lr=learning_rate, weight_decay=weight_decay)\n",
    "    scheduler = torch.optim.lr_scheduler.CosineAnnealingWarmRestarts(optimizer, T_0=cycle, eta_min=learning_rate / 10)\n",
    "    best_loss = float('inf')\n",
    "    saved_state = model.state_dict()\n",
    "\n",
    "    epochs = 10\n",
    "    for epoch in range(epochs):\n",
    "        acc, loss, v_acc, v_loss = 0,0,0,0\n",
    "        \n",
    "        total_batches = len(train_loader)\n",
    "        train_size, train_batches = 0, 0\n",
    "        train_loss, train_correct = 0, 0\n",
    "        val_size, val_batches = 0, 0\n",
    "        val_loss, val_correct = 0, 0\n",
    "        n_offset=1\n",
    "\n",
    "        with tqdm(desc=f'Epoch {epoch+n_offset}', total=total_batches) as bar:\n",
    "\n",
    "            # Training\n",
    "            for batch, (src, y) in enumerate(train_loader):\n",
    "\n",
    "                # Compute prediction and loss\n",
    "                pred = model(src)\n",
    "                loss = loss_fn(pred, y)\n",
    "\n",
    "                # Compute metrics\n",
    "                train_loss += loss.item()\n",
    "                train_correct += (pred.argmax(1) == y).type(torch.float).sum().item()\n",
    "                train_size += len(y)\n",
    "                train_batches += 1\n",
    "\n",
    "                # Backpropagation\n",
    "                optimizer.zero_grad()\n",
    "                loss.backward()\n",
    "                torch.nn.utils.clip_grad_norm_(model.parameters(), 0.5)\n",
    "                optimizer.step()\n",
    "\n",
    "                scheduler.step(epoch + batch / total_batches)\n",
    "\n",
    "                # Update progress bar\n",
    "                bar.update()\n",
    "                bar.set_postfix(accuracy = train_correct / train_size, loss = train_loss / train_batches,\n",
    "                               lr=scheduler.get_last_lr())\n",
    "\n",
    "            bar.set_postfix(accuracy = train_correct / train_size, loss = train_loss / train_batches)\n",
    "            #scheduler.step()\n",
    "\n",
    "            # Validation\n",
    "            with torch.no_grad():\n",
    "\n",
    "                for batch, (src, y) in enumerate(val_loader):\n",
    "\n",
    "                    # Compute prediction and loss\n",
    "                    pred = model(src)\n",
    "                    val_loss += loss_fn(pred, y).item()\n",
    "\n",
    "                    # Compute metrics\n",
    "                    val_correct += (pred.argmax(1) == y).type(torch.float).sum().item()\n",
    "                    val_size += len(y)\n",
    "                    val_batches += 1\n",
    "\n",
    "                    # Update progress bar\n",
    "                    bar.set_postfix(\n",
    "                        accuracy = train_correct / train_size, loss = train_loss / train_batches,\n",
    "                        val_accuracy = val_correct / val_size, val_loss = val_loss / val_batches\n",
    "                    )\n",
    "                    \n",
    "            \n",
    "\n",
    "        if scheduler.T_0 - scheduler.T_cur < 0.1:\n",
    "            print()\n",
    "        acc = train_correct / train_size\n",
    "        loss = train_loss / train_batches\n",
    "        v_acc = val_correct / val_size\n",
    "        v_loss = val_loss / val_batches\n",
    "        \n",
    "        \n",
    "        if v_loss<best_loss:\n",
    "            best_loss = v_loss\n",
    "            if save_model:\n",
    "                saved_state = model.state_dict()\n",
    "        \n",
    "        if trial.should_prune():\n",
    "                raise optuna.TrialPruned()\n",
    "                \n",
    "        \n",
    "            \n",
    "    return best_loss\n",
    "\n",
    "def objective(trial):\n",
    "    params = {\n",
    "        \"hidden_size\": trial.suggest_categorical(\"hidden_size\",[64, 96, 128, 160, 192, 256]),\n",
    "        \"num_layers\" : trial.suggest_int(\"num_layers\",1,8)\n",
    "    }\n",
    "    print(trial.params)\n",
    "    best_val_loss = train(params, False, trial)\n",
    "    return best_val_loss\n",
    "\n",
    "study = optuna.create_study(direction = \"minimize\", pruner=MedianPruner())\n",
    "study.optimize(objective, n_trials=20)\n"
   ]
  },
  {
   "cell_type": "code",
   "execution_count": 7,
   "id": "8b68b386",
   "metadata": {
    "execution": {
     "iopub.execute_input": "2023-04-27T02:01:03.203656Z",
     "iopub.status.busy": "2023-04-27T02:01:03.203237Z",
     "iopub.status.idle": "2023-04-27T02:01:03.215666Z",
     "shell.execute_reply": "2023-04-27T02:01:03.214161Z",
     "shell.execute_reply.started": "2023-04-27T02:01:03.203619Z"
    }
   },
   "outputs": [
    {
     "name": "stdout",
     "output_type": "stream",
     "text": [
      "Study statistics: \n",
      "  Number of finished trials:  20\n",
      "  Number of pruned trials:  0\n",
      "  Number of complete trials:  20\n",
      "Best trial:\n",
      "  Value:  4.983493392531936\n",
      "  Params: \n",
      "    hidden_size: 160\n",
      "    num_layers: 5\n"
     ]
    }
   ],
   "source": [
    "from optuna.trial import TrialState\n",
    "\n",
    "pruned_trials = study.get_trials(deepcopy=False, states=[TrialState.PRUNED])\n",
    "complete_trials = study.get_trials(deepcopy=False, states=[TrialState.COMPLETE])\n",
    "\n",
    "print(\"Study statistics: \")\n",
    "print(\"  Number of finished trials: \", len(study.trials))\n",
    "print(\"  Number of pruned trials: \", len(pruned_trials))\n",
    "print(\"  Number of complete trials: \", len(complete_trials))\n",
    "\n",
    "\n",
    "print(\"Best trial:\")\n",
    "trial_ = study.best_trial\n",
    "\n",
    "print(\"  Value: \", trial_.value)\n",
    "\n",
    "print(\"  Params: \")\n",
    "for key, value in trial_.params.items():\n",
    "    print(\"    {}: {}\".format(key,value))"
   ]
  },
  {
   "cell_type": "code",
   "execution_count": 8,
   "id": "6b80520f",
   "metadata": {
    "execution": {
     "iopub.execute_input": "2023-04-27T02:02:23.693437Z",
     "iopub.status.busy": "2023-04-27T02:02:23.692882Z",
     "iopub.status.idle": "2023-04-27T02:02:24.280666Z",
     "shell.execute_reply": "2023-04-27T02:02:24.279714Z",
     "shell.execute_reply.started": "2023-04-27T02:02:23.693403Z"
    }
   },
   "outputs": [
    {
     "data": {
      "text/html": [
       "        <script type=\"text/javascript\">\n",
       "        window.PlotlyConfig = {MathJaxConfig: 'local'};\n",
       "        if (window.MathJax && window.MathJax.Hub && window.MathJax.Hub.Config) {window.MathJax.Hub.Config({SVG: {font: \"STIX-Web\"}});}\n",
       "        if (typeof require !== 'undefined') {\n",
       "        require.undef(\"plotly\");\n",
       "        requirejs.config({\n",
       "            paths: {\n",
       "                'plotly': ['https://cdn.plot.ly/plotly-2.18.0.min']\n",
       "            }\n",
       "        });\n",
       "        require(['plotly'], function(Plotly) {\n",
       "            window._Plotly = Plotly;\n",
       "        });\n",
       "        }\n",
       "        </script>\n",
       "        "
      ]
     },
     "metadata": {},
     "output_type": "display_data"
    },
    {
     "data": {
      "text/html": [
       "<div>                            <div id=\"8e2ffe4b-8dc8-4c3c-bb33-9bba97045fe7\" class=\"plotly-graph-div\" style=\"height:525px; width:100%;\"></div>            <script type=\"text/javascript\">                require([\"plotly\"], function(Plotly) {                    window.PLOTLYENV=window.PLOTLYENV || {};                                    if (document.getElementById(\"8e2ffe4b-8dc8-4c3c-bb33-9bba97045fe7\")) {                    Plotly.newPlot(                        \"8e2ffe4b-8dc8-4c3c-bb33-9bba97045fe7\",                        [{\"mode\":\"markers\",\"name\":\"Objective Value\",\"x\":[0,1,2,3,4,5,6,7,8,9,10,11,12,13,14,15,16,17,18,19],\"y\":[4.983493392531936,5.521474825369345,5.177524811512715,5.522565777237351,5.519601989436794,5.522268849450189,5.500430493741422,5.520130299233101,5.499425475661819,5.520587315430513,5.161530945752118,5.19819536724606,5.354805675712791,5.05655337668754,5.245254787238869,5.521239345138137,5.223115070446117,5.19024185232214,5.522360402184564,5.14094877243042],\"type\":\"scatter\"},{\"name\":\"Best Value\",\"x\":[0,1,2,3,4,5,6,7,8,9,10,11,12,13,14,15,16,17,18,19],\"y\":[4.983493392531936,4.983493392531936,4.983493392531936,4.983493392531936,4.983493392531936,4.983493392531936,4.983493392531936,4.983493392531936,4.983493392531936,4.983493392531936,4.983493392531936,4.983493392531936,4.983493392531936,4.983493392531936,4.983493392531936,4.983493392531936,4.983493392531936,4.983493392531936,4.983493392531936,4.983493392531936],\"type\":\"scatter\"}],                        {\"title\":{\"text\":\"Optimization History Plot\"},\"xaxis\":{\"title\":{\"text\":\"Trial\"}},\"yaxis\":{\"title\":{\"text\":\"Objective Value\"}},\"template\":{\"data\":{\"histogram2dcontour\":[{\"type\":\"histogram2dcontour\",\"colorbar\":{\"outlinewidth\":0,\"ticks\":\"\"},\"colorscale\":[[0.0,\"#0d0887\"],[0.1111111111111111,\"#46039f\"],[0.2222222222222222,\"#7201a8\"],[0.3333333333333333,\"#9c179e\"],[0.4444444444444444,\"#bd3786\"],[0.5555555555555556,\"#d8576b\"],[0.6666666666666666,\"#ed7953\"],[0.7777777777777778,\"#fb9f3a\"],[0.8888888888888888,\"#fdca26\"],[1.0,\"#f0f921\"]]}],\"choropleth\":[{\"type\":\"choropleth\",\"colorbar\":{\"outlinewidth\":0,\"ticks\":\"\"}}],\"histogram2d\":[{\"type\":\"histogram2d\",\"colorbar\":{\"outlinewidth\":0,\"ticks\":\"\"},\"colorscale\":[[0.0,\"#0d0887\"],[0.1111111111111111,\"#46039f\"],[0.2222222222222222,\"#7201a8\"],[0.3333333333333333,\"#9c179e\"],[0.4444444444444444,\"#bd3786\"],[0.5555555555555556,\"#d8576b\"],[0.6666666666666666,\"#ed7953\"],[0.7777777777777778,\"#fb9f3a\"],[0.8888888888888888,\"#fdca26\"],[1.0,\"#f0f921\"]]}],\"heatmap\":[{\"type\":\"heatmap\",\"colorbar\":{\"outlinewidth\":0,\"ticks\":\"\"},\"colorscale\":[[0.0,\"#0d0887\"],[0.1111111111111111,\"#46039f\"],[0.2222222222222222,\"#7201a8\"],[0.3333333333333333,\"#9c179e\"],[0.4444444444444444,\"#bd3786\"],[0.5555555555555556,\"#d8576b\"],[0.6666666666666666,\"#ed7953\"],[0.7777777777777778,\"#fb9f3a\"],[0.8888888888888888,\"#fdca26\"],[1.0,\"#f0f921\"]]}],\"heatmapgl\":[{\"type\":\"heatmapgl\",\"colorbar\":{\"outlinewidth\":0,\"ticks\":\"\"},\"colorscale\":[[0.0,\"#0d0887\"],[0.1111111111111111,\"#46039f\"],[0.2222222222222222,\"#7201a8\"],[0.3333333333333333,\"#9c179e\"],[0.4444444444444444,\"#bd3786\"],[0.5555555555555556,\"#d8576b\"],[0.6666666666666666,\"#ed7953\"],[0.7777777777777778,\"#fb9f3a\"],[0.8888888888888888,\"#fdca26\"],[1.0,\"#f0f921\"]]}],\"contourcarpet\":[{\"type\":\"contourcarpet\",\"colorbar\":{\"outlinewidth\":0,\"ticks\":\"\"}}],\"contour\":[{\"type\":\"contour\",\"colorbar\":{\"outlinewidth\":0,\"ticks\":\"\"},\"colorscale\":[[0.0,\"#0d0887\"],[0.1111111111111111,\"#46039f\"],[0.2222222222222222,\"#7201a8\"],[0.3333333333333333,\"#9c179e\"],[0.4444444444444444,\"#bd3786\"],[0.5555555555555556,\"#d8576b\"],[0.6666666666666666,\"#ed7953\"],[0.7777777777777778,\"#fb9f3a\"],[0.8888888888888888,\"#fdca26\"],[1.0,\"#f0f921\"]]}],\"surface\":[{\"type\":\"surface\",\"colorbar\":{\"outlinewidth\":0,\"ticks\":\"\"},\"colorscale\":[[0.0,\"#0d0887\"],[0.1111111111111111,\"#46039f\"],[0.2222222222222222,\"#7201a8\"],[0.3333333333333333,\"#9c179e\"],[0.4444444444444444,\"#bd3786\"],[0.5555555555555556,\"#d8576b\"],[0.6666666666666666,\"#ed7953\"],[0.7777777777777778,\"#fb9f3a\"],[0.8888888888888888,\"#fdca26\"],[1.0,\"#f0f921\"]]}],\"mesh3d\":[{\"type\":\"mesh3d\",\"colorbar\":{\"outlinewidth\":0,\"ticks\":\"\"}}],\"scatter\":[{\"fillpattern\":{\"fillmode\":\"overlay\",\"size\":10,\"solidity\":0.2},\"type\":\"scatter\"}],\"parcoords\":[{\"type\":\"parcoords\",\"line\":{\"colorbar\":{\"outlinewidth\":0,\"ticks\":\"\"}}}],\"scatterpolargl\":[{\"type\":\"scatterpolargl\",\"marker\":{\"colorbar\":{\"outlinewidth\":0,\"ticks\":\"\"}}}],\"bar\":[{\"error_x\":{\"color\":\"#2a3f5f\"},\"error_y\":{\"color\":\"#2a3f5f\"},\"marker\":{\"line\":{\"color\":\"#E5ECF6\",\"width\":0.5},\"pattern\":{\"fillmode\":\"overlay\",\"size\":10,\"solidity\":0.2}},\"type\":\"bar\"}],\"scattergeo\":[{\"type\":\"scattergeo\",\"marker\":{\"colorbar\":{\"outlinewidth\":0,\"ticks\":\"\"}}}],\"scatterpolar\":[{\"type\":\"scatterpolar\",\"marker\":{\"colorbar\":{\"outlinewidth\":0,\"ticks\":\"\"}}}],\"histogram\":[{\"marker\":{\"pattern\":{\"fillmode\":\"overlay\",\"size\":10,\"solidity\":0.2}},\"type\":\"histogram\"}],\"scattergl\":[{\"type\":\"scattergl\",\"marker\":{\"colorbar\":{\"outlinewidth\":0,\"ticks\":\"\"}}}],\"scatter3d\":[{\"type\":\"scatter3d\",\"line\":{\"colorbar\":{\"outlinewidth\":0,\"ticks\":\"\"}},\"marker\":{\"colorbar\":{\"outlinewidth\":0,\"ticks\":\"\"}}}],\"scattermapbox\":[{\"type\":\"scattermapbox\",\"marker\":{\"colorbar\":{\"outlinewidth\":0,\"ticks\":\"\"}}}],\"scatterternary\":[{\"type\":\"scatterternary\",\"marker\":{\"colorbar\":{\"outlinewidth\":0,\"ticks\":\"\"}}}],\"scattercarpet\":[{\"type\":\"scattercarpet\",\"marker\":{\"colorbar\":{\"outlinewidth\":0,\"ticks\":\"\"}}}],\"carpet\":[{\"aaxis\":{\"endlinecolor\":\"#2a3f5f\",\"gridcolor\":\"white\",\"linecolor\":\"white\",\"minorgridcolor\":\"white\",\"startlinecolor\":\"#2a3f5f\"},\"baxis\":{\"endlinecolor\":\"#2a3f5f\",\"gridcolor\":\"white\",\"linecolor\":\"white\",\"minorgridcolor\":\"white\",\"startlinecolor\":\"#2a3f5f\"},\"type\":\"carpet\"}],\"table\":[{\"cells\":{\"fill\":{\"color\":\"#EBF0F8\"},\"line\":{\"color\":\"white\"}},\"header\":{\"fill\":{\"color\":\"#C8D4E3\"},\"line\":{\"color\":\"white\"}},\"type\":\"table\"}],\"barpolar\":[{\"marker\":{\"line\":{\"color\":\"#E5ECF6\",\"width\":0.5},\"pattern\":{\"fillmode\":\"overlay\",\"size\":10,\"solidity\":0.2}},\"type\":\"barpolar\"}],\"pie\":[{\"automargin\":true,\"type\":\"pie\"}]},\"layout\":{\"autotypenumbers\":\"strict\",\"colorway\":[\"#636efa\",\"#EF553B\",\"#00cc96\",\"#ab63fa\",\"#FFA15A\",\"#19d3f3\",\"#FF6692\",\"#B6E880\",\"#FF97FF\",\"#FECB52\"],\"font\":{\"color\":\"#2a3f5f\"},\"hovermode\":\"closest\",\"hoverlabel\":{\"align\":\"left\"},\"paper_bgcolor\":\"white\",\"plot_bgcolor\":\"#E5ECF6\",\"polar\":{\"bgcolor\":\"#E5ECF6\",\"angularaxis\":{\"gridcolor\":\"white\",\"linecolor\":\"white\",\"ticks\":\"\"},\"radialaxis\":{\"gridcolor\":\"white\",\"linecolor\":\"white\",\"ticks\":\"\"}},\"ternary\":{\"bgcolor\":\"#E5ECF6\",\"aaxis\":{\"gridcolor\":\"white\",\"linecolor\":\"white\",\"ticks\":\"\"},\"baxis\":{\"gridcolor\":\"white\",\"linecolor\":\"white\",\"ticks\":\"\"},\"caxis\":{\"gridcolor\":\"white\",\"linecolor\":\"white\",\"ticks\":\"\"}},\"coloraxis\":{\"colorbar\":{\"outlinewidth\":0,\"ticks\":\"\"}},\"colorscale\":{\"sequential\":[[0.0,\"#0d0887\"],[0.1111111111111111,\"#46039f\"],[0.2222222222222222,\"#7201a8\"],[0.3333333333333333,\"#9c179e\"],[0.4444444444444444,\"#bd3786\"],[0.5555555555555556,\"#d8576b\"],[0.6666666666666666,\"#ed7953\"],[0.7777777777777778,\"#fb9f3a\"],[0.8888888888888888,\"#fdca26\"],[1.0,\"#f0f921\"]],\"sequentialminus\":[[0.0,\"#0d0887\"],[0.1111111111111111,\"#46039f\"],[0.2222222222222222,\"#7201a8\"],[0.3333333333333333,\"#9c179e\"],[0.4444444444444444,\"#bd3786\"],[0.5555555555555556,\"#d8576b\"],[0.6666666666666666,\"#ed7953\"],[0.7777777777777778,\"#fb9f3a\"],[0.8888888888888888,\"#fdca26\"],[1.0,\"#f0f921\"]],\"diverging\":[[0,\"#8e0152\"],[0.1,\"#c51b7d\"],[0.2,\"#de77ae\"],[0.3,\"#f1b6da\"],[0.4,\"#fde0ef\"],[0.5,\"#f7f7f7\"],[0.6,\"#e6f5d0\"],[0.7,\"#b8e186\"],[0.8,\"#7fbc41\"],[0.9,\"#4d9221\"],[1,\"#276419\"]]},\"xaxis\":{\"gridcolor\":\"white\",\"linecolor\":\"white\",\"ticks\":\"\",\"title\":{\"standoff\":15},\"zerolinecolor\":\"white\",\"automargin\":true,\"zerolinewidth\":2},\"yaxis\":{\"gridcolor\":\"white\",\"linecolor\":\"white\",\"ticks\":\"\",\"title\":{\"standoff\":15},\"zerolinecolor\":\"white\",\"automargin\":true,\"zerolinewidth\":2},\"scene\":{\"xaxis\":{\"backgroundcolor\":\"#E5ECF6\",\"gridcolor\":\"white\",\"linecolor\":\"white\",\"showbackground\":true,\"ticks\":\"\",\"zerolinecolor\":\"white\",\"gridwidth\":2},\"yaxis\":{\"backgroundcolor\":\"#E5ECF6\",\"gridcolor\":\"white\",\"linecolor\":\"white\",\"showbackground\":true,\"ticks\":\"\",\"zerolinecolor\":\"white\",\"gridwidth\":2},\"zaxis\":{\"backgroundcolor\":\"#E5ECF6\",\"gridcolor\":\"white\",\"linecolor\":\"white\",\"showbackground\":true,\"ticks\":\"\",\"zerolinecolor\":\"white\",\"gridwidth\":2}},\"shapedefaults\":{\"line\":{\"color\":\"#2a3f5f\"}},\"annotationdefaults\":{\"arrowcolor\":\"#2a3f5f\",\"arrowhead\":0,\"arrowwidth\":1},\"geo\":{\"bgcolor\":\"white\",\"landcolor\":\"#E5ECF6\",\"subunitcolor\":\"white\",\"showland\":true,\"showlakes\":true,\"lakecolor\":\"white\"},\"title\":{\"x\":0.05},\"mapbox\":{\"style\":\"light\"}}}},                        {\"responsive\": true}                    ).then(function(){\n",
       "                            \n",
       "var gd = document.getElementById('8e2ffe4b-8dc8-4c3c-bb33-9bba97045fe7');\n",
       "var x = new MutationObserver(function (mutations, observer) {{\n",
       "        var display = window.getComputedStyle(gd).display;\n",
       "        if (!display || display === 'none') {{\n",
       "            console.log([gd, 'removed!']);\n",
       "            Plotly.purge(gd);\n",
       "            observer.disconnect();\n",
       "        }}\n",
       "}});\n",
       "\n",
       "// Listen for the removal of the full notebook cells\n",
       "var notebookContainer = gd.closest('#notebook-container');\n",
       "if (notebookContainer) {{\n",
       "    x.observe(notebookContainer, {childList: true});\n",
       "}}\n",
       "\n",
       "// Listen for the clearing of the current output cell\n",
       "var outputEl = gd.closest('.output');\n",
       "if (outputEl) {{\n",
       "    x.observe(outputEl, {childList: true});\n",
       "}}\n",
       "\n",
       "                        })                };                });            </script>        </div>"
      ]
     },
     "metadata": {},
     "output_type": "display_data"
    }
   ],
   "source": [
    "# Visualize the optimization history.\n",
    "from optuna.visualization import plot_contour\n",
    "from optuna.visualization import plot_intermediate_values\n",
    "from optuna.visualization import plot_optimization_history\n",
    "from optuna.visualization import plot_parallel_coordinate\n",
    "from optuna.visualization import plot_param_importances\n",
    "from optuna.visualization import plot_slice\n",
    "plot_optimization_history(study).show()"
   ]
  },
  {
   "cell_type": "code",
   "execution_count": 9,
   "id": "83d76916",
   "metadata": {
    "execution": {
     "iopub.execute_input": "2023-04-27T02:02:28.296933Z",
     "iopub.status.busy": "2023-04-27T02:02:28.296257Z",
     "iopub.status.idle": "2023-04-27T02:02:28.355791Z",
     "shell.execute_reply": "2023-04-27T02:02:28.354210Z",
     "shell.execute_reply.started": "2023-04-27T02:02:28.296893Z"
    }
   },
   "outputs": [
    {
     "data": {
      "text/html": [
       "<div>                            <div id=\"26b6552a-1100-4c86-ad7b-7e0d4865f71b\" class=\"plotly-graph-div\" style=\"height:525px; width:100%;\"></div>            <script type=\"text/javascript\">                require([\"plotly\"], function(Plotly) {                    window.PLOTLYENV=window.PLOTLYENV || {};                                    if (document.getElementById(\"26b6552a-1100-4c86-ad7b-7e0d4865f71b\")) {                    Plotly.newPlot(                        \"26b6552a-1100-4c86-ad7b-7e0d4865f71b\",                        [{\"dimensions\":[{\"label\":\"Objective Value\",\"range\":[4.983493392531936,5.522565777237351],\"values\":[5.161530945752118,5.19819536724606,5.354805675712791,5.521474825369345,5.177524811512715,5.522565777237351,5.519601989436794,5.499425475661819,4.983493392531936,5.500430493741422,5.05655337668754,5.245254787238869,5.521239345138137,5.223115070446117,5.19024185232214,5.14094877243042,5.520130299233101,5.520587315430513,5.522268849450189,5.522360402184564]},{\"label\":\"hidden_size\",\"range\":[0,5],\"ticktext\":[\"64\",\"96\",\"128\",\"160\",\"192\",\"256\"],\"tickvals\":[0,1,2,3,4,5],\"values\":[0,0,0,1,1,2,2,2,3,3,3,3,3,3,3,3,4,4,5,5]},{\"label\":\"num_layers\",\"range\":[1,8],\"values\":[4,4,5,7,2,8,1,1,5,1,3,3,3,5,3,2,6,4,7,6]}],\"labelangle\":30,\"labelside\":\"bottom\",\"line\":{\"color\":[5.161530945752118,5.19819536724606,5.354805675712791,5.521474825369345,5.177524811512715,5.522565777237351,5.519601989436794,5.499425475661819,4.983493392531936,5.500430493741422,5.05655337668754,5.245254787238869,5.521239345138137,5.223115070446117,5.19024185232214,5.14094877243042,5.520130299233101,5.520587315430513,5.522268849450189,5.522360402184564],\"colorbar\":{\"title\":{\"text\":\"Objective Value\"}},\"colorscale\":[[0.0,\"rgb(247,251,255)\"],[0.125,\"rgb(222,235,247)\"],[0.25,\"rgb(198,219,239)\"],[0.375,\"rgb(158,202,225)\"],[0.5,\"rgb(107,174,214)\"],[0.625,\"rgb(66,146,198)\"],[0.75,\"rgb(33,113,181)\"],[0.875,\"rgb(8,81,156)\"],[1.0,\"rgb(8,48,107)\"]],\"reversescale\":true,\"showscale\":true},\"type\":\"parcoords\"}],                        {\"title\":{\"text\":\"Parallel Coordinate Plot\"},\"template\":{\"data\":{\"histogram2dcontour\":[{\"type\":\"histogram2dcontour\",\"colorbar\":{\"outlinewidth\":0,\"ticks\":\"\"},\"colorscale\":[[0.0,\"#0d0887\"],[0.1111111111111111,\"#46039f\"],[0.2222222222222222,\"#7201a8\"],[0.3333333333333333,\"#9c179e\"],[0.4444444444444444,\"#bd3786\"],[0.5555555555555556,\"#d8576b\"],[0.6666666666666666,\"#ed7953\"],[0.7777777777777778,\"#fb9f3a\"],[0.8888888888888888,\"#fdca26\"],[1.0,\"#f0f921\"]]}],\"choropleth\":[{\"type\":\"choropleth\",\"colorbar\":{\"outlinewidth\":0,\"ticks\":\"\"}}],\"histogram2d\":[{\"type\":\"histogram2d\",\"colorbar\":{\"outlinewidth\":0,\"ticks\":\"\"},\"colorscale\":[[0.0,\"#0d0887\"],[0.1111111111111111,\"#46039f\"],[0.2222222222222222,\"#7201a8\"],[0.3333333333333333,\"#9c179e\"],[0.4444444444444444,\"#bd3786\"],[0.5555555555555556,\"#d8576b\"],[0.6666666666666666,\"#ed7953\"],[0.7777777777777778,\"#fb9f3a\"],[0.8888888888888888,\"#fdca26\"],[1.0,\"#f0f921\"]]}],\"heatmap\":[{\"type\":\"heatmap\",\"colorbar\":{\"outlinewidth\":0,\"ticks\":\"\"},\"colorscale\":[[0.0,\"#0d0887\"],[0.1111111111111111,\"#46039f\"],[0.2222222222222222,\"#7201a8\"],[0.3333333333333333,\"#9c179e\"],[0.4444444444444444,\"#bd3786\"],[0.5555555555555556,\"#d8576b\"],[0.6666666666666666,\"#ed7953\"],[0.7777777777777778,\"#fb9f3a\"],[0.8888888888888888,\"#fdca26\"],[1.0,\"#f0f921\"]]}],\"heatmapgl\":[{\"type\":\"heatmapgl\",\"colorbar\":{\"outlinewidth\":0,\"ticks\":\"\"},\"colorscale\":[[0.0,\"#0d0887\"],[0.1111111111111111,\"#46039f\"],[0.2222222222222222,\"#7201a8\"],[0.3333333333333333,\"#9c179e\"],[0.4444444444444444,\"#bd3786\"],[0.5555555555555556,\"#d8576b\"],[0.6666666666666666,\"#ed7953\"],[0.7777777777777778,\"#fb9f3a\"],[0.8888888888888888,\"#fdca26\"],[1.0,\"#f0f921\"]]}],\"contourcarpet\":[{\"type\":\"contourcarpet\",\"colorbar\":{\"outlinewidth\":0,\"ticks\":\"\"}}],\"contour\":[{\"type\":\"contour\",\"colorbar\":{\"outlinewidth\":0,\"ticks\":\"\"},\"colorscale\":[[0.0,\"#0d0887\"],[0.1111111111111111,\"#46039f\"],[0.2222222222222222,\"#7201a8\"],[0.3333333333333333,\"#9c179e\"],[0.4444444444444444,\"#bd3786\"],[0.5555555555555556,\"#d8576b\"],[0.6666666666666666,\"#ed7953\"],[0.7777777777777778,\"#fb9f3a\"],[0.8888888888888888,\"#fdca26\"],[1.0,\"#f0f921\"]]}],\"surface\":[{\"type\":\"surface\",\"colorbar\":{\"outlinewidth\":0,\"ticks\":\"\"},\"colorscale\":[[0.0,\"#0d0887\"],[0.1111111111111111,\"#46039f\"],[0.2222222222222222,\"#7201a8\"],[0.3333333333333333,\"#9c179e\"],[0.4444444444444444,\"#bd3786\"],[0.5555555555555556,\"#d8576b\"],[0.6666666666666666,\"#ed7953\"],[0.7777777777777778,\"#fb9f3a\"],[0.8888888888888888,\"#fdca26\"],[1.0,\"#f0f921\"]]}],\"mesh3d\":[{\"type\":\"mesh3d\",\"colorbar\":{\"outlinewidth\":0,\"ticks\":\"\"}}],\"scatter\":[{\"fillpattern\":{\"fillmode\":\"overlay\",\"size\":10,\"solidity\":0.2},\"type\":\"scatter\"}],\"parcoords\":[{\"type\":\"parcoords\",\"line\":{\"colorbar\":{\"outlinewidth\":0,\"ticks\":\"\"}}}],\"scatterpolargl\":[{\"type\":\"scatterpolargl\",\"marker\":{\"colorbar\":{\"outlinewidth\":0,\"ticks\":\"\"}}}],\"bar\":[{\"error_x\":{\"color\":\"#2a3f5f\"},\"error_y\":{\"color\":\"#2a3f5f\"},\"marker\":{\"line\":{\"color\":\"#E5ECF6\",\"width\":0.5},\"pattern\":{\"fillmode\":\"overlay\",\"size\":10,\"solidity\":0.2}},\"type\":\"bar\"}],\"scattergeo\":[{\"type\":\"scattergeo\",\"marker\":{\"colorbar\":{\"outlinewidth\":0,\"ticks\":\"\"}}}],\"scatterpolar\":[{\"type\":\"scatterpolar\",\"marker\":{\"colorbar\":{\"outlinewidth\":0,\"ticks\":\"\"}}}],\"histogram\":[{\"marker\":{\"pattern\":{\"fillmode\":\"overlay\",\"size\":10,\"solidity\":0.2}},\"type\":\"histogram\"}],\"scattergl\":[{\"type\":\"scattergl\",\"marker\":{\"colorbar\":{\"outlinewidth\":0,\"ticks\":\"\"}}}],\"scatter3d\":[{\"type\":\"scatter3d\",\"line\":{\"colorbar\":{\"outlinewidth\":0,\"ticks\":\"\"}},\"marker\":{\"colorbar\":{\"outlinewidth\":0,\"ticks\":\"\"}}}],\"scattermapbox\":[{\"type\":\"scattermapbox\",\"marker\":{\"colorbar\":{\"outlinewidth\":0,\"ticks\":\"\"}}}],\"scatterternary\":[{\"type\":\"scatterternary\",\"marker\":{\"colorbar\":{\"outlinewidth\":0,\"ticks\":\"\"}}}],\"scattercarpet\":[{\"type\":\"scattercarpet\",\"marker\":{\"colorbar\":{\"outlinewidth\":0,\"ticks\":\"\"}}}],\"carpet\":[{\"aaxis\":{\"endlinecolor\":\"#2a3f5f\",\"gridcolor\":\"white\",\"linecolor\":\"white\",\"minorgridcolor\":\"white\",\"startlinecolor\":\"#2a3f5f\"},\"baxis\":{\"endlinecolor\":\"#2a3f5f\",\"gridcolor\":\"white\",\"linecolor\":\"white\",\"minorgridcolor\":\"white\",\"startlinecolor\":\"#2a3f5f\"},\"type\":\"carpet\"}],\"table\":[{\"cells\":{\"fill\":{\"color\":\"#EBF0F8\"},\"line\":{\"color\":\"white\"}},\"header\":{\"fill\":{\"color\":\"#C8D4E3\"},\"line\":{\"color\":\"white\"}},\"type\":\"table\"}],\"barpolar\":[{\"marker\":{\"line\":{\"color\":\"#E5ECF6\",\"width\":0.5},\"pattern\":{\"fillmode\":\"overlay\",\"size\":10,\"solidity\":0.2}},\"type\":\"barpolar\"}],\"pie\":[{\"automargin\":true,\"type\":\"pie\"}]},\"layout\":{\"autotypenumbers\":\"strict\",\"colorway\":[\"#636efa\",\"#EF553B\",\"#00cc96\",\"#ab63fa\",\"#FFA15A\",\"#19d3f3\",\"#FF6692\",\"#B6E880\",\"#FF97FF\",\"#FECB52\"],\"font\":{\"color\":\"#2a3f5f\"},\"hovermode\":\"closest\",\"hoverlabel\":{\"align\":\"left\"},\"paper_bgcolor\":\"white\",\"plot_bgcolor\":\"#E5ECF6\",\"polar\":{\"bgcolor\":\"#E5ECF6\",\"angularaxis\":{\"gridcolor\":\"white\",\"linecolor\":\"white\",\"ticks\":\"\"},\"radialaxis\":{\"gridcolor\":\"white\",\"linecolor\":\"white\",\"ticks\":\"\"}},\"ternary\":{\"bgcolor\":\"#E5ECF6\",\"aaxis\":{\"gridcolor\":\"white\",\"linecolor\":\"white\",\"ticks\":\"\"},\"baxis\":{\"gridcolor\":\"white\",\"linecolor\":\"white\",\"ticks\":\"\"},\"caxis\":{\"gridcolor\":\"white\",\"linecolor\":\"white\",\"ticks\":\"\"}},\"coloraxis\":{\"colorbar\":{\"outlinewidth\":0,\"ticks\":\"\"}},\"colorscale\":{\"sequential\":[[0.0,\"#0d0887\"],[0.1111111111111111,\"#46039f\"],[0.2222222222222222,\"#7201a8\"],[0.3333333333333333,\"#9c179e\"],[0.4444444444444444,\"#bd3786\"],[0.5555555555555556,\"#d8576b\"],[0.6666666666666666,\"#ed7953\"],[0.7777777777777778,\"#fb9f3a\"],[0.8888888888888888,\"#fdca26\"],[1.0,\"#f0f921\"]],\"sequentialminus\":[[0.0,\"#0d0887\"],[0.1111111111111111,\"#46039f\"],[0.2222222222222222,\"#7201a8\"],[0.3333333333333333,\"#9c179e\"],[0.4444444444444444,\"#bd3786\"],[0.5555555555555556,\"#d8576b\"],[0.6666666666666666,\"#ed7953\"],[0.7777777777777778,\"#fb9f3a\"],[0.8888888888888888,\"#fdca26\"],[1.0,\"#f0f921\"]],\"diverging\":[[0,\"#8e0152\"],[0.1,\"#c51b7d\"],[0.2,\"#de77ae\"],[0.3,\"#f1b6da\"],[0.4,\"#fde0ef\"],[0.5,\"#f7f7f7\"],[0.6,\"#e6f5d0\"],[0.7,\"#b8e186\"],[0.8,\"#7fbc41\"],[0.9,\"#4d9221\"],[1,\"#276419\"]]},\"xaxis\":{\"gridcolor\":\"white\",\"linecolor\":\"white\",\"ticks\":\"\",\"title\":{\"standoff\":15},\"zerolinecolor\":\"white\",\"automargin\":true,\"zerolinewidth\":2},\"yaxis\":{\"gridcolor\":\"white\",\"linecolor\":\"white\",\"ticks\":\"\",\"title\":{\"standoff\":15},\"zerolinecolor\":\"white\",\"automargin\":true,\"zerolinewidth\":2},\"scene\":{\"xaxis\":{\"backgroundcolor\":\"#E5ECF6\",\"gridcolor\":\"white\",\"linecolor\":\"white\",\"showbackground\":true,\"ticks\":\"\",\"zerolinecolor\":\"white\",\"gridwidth\":2},\"yaxis\":{\"backgroundcolor\":\"#E5ECF6\",\"gridcolor\":\"white\",\"linecolor\":\"white\",\"showbackground\":true,\"ticks\":\"\",\"zerolinecolor\":\"white\",\"gridwidth\":2},\"zaxis\":{\"backgroundcolor\":\"#E5ECF6\",\"gridcolor\":\"white\",\"linecolor\":\"white\",\"showbackground\":true,\"ticks\":\"\",\"zerolinecolor\":\"white\",\"gridwidth\":2}},\"shapedefaults\":{\"line\":{\"color\":\"#2a3f5f\"}},\"annotationdefaults\":{\"arrowcolor\":\"#2a3f5f\",\"arrowhead\":0,\"arrowwidth\":1},\"geo\":{\"bgcolor\":\"white\",\"landcolor\":\"#E5ECF6\",\"subunitcolor\":\"white\",\"showland\":true,\"showlakes\":true,\"lakecolor\":\"white\"},\"title\":{\"x\":0.05},\"mapbox\":{\"style\":\"light\"}}}},                        {\"responsive\": true}                    ).then(function(){\n",
       "                            \n",
       "var gd = document.getElementById('26b6552a-1100-4c86-ad7b-7e0d4865f71b');\n",
       "var x = new MutationObserver(function (mutations, observer) {{\n",
       "        var display = window.getComputedStyle(gd).display;\n",
       "        if (!display || display === 'none') {{\n",
       "            console.log([gd, 'removed!']);\n",
       "            Plotly.purge(gd);\n",
       "            observer.disconnect();\n",
       "        }}\n",
       "}});\n",
       "\n",
       "// Listen for the removal of the full notebook cells\n",
       "var notebookContainer = gd.closest('#notebook-container');\n",
       "if (notebookContainer) {{\n",
       "    x.observe(notebookContainer, {childList: true});\n",
       "}}\n",
       "\n",
       "// Listen for the clearing of the current output cell\n",
       "var outputEl = gd.closest('.output');\n",
       "if (outputEl) {{\n",
       "    x.observe(outputEl, {childList: true});\n",
       "}}\n",
       "\n",
       "                        })                };                });            </script>        </div>"
      ]
     },
     "metadata": {},
     "output_type": "display_data"
    }
   ],
   "source": [
    "# Visualize high-dimensional parameter relationships.\n",
    "plot_parallel_coordinate(study).show()"
   ]
  },
  {
   "cell_type": "code",
   "execution_count": 10,
   "id": "c65c3235",
   "metadata": {
    "execution": {
     "iopub.execute_input": "2023-04-27T02:02:29.985000Z",
     "iopub.status.busy": "2023-04-27T02:02:29.984311Z",
     "iopub.status.idle": "2023-04-27T02:02:30.061962Z",
     "shell.execute_reply": "2023-04-27T02:02:30.061035Z",
     "shell.execute_reply.started": "2023-04-27T02:02:29.984964Z"
    }
   },
   "outputs": [
    {
     "data": {
      "text/html": [
       "<div>                            <div id=\"4dd152cc-9f5d-42dd-8115-ac9a5e619333\" class=\"plotly-graph-div\" style=\"height:525px; width:100%;\"></div>            <script type=\"text/javascript\">                require([\"plotly\"], function(Plotly) {                    window.PLOTLYENV=window.PLOTLYENV || {};                                    if (document.getElementById(\"4dd152cc-9f5d-42dd-8115-ac9a5e619333\")) {                    Plotly.newPlot(                        \"4dd152cc-9f5d-42dd-8115-ac9a5e619333\",                        [{\"colorbar\":{\"title\":{\"text\":\"Objective Value\"}},\"colorscale\":[[0.0,\"rgb(247,251,255)\"],[0.125,\"rgb(222,235,247)\"],[0.25,\"rgb(198,219,239)\"],[0.375,\"rgb(158,202,225)\"],[0.5,\"rgb(107,174,214)\"],[0.625,\"rgb(66,146,198)\"],[0.75,\"rgb(33,113,181)\"],[0.875,\"rgb(8,81,156)\"],[1.0,\"rgb(8,48,107)\"]],\"connectgaps\":true,\"contours\":{\"coloring\":\"heatmap\"},\"hoverinfo\":\"none\",\"line\":{\"smoothing\":1.3},\"reversescale\":true,\"x\":[54.4,64,96,128,160,192,256,265.6],\"y\":[0.6499999999999999,1,2,3,4,5,6,7,8,8.35],\"z\":[[null,null,null,null,null,null,null,null],[null,null,null,5.499425475661819,5.500430493741422,null,null,null],[null,null,5.177524811512715,null,5.14094877243042,null,null,null],[null,null,null,null,5.19024185232214,null,null,null],[null,5.19819536724606,null,null,null,5.520587315430513,null,null],[null,5.354805675712791,null,null,5.223115070446117,null,null,null],[null,null,null,null,null,5.520130299233101,5.522360402184564,null],[null,null,5.521474825369345,null,null,null,5.522268849450189,null],[null,null,null,5.522565777237351,null,null,null,null],[null,null,null,null,null,null,null,null]],\"type\":\"contour\"},{\"marker\":{\"color\":\"black\",\"line\":{\"color\":\"Grey\",\"width\":2.0}},\"mode\":\"markers\",\"showlegend\":false,\"x\":[160,96,96,128,128,256,160,192,128,192,64,64,64,160,160,160,160,160,256,160],\"y\":[5,7,2,8,1,7,1,6,1,4,4,4,5,3,3,3,5,3,6,2],\"type\":\"scatter\"}],                        {\"title\":{\"text\":\"Contour Plot\"},\"template\":{\"data\":{\"histogram2dcontour\":[{\"type\":\"histogram2dcontour\",\"colorbar\":{\"outlinewidth\":0,\"ticks\":\"\"},\"colorscale\":[[0.0,\"#0d0887\"],[0.1111111111111111,\"#46039f\"],[0.2222222222222222,\"#7201a8\"],[0.3333333333333333,\"#9c179e\"],[0.4444444444444444,\"#bd3786\"],[0.5555555555555556,\"#d8576b\"],[0.6666666666666666,\"#ed7953\"],[0.7777777777777778,\"#fb9f3a\"],[0.8888888888888888,\"#fdca26\"],[1.0,\"#f0f921\"]]}],\"choropleth\":[{\"type\":\"choropleth\",\"colorbar\":{\"outlinewidth\":0,\"ticks\":\"\"}}],\"histogram2d\":[{\"type\":\"histogram2d\",\"colorbar\":{\"outlinewidth\":0,\"ticks\":\"\"},\"colorscale\":[[0.0,\"#0d0887\"],[0.1111111111111111,\"#46039f\"],[0.2222222222222222,\"#7201a8\"],[0.3333333333333333,\"#9c179e\"],[0.4444444444444444,\"#bd3786\"],[0.5555555555555556,\"#d8576b\"],[0.6666666666666666,\"#ed7953\"],[0.7777777777777778,\"#fb9f3a\"],[0.8888888888888888,\"#fdca26\"],[1.0,\"#f0f921\"]]}],\"heatmap\":[{\"type\":\"heatmap\",\"colorbar\":{\"outlinewidth\":0,\"ticks\":\"\"},\"colorscale\":[[0.0,\"#0d0887\"],[0.1111111111111111,\"#46039f\"],[0.2222222222222222,\"#7201a8\"],[0.3333333333333333,\"#9c179e\"],[0.4444444444444444,\"#bd3786\"],[0.5555555555555556,\"#d8576b\"],[0.6666666666666666,\"#ed7953\"],[0.7777777777777778,\"#fb9f3a\"],[0.8888888888888888,\"#fdca26\"],[1.0,\"#f0f921\"]]}],\"heatmapgl\":[{\"type\":\"heatmapgl\",\"colorbar\":{\"outlinewidth\":0,\"ticks\":\"\"},\"colorscale\":[[0.0,\"#0d0887\"],[0.1111111111111111,\"#46039f\"],[0.2222222222222222,\"#7201a8\"],[0.3333333333333333,\"#9c179e\"],[0.4444444444444444,\"#bd3786\"],[0.5555555555555556,\"#d8576b\"],[0.6666666666666666,\"#ed7953\"],[0.7777777777777778,\"#fb9f3a\"],[0.8888888888888888,\"#fdca26\"],[1.0,\"#f0f921\"]]}],\"contourcarpet\":[{\"type\":\"contourcarpet\",\"colorbar\":{\"outlinewidth\":0,\"ticks\":\"\"}}],\"contour\":[{\"type\":\"contour\",\"colorbar\":{\"outlinewidth\":0,\"ticks\":\"\"},\"colorscale\":[[0.0,\"#0d0887\"],[0.1111111111111111,\"#46039f\"],[0.2222222222222222,\"#7201a8\"],[0.3333333333333333,\"#9c179e\"],[0.4444444444444444,\"#bd3786\"],[0.5555555555555556,\"#d8576b\"],[0.6666666666666666,\"#ed7953\"],[0.7777777777777778,\"#fb9f3a\"],[0.8888888888888888,\"#fdca26\"],[1.0,\"#f0f921\"]]}],\"surface\":[{\"type\":\"surface\",\"colorbar\":{\"outlinewidth\":0,\"ticks\":\"\"},\"colorscale\":[[0.0,\"#0d0887\"],[0.1111111111111111,\"#46039f\"],[0.2222222222222222,\"#7201a8\"],[0.3333333333333333,\"#9c179e\"],[0.4444444444444444,\"#bd3786\"],[0.5555555555555556,\"#d8576b\"],[0.6666666666666666,\"#ed7953\"],[0.7777777777777778,\"#fb9f3a\"],[0.8888888888888888,\"#fdca26\"],[1.0,\"#f0f921\"]]}],\"mesh3d\":[{\"type\":\"mesh3d\",\"colorbar\":{\"outlinewidth\":0,\"ticks\":\"\"}}],\"scatter\":[{\"fillpattern\":{\"fillmode\":\"overlay\",\"size\":10,\"solidity\":0.2},\"type\":\"scatter\"}],\"parcoords\":[{\"type\":\"parcoords\",\"line\":{\"colorbar\":{\"outlinewidth\":0,\"ticks\":\"\"}}}],\"scatterpolargl\":[{\"type\":\"scatterpolargl\",\"marker\":{\"colorbar\":{\"outlinewidth\":0,\"ticks\":\"\"}}}],\"bar\":[{\"error_x\":{\"color\":\"#2a3f5f\"},\"error_y\":{\"color\":\"#2a3f5f\"},\"marker\":{\"line\":{\"color\":\"#E5ECF6\",\"width\":0.5},\"pattern\":{\"fillmode\":\"overlay\",\"size\":10,\"solidity\":0.2}},\"type\":\"bar\"}],\"scattergeo\":[{\"type\":\"scattergeo\",\"marker\":{\"colorbar\":{\"outlinewidth\":0,\"ticks\":\"\"}}}],\"scatterpolar\":[{\"type\":\"scatterpolar\",\"marker\":{\"colorbar\":{\"outlinewidth\":0,\"ticks\":\"\"}}}],\"histogram\":[{\"marker\":{\"pattern\":{\"fillmode\":\"overlay\",\"size\":10,\"solidity\":0.2}},\"type\":\"histogram\"}],\"scattergl\":[{\"type\":\"scattergl\",\"marker\":{\"colorbar\":{\"outlinewidth\":0,\"ticks\":\"\"}}}],\"scatter3d\":[{\"type\":\"scatter3d\",\"line\":{\"colorbar\":{\"outlinewidth\":0,\"ticks\":\"\"}},\"marker\":{\"colorbar\":{\"outlinewidth\":0,\"ticks\":\"\"}}}],\"scattermapbox\":[{\"type\":\"scattermapbox\",\"marker\":{\"colorbar\":{\"outlinewidth\":0,\"ticks\":\"\"}}}],\"scatterternary\":[{\"type\":\"scatterternary\",\"marker\":{\"colorbar\":{\"outlinewidth\":0,\"ticks\":\"\"}}}],\"scattercarpet\":[{\"type\":\"scattercarpet\",\"marker\":{\"colorbar\":{\"outlinewidth\":0,\"ticks\":\"\"}}}],\"carpet\":[{\"aaxis\":{\"endlinecolor\":\"#2a3f5f\",\"gridcolor\":\"white\",\"linecolor\":\"white\",\"minorgridcolor\":\"white\",\"startlinecolor\":\"#2a3f5f\"},\"baxis\":{\"endlinecolor\":\"#2a3f5f\",\"gridcolor\":\"white\",\"linecolor\":\"white\",\"minorgridcolor\":\"white\",\"startlinecolor\":\"#2a3f5f\"},\"type\":\"carpet\"}],\"table\":[{\"cells\":{\"fill\":{\"color\":\"#EBF0F8\"},\"line\":{\"color\":\"white\"}},\"header\":{\"fill\":{\"color\":\"#C8D4E3\"},\"line\":{\"color\":\"white\"}},\"type\":\"table\"}],\"barpolar\":[{\"marker\":{\"line\":{\"color\":\"#E5ECF6\",\"width\":0.5},\"pattern\":{\"fillmode\":\"overlay\",\"size\":10,\"solidity\":0.2}},\"type\":\"barpolar\"}],\"pie\":[{\"automargin\":true,\"type\":\"pie\"}]},\"layout\":{\"autotypenumbers\":\"strict\",\"colorway\":[\"#636efa\",\"#EF553B\",\"#00cc96\",\"#ab63fa\",\"#FFA15A\",\"#19d3f3\",\"#FF6692\",\"#B6E880\",\"#FF97FF\",\"#FECB52\"],\"font\":{\"color\":\"#2a3f5f\"},\"hovermode\":\"closest\",\"hoverlabel\":{\"align\":\"left\"},\"paper_bgcolor\":\"white\",\"plot_bgcolor\":\"#E5ECF6\",\"polar\":{\"bgcolor\":\"#E5ECF6\",\"angularaxis\":{\"gridcolor\":\"white\",\"linecolor\":\"white\",\"ticks\":\"\"},\"radialaxis\":{\"gridcolor\":\"white\",\"linecolor\":\"white\",\"ticks\":\"\"}},\"ternary\":{\"bgcolor\":\"#E5ECF6\",\"aaxis\":{\"gridcolor\":\"white\",\"linecolor\":\"white\",\"ticks\":\"\"},\"baxis\":{\"gridcolor\":\"white\",\"linecolor\":\"white\",\"ticks\":\"\"},\"caxis\":{\"gridcolor\":\"white\",\"linecolor\":\"white\",\"ticks\":\"\"}},\"coloraxis\":{\"colorbar\":{\"outlinewidth\":0,\"ticks\":\"\"}},\"colorscale\":{\"sequential\":[[0.0,\"#0d0887\"],[0.1111111111111111,\"#46039f\"],[0.2222222222222222,\"#7201a8\"],[0.3333333333333333,\"#9c179e\"],[0.4444444444444444,\"#bd3786\"],[0.5555555555555556,\"#d8576b\"],[0.6666666666666666,\"#ed7953\"],[0.7777777777777778,\"#fb9f3a\"],[0.8888888888888888,\"#fdca26\"],[1.0,\"#f0f921\"]],\"sequentialminus\":[[0.0,\"#0d0887\"],[0.1111111111111111,\"#46039f\"],[0.2222222222222222,\"#7201a8\"],[0.3333333333333333,\"#9c179e\"],[0.4444444444444444,\"#bd3786\"],[0.5555555555555556,\"#d8576b\"],[0.6666666666666666,\"#ed7953\"],[0.7777777777777778,\"#fb9f3a\"],[0.8888888888888888,\"#fdca26\"],[1.0,\"#f0f921\"]],\"diverging\":[[0,\"#8e0152\"],[0.1,\"#c51b7d\"],[0.2,\"#de77ae\"],[0.3,\"#f1b6da\"],[0.4,\"#fde0ef\"],[0.5,\"#f7f7f7\"],[0.6,\"#e6f5d0\"],[0.7,\"#b8e186\"],[0.8,\"#7fbc41\"],[0.9,\"#4d9221\"],[1,\"#276419\"]]},\"xaxis\":{\"gridcolor\":\"white\",\"linecolor\":\"white\",\"ticks\":\"\",\"title\":{\"standoff\":15},\"zerolinecolor\":\"white\",\"automargin\":true,\"zerolinewidth\":2},\"yaxis\":{\"gridcolor\":\"white\",\"linecolor\":\"white\",\"ticks\":\"\",\"title\":{\"standoff\":15},\"zerolinecolor\":\"white\",\"automargin\":true,\"zerolinewidth\":2},\"scene\":{\"xaxis\":{\"backgroundcolor\":\"#E5ECF6\",\"gridcolor\":\"white\",\"linecolor\":\"white\",\"showbackground\":true,\"ticks\":\"\",\"zerolinecolor\":\"white\",\"gridwidth\":2},\"yaxis\":{\"backgroundcolor\":\"#E5ECF6\",\"gridcolor\":\"white\",\"linecolor\":\"white\",\"showbackground\":true,\"ticks\":\"\",\"zerolinecolor\":\"white\",\"gridwidth\":2},\"zaxis\":{\"backgroundcolor\":\"#E5ECF6\",\"gridcolor\":\"white\",\"linecolor\":\"white\",\"showbackground\":true,\"ticks\":\"\",\"zerolinecolor\":\"white\",\"gridwidth\":2}},\"shapedefaults\":{\"line\":{\"color\":\"#2a3f5f\"}},\"annotationdefaults\":{\"arrowcolor\":\"#2a3f5f\",\"arrowhead\":0,\"arrowwidth\":1},\"geo\":{\"bgcolor\":\"white\",\"landcolor\":\"#E5ECF6\",\"subunitcolor\":\"white\",\"showland\":true,\"showlakes\":true,\"lakecolor\":\"white\"},\"title\":{\"x\":0.05},\"mapbox\":{\"style\":\"light\"}}},\"xaxis\":{\"title\":{\"text\":\"hidden_size\"},\"range\":[54.4,265.6]},\"yaxis\":{\"title\":{\"text\":\"num_layers\"},\"range\":[0.6499999999999999,8.35]}},                        {\"responsive\": true}                    ).then(function(){\n",
       "                            \n",
       "var gd = document.getElementById('4dd152cc-9f5d-42dd-8115-ac9a5e619333');\n",
       "var x = new MutationObserver(function (mutations, observer) {{\n",
       "        var display = window.getComputedStyle(gd).display;\n",
       "        if (!display || display === 'none') {{\n",
       "            console.log([gd, 'removed!']);\n",
       "            Plotly.purge(gd);\n",
       "            observer.disconnect();\n",
       "        }}\n",
       "}});\n",
       "\n",
       "// Listen for the removal of the full notebook cells\n",
       "var notebookContainer = gd.closest('#notebook-container');\n",
       "if (notebookContainer) {{\n",
       "    x.observe(notebookContainer, {childList: true});\n",
       "}}\n",
       "\n",
       "// Listen for the clearing of the current output cell\n",
       "var outputEl = gd.closest('.output');\n",
       "if (outputEl) {{\n",
       "    x.observe(outputEl, {childList: true});\n",
       "}}\n",
       "\n",
       "                        })                };                });            </script>        </div>"
      ]
     },
     "metadata": {},
     "output_type": "display_data"
    }
   ],
   "source": [
    "plot_contour(study).show()"
   ]
  },
  {
   "cell_type": "code",
   "execution_count": 11,
   "id": "bb89273d",
   "metadata": {
    "execution": {
     "iopub.execute_input": "2023-04-27T02:02:31.285426Z",
     "iopub.status.busy": "2023-04-27T02:02:31.284735Z",
     "iopub.status.idle": "2023-04-27T02:02:31.505163Z",
     "shell.execute_reply": "2023-04-27T02:02:31.504114Z",
     "shell.execute_reply.started": "2023-04-27T02:02:31.285389Z"
    }
   },
   "outputs": [
    {
     "data": {
      "text/html": [
       "<div>                            <div id=\"e05aff35-dca1-44c2-b7a5-57a907395968\" class=\"plotly-graph-div\" style=\"height:525px; width:100%;\"></div>            <script type=\"text/javascript\">                require([\"plotly\"], function(Plotly) {                    window.PLOTLYENV=window.PLOTLYENV || {};                                    if (document.getElementById(\"e05aff35-dca1-44c2-b7a5-57a907395968\")) {                    Plotly.newPlot(                        \"e05aff35-dca1-44c2-b7a5-57a907395968\",                        [{\"marker\":{\"color\":[0,1,2,3,4,5,6,7,8,9,10,11,12,13,14,15,16,17,18,19],\"colorbar\":{\"title\":{\"text\":\"Trial\"},\"x\":1.0,\"xpad\":40},\"colorscale\":[[0.0,\"rgb(247,251,255)\"],[0.125,\"rgb(222,235,247)\"],[0.25,\"rgb(198,219,239)\"],[0.375,\"rgb(158,202,225)\"],[0.5,\"rgb(107,174,214)\"],[0.625,\"rgb(66,146,198)\"],[0.75,\"rgb(33,113,181)\"],[0.875,\"rgb(8,81,156)\"],[1.0,\"rgb(8,48,107)\"]],\"line\":{\"color\":\"Grey\",\"width\":0.5},\"showscale\":true},\"mode\":\"markers\",\"showlegend\":false,\"x\":[160,96,96,128,128,256,160,192,128,192,64,64,64,160,160,160,160,160,256,160],\"y\":[4.983493392531936,5.521474825369345,5.177524811512715,5.522565777237351,5.519601989436794,5.522268849450189,5.500430493741422,5.520130299233101,5.499425475661819,5.520587315430513,5.161530945752118,5.19819536724606,5.354805675712791,5.05655337668754,5.245254787238869,5.521239345138137,5.223115070446117,5.19024185232214,5.522360402184564,5.14094877243042],\"type\":\"scatter\",\"xaxis\":\"x\",\"yaxis\":\"y\"},{\"marker\":{\"color\":[0,1,2,3,4,5,6,7,8,9,10,11,12,13,14,15,16,17,18,19],\"colorbar\":{\"title\":{\"text\":\"Trial\"},\"x\":1.0,\"xpad\":40},\"colorscale\":[[0.0,\"rgb(247,251,255)\"],[0.125,\"rgb(222,235,247)\"],[0.25,\"rgb(198,219,239)\"],[0.375,\"rgb(158,202,225)\"],[0.5,\"rgb(107,174,214)\"],[0.625,\"rgb(66,146,198)\"],[0.75,\"rgb(33,113,181)\"],[0.875,\"rgb(8,81,156)\"],[1.0,\"rgb(8,48,107)\"]],\"line\":{\"color\":\"Grey\",\"width\":0.5},\"showscale\":false},\"mode\":\"markers\",\"showlegend\":false,\"x\":[5,7,2,8,1,7,1,6,1,4,4,4,5,3,3,3,5,3,6,2],\"y\":[4.983493392531936,5.521474825369345,5.177524811512715,5.522565777237351,5.519601989436794,5.522268849450189,5.500430493741422,5.520130299233101,5.499425475661819,5.520587315430513,5.161530945752118,5.19819536724606,5.354805675712791,5.05655337668754,5.245254787238869,5.521239345138137,5.223115070446117,5.19024185232214,5.522360402184564,5.14094877243042],\"type\":\"scatter\",\"xaxis\":\"x2\",\"yaxis\":\"y2\"}],                        {\"template\":{\"data\":{\"histogram2dcontour\":[{\"type\":\"histogram2dcontour\",\"colorbar\":{\"outlinewidth\":0,\"ticks\":\"\"},\"colorscale\":[[0.0,\"#0d0887\"],[0.1111111111111111,\"#46039f\"],[0.2222222222222222,\"#7201a8\"],[0.3333333333333333,\"#9c179e\"],[0.4444444444444444,\"#bd3786\"],[0.5555555555555556,\"#d8576b\"],[0.6666666666666666,\"#ed7953\"],[0.7777777777777778,\"#fb9f3a\"],[0.8888888888888888,\"#fdca26\"],[1.0,\"#f0f921\"]]}],\"choropleth\":[{\"type\":\"choropleth\",\"colorbar\":{\"outlinewidth\":0,\"ticks\":\"\"}}],\"histogram2d\":[{\"type\":\"histogram2d\",\"colorbar\":{\"outlinewidth\":0,\"ticks\":\"\"},\"colorscale\":[[0.0,\"#0d0887\"],[0.1111111111111111,\"#46039f\"],[0.2222222222222222,\"#7201a8\"],[0.3333333333333333,\"#9c179e\"],[0.4444444444444444,\"#bd3786\"],[0.5555555555555556,\"#d8576b\"],[0.6666666666666666,\"#ed7953\"],[0.7777777777777778,\"#fb9f3a\"],[0.8888888888888888,\"#fdca26\"],[1.0,\"#f0f921\"]]}],\"heatmap\":[{\"type\":\"heatmap\",\"colorbar\":{\"outlinewidth\":0,\"ticks\":\"\"},\"colorscale\":[[0.0,\"#0d0887\"],[0.1111111111111111,\"#46039f\"],[0.2222222222222222,\"#7201a8\"],[0.3333333333333333,\"#9c179e\"],[0.4444444444444444,\"#bd3786\"],[0.5555555555555556,\"#d8576b\"],[0.6666666666666666,\"#ed7953\"],[0.7777777777777778,\"#fb9f3a\"],[0.8888888888888888,\"#fdca26\"],[1.0,\"#f0f921\"]]}],\"heatmapgl\":[{\"type\":\"heatmapgl\",\"colorbar\":{\"outlinewidth\":0,\"ticks\":\"\"},\"colorscale\":[[0.0,\"#0d0887\"],[0.1111111111111111,\"#46039f\"],[0.2222222222222222,\"#7201a8\"],[0.3333333333333333,\"#9c179e\"],[0.4444444444444444,\"#bd3786\"],[0.5555555555555556,\"#d8576b\"],[0.6666666666666666,\"#ed7953\"],[0.7777777777777778,\"#fb9f3a\"],[0.8888888888888888,\"#fdca26\"],[1.0,\"#f0f921\"]]}],\"contourcarpet\":[{\"type\":\"contourcarpet\",\"colorbar\":{\"outlinewidth\":0,\"ticks\":\"\"}}],\"contour\":[{\"type\":\"contour\",\"colorbar\":{\"outlinewidth\":0,\"ticks\":\"\"},\"colorscale\":[[0.0,\"#0d0887\"],[0.1111111111111111,\"#46039f\"],[0.2222222222222222,\"#7201a8\"],[0.3333333333333333,\"#9c179e\"],[0.4444444444444444,\"#bd3786\"],[0.5555555555555556,\"#d8576b\"],[0.6666666666666666,\"#ed7953\"],[0.7777777777777778,\"#fb9f3a\"],[0.8888888888888888,\"#fdca26\"],[1.0,\"#f0f921\"]]}],\"surface\":[{\"type\":\"surface\",\"colorbar\":{\"outlinewidth\":0,\"ticks\":\"\"},\"colorscale\":[[0.0,\"#0d0887\"],[0.1111111111111111,\"#46039f\"],[0.2222222222222222,\"#7201a8\"],[0.3333333333333333,\"#9c179e\"],[0.4444444444444444,\"#bd3786\"],[0.5555555555555556,\"#d8576b\"],[0.6666666666666666,\"#ed7953\"],[0.7777777777777778,\"#fb9f3a\"],[0.8888888888888888,\"#fdca26\"],[1.0,\"#f0f921\"]]}],\"mesh3d\":[{\"type\":\"mesh3d\",\"colorbar\":{\"outlinewidth\":0,\"ticks\":\"\"}}],\"scatter\":[{\"fillpattern\":{\"fillmode\":\"overlay\",\"size\":10,\"solidity\":0.2},\"type\":\"scatter\"}],\"parcoords\":[{\"type\":\"parcoords\",\"line\":{\"colorbar\":{\"outlinewidth\":0,\"ticks\":\"\"}}}],\"scatterpolargl\":[{\"type\":\"scatterpolargl\",\"marker\":{\"colorbar\":{\"outlinewidth\":0,\"ticks\":\"\"}}}],\"bar\":[{\"error_x\":{\"color\":\"#2a3f5f\"},\"error_y\":{\"color\":\"#2a3f5f\"},\"marker\":{\"line\":{\"color\":\"#E5ECF6\",\"width\":0.5},\"pattern\":{\"fillmode\":\"overlay\",\"size\":10,\"solidity\":0.2}},\"type\":\"bar\"}],\"scattergeo\":[{\"type\":\"scattergeo\",\"marker\":{\"colorbar\":{\"outlinewidth\":0,\"ticks\":\"\"}}}],\"scatterpolar\":[{\"type\":\"scatterpolar\",\"marker\":{\"colorbar\":{\"outlinewidth\":0,\"ticks\":\"\"}}}],\"histogram\":[{\"marker\":{\"pattern\":{\"fillmode\":\"overlay\",\"size\":10,\"solidity\":0.2}},\"type\":\"histogram\"}],\"scattergl\":[{\"type\":\"scattergl\",\"marker\":{\"colorbar\":{\"outlinewidth\":0,\"ticks\":\"\"}}}],\"scatter3d\":[{\"type\":\"scatter3d\",\"line\":{\"colorbar\":{\"outlinewidth\":0,\"ticks\":\"\"}},\"marker\":{\"colorbar\":{\"outlinewidth\":0,\"ticks\":\"\"}}}],\"scattermapbox\":[{\"type\":\"scattermapbox\",\"marker\":{\"colorbar\":{\"outlinewidth\":0,\"ticks\":\"\"}}}],\"scatterternary\":[{\"type\":\"scatterternary\",\"marker\":{\"colorbar\":{\"outlinewidth\":0,\"ticks\":\"\"}}}],\"scattercarpet\":[{\"type\":\"scattercarpet\",\"marker\":{\"colorbar\":{\"outlinewidth\":0,\"ticks\":\"\"}}}],\"carpet\":[{\"aaxis\":{\"endlinecolor\":\"#2a3f5f\",\"gridcolor\":\"white\",\"linecolor\":\"white\",\"minorgridcolor\":\"white\",\"startlinecolor\":\"#2a3f5f\"},\"baxis\":{\"endlinecolor\":\"#2a3f5f\",\"gridcolor\":\"white\",\"linecolor\":\"white\",\"minorgridcolor\":\"white\",\"startlinecolor\":\"#2a3f5f\"},\"type\":\"carpet\"}],\"table\":[{\"cells\":{\"fill\":{\"color\":\"#EBF0F8\"},\"line\":{\"color\":\"white\"}},\"header\":{\"fill\":{\"color\":\"#C8D4E3\"},\"line\":{\"color\":\"white\"}},\"type\":\"table\"}],\"barpolar\":[{\"marker\":{\"line\":{\"color\":\"#E5ECF6\",\"width\":0.5},\"pattern\":{\"fillmode\":\"overlay\",\"size\":10,\"solidity\":0.2}},\"type\":\"barpolar\"}],\"pie\":[{\"automargin\":true,\"type\":\"pie\"}]},\"layout\":{\"autotypenumbers\":\"strict\",\"colorway\":[\"#636efa\",\"#EF553B\",\"#00cc96\",\"#ab63fa\",\"#FFA15A\",\"#19d3f3\",\"#FF6692\",\"#B6E880\",\"#FF97FF\",\"#FECB52\"],\"font\":{\"color\":\"#2a3f5f\"},\"hovermode\":\"closest\",\"hoverlabel\":{\"align\":\"left\"},\"paper_bgcolor\":\"white\",\"plot_bgcolor\":\"#E5ECF6\",\"polar\":{\"bgcolor\":\"#E5ECF6\",\"angularaxis\":{\"gridcolor\":\"white\",\"linecolor\":\"white\",\"ticks\":\"\"},\"radialaxis\":{\"gridcolor\":\"white\",\"linecolor\":\"white\",\"ticks\":\"\"}},\"ternary\":{\"bgcolor\":\"#E5ECF6\",\"aaxis\":{\"gridcolor\":\"white\",\"linecolor\":\"white\",\"ticks\":\"\"},\"baxis\":{\"gridcolor\":\"white\",\"linecolor\":\"white\",\"ticks\":\"\"},\"caxis\":{\"gridcolor\":\"white\",\"linecolor\":\"white\",\"ticks\":\"\"}},\"coloraxis\":{\"colorbar\":{\"outlinewidth\":0,\"ticks\":\"\"}},\"colorscale\":{\"sequential\":[[0.0,\"#0d0887\"],[0.1111111111111111,\"#46039f\"],[0.2222222222222222,\"#7201a8\"],[0.3333333333333333,\"#9c179e\"],[0.4444444444444444,\"#bd3786\"],[0.5555555555555556,\"#d8576b\"],[0.6666666666666666,\"#ed7953\"],[0.7777777777777778,\"#fb9f3a\"],[0.8888888888888888,\"#fdca26\"],[1.0,\"#f0f921\"]],\"sequentialminus\":[[0.0,\"#0d0887\"],[0.1111111111111111,\"#46039f\"],[0.2222222222222222,\"#7201a8\"],[0.3333333333333333,\"#9c179e\"],[0.4444444444444444,\"#bd3786\"],[0.5555555555555556,\"#d8576b\"],[0.6666666666666666,\"#ed7953\"],[0.7777777777777778,\"#fb9f3a\"],[0.8888888888888888,\"#fdca26\"],[1.0,\"#f0f921\"]],\"diverging\":[[0,\"#8e0152\"],[0.1,\"#c51b7d\"],[0.2,\"#de77ae\"],[0.3,\"#f1b6da\"],[0.4,\"#fde0ef\"],[0.5,\"#f7f7f7\"],[0.6,\"#e6f5d0\"],[0.7,\"#b8e186\"],[0.8,\"#7fbc41\"],[0.9,\"#4d9221\"],[1,\"#276419\"]]},\"xaxis\":{\"gridcolor\":\"white\",\"linecolor\":\"white\",\"ticks\":\"\",\"title\":{\"standoff\":15},\"zerolinecolor\":\"white\",\"automargin\":true,\"zerolinewidth\":2},\"yaxis\":{\"gridcolor\":\"white\",\"linecolor\":\"white\",\"ticks\":\"\",\"title\":{\"standoff\":15},\"zerolinecolor\":\"white\",\"automargin\":true,\"zerolinewidth\":2},\"scene\":{\"xaxis\":{\"backgroundcolor\":\"#E5ECF6\",\"gridcolor\":\"white\",\"linecolor\":\"white\",\"showbackground\":true,\"ticks\":\"\",\"zerolinecolor\":\"white\",\"gridwidth\":2},\"yaxis\":{\"backgroundcolor\":\"#E5ECF6\",\"gridcolor\":\"white\",\"linecolor\":\"white\",\"showbackground\":true,\"ticks\":\"\",\"zerolinecolor\":\"white\",\"gridwidth\":2},\"zaxis\":{\"backgroundcolor\":\"#E5ECF6\",\"gridcolor\":\"white\",\"linecolor\":\"white\",\"showbackground\":true,\"ticks\":\"\",\"zerolinecolor\":\"white\",\"gridwidth\":2}},\"shapedefaults\":{\"line\":{\"color\":\"#2a3f5f\"}},\"annotationdefaults\":{\"arrowcolor\":\"#2a3f5f\",\"arrowhead\":0,\"arrowwidth\":1},\"geo\":{\"bgcolor\":\"white\",\"landcolor\":\"#E5ECF6\",\"subunitcolor\":\"white\",\"showland\":true,\"showlakes\":true,\"lakecolor\":\"white\"},\"title\":{\"x\":0.05},\"mapbox\":{\"style\":\"light\"}}},\"xaxis\":{\"anchor\":\"y\",\"domain\":[0.0,0.45],\"title\":{\"text\":\"hidden_size\"}},\"yaxis\":{\"anchor\":\"x\",\"domain\":[0.0,1.0],\"title\":{\"text\":\"Objective Value\"}},\"xaxis2\":{\"anchor\":\"y2\",\"domain\":[0.55,1.0],\"title\":{\"text\":\"num_layers\"}},\"yaxis2\":{\"anchor\":\"x2\",\"domain\":[0.0,1.0],\"matches\":\"y\",\"showticklabels\":false},\"title\":{\"text\":\"Slice Plot\"}},                        {\"responsive\": true}                    ).then(function(){\n",
       "                            \n",
       "var gd = document.getElementById('e05aff35-dca1-44c2-b7a5-57a907395968');\n",
       "var x = new MutationObserver(function (mutations, observer) {{\n",
       "        var display = window.getComputedStyle(gd).display;\n",
       "        if (!display || display === 'none') {{\n",
       "            console.log([gd, 'removed!']);\n",
       "            Plotly.purge(gd);\n",
       "            observer.disconnect();\n",
       "        }}\n",
       "}});\n",
       "\n",
       "// Listen for the removal of the full notebook cells\n",
       "var notebookContainer = gd.closest('#notebook-container');\n",
       "if (notebookContainer) {{\n",
       "    x.observe(notebookContainer, {childList: true});\n",
       "}}\n",
       "\n",
       "// Listen for the clearing of the current output cell\n",
       "var outputEl = gd.closest('.output');\n",
       "if (outputEl) {{\n",
       "    x.observe(outputEl, {childList: true});\n",
       "}}\n",
       "\n",
       "                        })                };                });            </script>        </div>"
      ]
     },
     "metadata": {},
     "output_type": "display_data"
    }
   ],
   "source": [
    "plot_slice(study).show()"
   ]
  },
  {
   "cell_type": "code",
   "execution_count": 12,
   "id": "57699e39",
   "metadata": {
    "execution": {
     "iopub.execute_input": "2023-04-27T02:02:32.447202Z",
     "iopub.status.busy": "2023-04-27T02:02:32.446034Z",
     "iopub.status.idle": "2023-04-27T02:02:32.794096Z",
     "shell.execute_reply": "2023-04-27T02:02:32.792943Z",
     "shell.execute_reply.started": "2023-04-27T02:02:32.447156Z"
    }
   },
   "outputs": [
    {
     "data": {
      "text/html": [
       "<div>                            <div id=\"ccafe7b7-f26b-4912-ae7a-e10525b403ec\" class=\"plotly-graph-div\" style=\"height:525px; width:100%;\"></div>            <script type=\"text/javascript\">                require([\"plotly\"], function(Plotly) {                    window.PLOTLYENV=window.PLOTLYENV || {};                                    if (document.getElementById(\"ccafe7b7-f26b-4912-ae7a-e10525b403ec\")) {                    Plotly.newPlot(                        \"ccafe7b7-f26b-4912-ae7a-e10525b403ec\",                        [{\"cliponaxis\":false,\"hovertemplate\":[\"num_layers (IntDistribution): 0.4923347240090088<extra></extra>\",\"hidden_size (CategoricalDistribution): 0.5076652759909912<extra></extra>\"],\"marker\":{\"color\":\"rgb(66,146,198)\"},\"orientation\":\"h\",\"text\":[\"0.49\",\"0.51\"],\"textposition\":\"outside\",\"x\":[0.4923347240090088,0.5076652759909912],\"y\":[\"num_layers\",\"hidden_size\"],\"type\":\"bar\"}],                        {\"showlegend\":false,\"title\":{\"text\":\"Hyperparameter Importances\"},\"xaxis\":{\"title\":{\"text\":\"Importance for Objective Value\"}},\"yaxis\":{\"title\":{\"text\":\"Hyperparameter\"}},\"template\":{\"data\":{\"histogram2dcontour\":[{\"type\":\"histogram2dcontour\",\"colorbar\":{\"outlinewidth\":0,\"ticks\":\"\"},\"colorscale\":[[0.0,\"#0d0887\"],[0.1111111111111111,\"#46039f\"],[0.2222222222222222,\"#7201a8\"],[0.3333333333333333,\"#9c179e\"],[0.4444444444444444,\"#bd3786\"],[0.5555555555555556,\"#d8576b\"],[0.6666666666666666,\"#ed7953\"],[0.7777777777777778,\"#fb9f3a\"],[0.8888888888888888,\"#fdca26\"],[1.0,\"#f0f921\"]]}],\"choropleth\":[{\"type\":\"choropleth\",\"colorbar\":{\"outlinewidth\":0,\"ticks\":\"\"}}],\"histogram2d\":[{\"type\":\"histogram2d\",\"colorbar\":{\"outlinewidth\":0,\"ticks\":\"\"},\"colorscale\":[[0.0,\"#0d0887\"],[0.1111111111111111,\"#46039f\"],[0.2222222222222222,\"#7201a8\"],[0.3333333333333333,\"#9c179e\"],[0.4444444444444444,\"#bd3786\"],[0.5555555555555556,\"#d8576b\"],[0.6666666666666666,\"#ed7953\"],[0.7777777777777778,\"#fb9f3a\"],[0.8888888888888888,\"#fdca26\"],[1.0,\"#f0f921\"]]}],\"heatmap\":[{\"type\":\"heatmap\",\"colorbar\":{\"outlinewidth\":0,\"ticks\":\"\"},\"colorscale\":[[0.0,\"#0d0887\"],[0.1111111111111111,\"#46039f\"],[0.2222222222222222,\"#7201a8\"],[0.3333333333333333,\"#9c179e\"],[0.4444444444444444,\"#bd3786\"],[0.5555555555555556,\"#d8576b\"],[0.6666666666666666,\"#ed7953\"],[0.7777777777777778,\"#fb9f3a\"],[0.8888888888888888,\"#fdca26\"],[1.0,\"#f0f921\"]]}],\"heatmapgl\":[{\"type\":\"heatmapgl\",\"colorbar\":{\"outlinewidth\":0,\"ticks\":\"\"},\"colorscale\":[[0.0,\"#0d0887\"],[0.1111111111111111,\"#46039f\"],[0.2222222222222222,\"#7201a8\"],[0.3333333333333333,\"#9c179e\"],[0.4444444444444444,\"#bd3786\"],[0.5555555555555556,\"#d8576b\"],[0.6666666666666666,\"#ed7953\"],[0.7777777777777778,\"#fb9f3a\"],[0.8888888888888888,\"#fdca26\"],[1.0,\"#f0f921\"]]}],\"contourcarpet\":[{\"type\":\"contourcarpet\",\"colorbar\":{\"outlinewidth\":0,\"ticks\":\"\"}}],\"contour\":[{\"type\":\"contour\",\"colorbar\":{\"outlinewidth\":0,\"ticks\":\"\"},\"colorscale\":[[0.0,\"#0d0887\"],[0.1111111111111111,\"#46039f\"],[0.2222222222222222,\"#7201a8\"],[0.3333333333333333,\"#9c179e\"],[0.4444444444444444,\"#bd3786\"],[0.5555555555555556,\"#d8576b\"],[0.6666666666666666,\"#ed7953\"],[0.7777777777777778,\"#fb9f3a\"],[0.8888888888888888,\"#fdca26\"],[1.0,\"#f0f921\"]]}],\"surface\":[{\"type\":\"surface\",\"colorbar\":{\"outlinewidth\":0,\"ticks\":\"\"},\"colorscale\":[[0.0,\"#0d0887\"],[0.1111111111111111,\"#46039f\"],[0.2222222222222222,\"#7201a8\"],[0.3333333333333333,\"#9c179e\"],[0.4444444444444444,\"#bd3786\"],[0.5555555555555556,\"#d8576b\"],[0.6666666666666666,\"#ed7953\"],[0.7777777777777778,\"#fb9f3a\"],[0.8888888888888888,\"#fdca26\"],[1.0,\"#f0f921\"]]}],\"mesh3d\":[{\"type\":\"mesh3d\",\"colorbar\":{\"outlinewidth\":0,\"ticks\":\"\"}}],\"scatter\":[{\"fillpattern\":{\"fillmode\":\"overlay\",\"size\":10,\"solidity\":0.2},\"type\":\"scatter\"}],\"parcoords\":[{\"type\":\"parcoords\",\"line\":{\"colorbar\":{\"outlinewidth\":0,\"ticks\":\"\"}}}],\"scatterpolargl\":[{\"type\":\"scatterpolargl\",\"marker\":{\"colorbar\":{\"outlinewidth\":0,\"ticks\":\"\"}}}],\"bar\":[{\"error_x\":{\"color\":\"#2a3f5f\"},\"error_y\":{\"color\":\"#2a3f5f\"},\"marker\":{\"line\":{\"color\":\"#E5ECF6\",\"width\":0.5},\"pattern\":{\"fillmode\":\"overlay\",\"size\":10,\"solidity\":0.2}},\"type\":\"bar\"}],\"scattergeo\":[{\"type\":\"scattergeo\",\"marker\":{\"colorbar\":{\"outlinewidth\":0,\"ticks\":\"\"}}}],\"scatterpolar\":[{\"type\":\"scatterpolar\",\"marker\":{\"colorbar\":{\"outlinewidth\":0,\"ticks\":\"\"}}}],\"histogram\":[{\"marker\":{\"pattern\":{\"fillmode\":\"overlay\",\"size\":10,\"solidity\":0.2}},\"type\":\"histogram\"}],\"scattergl\":[{\"type\":\"scattergl\",\"marker\":{\"colorbar\":{\"outlinewidth\":0,\"ticks\":\"\"}}}],\"scatter3d\":[{\"type\":\"scatter3d\",\"line\":{\"colorbar\":{\"outlinewidth\":0,\"ticks\":\"\"}},\"marker\":{\"colorbar\":{\"outlinewidth\":0,\"ticks\":\"\"}}}],\"scattermapbox\":[{\"type\":\"scattermapbox\",\"marker\":{\"colorbar\":{\"outlinewidth\":0,\"ticks\":\"\"}}}],\"scatterternary\":[{\"type\":\"scatterternary\",\"marker\":{\"colorbar\":{\"outlinewidth\":0,\"ticks\":\"\"}}}],\"scattercarpet\":[{\"type\":\"scattercarpet\",\"marker\":{\"colorbar\":{\"outlinewidth\":0,\"ticks\":\"\"}}}],\"carpet\":[{\"aaxis\":{\"endlinecolor\":\"#2a3f5f\",\"gridcolor\":\"white\",\"linecolor\":\"white\",\"minorgridcolor\":\"white\",\"startlinecolor\":\"#2a3f5f\"},\"baxis\":{\"endlinecolor\":\"#2a3f5f\",\"gridcolor\":\"white\",\"linecolor\":\"white\",\"minorgridcolor\":\"white\",\"startlinecolor\":\"#2a3f5f\"},\"type\":\"carpet\"}],\"table\":[{\"cells\":{\"fill\":{\"color\":\"#EBF0F8\"},\"line\":{\"color\":\"white\"}},\"header\":{\"fill\":{\"color\":\"#C8D4E3\"},\"line\":{\"color\":\"white\"}},\"type\":\"table\"}],\"barpolar\":[{\"marker\":{\"line\":{\"color\":\"#E5ECF6\",\"width\":0.5},\"pattern\":{\"fillmode\":\"overlay\",\"size\":10,\"solidity\":0.2}},\"type\":\"barpolar\"}],\"pie\":[{\"automargin\":true,\"type\":\"pie\"}]},\"layout\":{\"autotypenumbers\":\"strict\",\"colorway\":[\"#636efa\",\"#EF553B\",\"#00cc96\",\"#ab63fa\",\"#FFA15A\",\"#19d3f3\",\"#FF6692\",\"#B6E880\",\"#FF97FF\",\"#FECB52\"],\"font\":{\"color\":\"#2a3f5f\"},\"hovermode\":\"closest\",\"hoverlabel\":{\"align\":\"left\"},\"paper_bgcolor\":\"white\",\"plot_bgcolor\":\"#E5ECF6\",\"polar\":{\"bgcolor\":\"#E5ECF6\",\"angularaxis\":{\"gridcolor\":\"white\",\"linecolor\":\"white\",\"ticks\":\"\"},\"radialaxis\":{\"gridcolor\":\"white\",\"linecolor\":\"white\",\"ticks\":\"\"}},\"ternary\":{\"bgcolor\":\"#E5ECF6\",\"aaxis\":{\"gridcolor\":\"white\",\"linecolor\":\"white\",\"ticks\":\"\"},\"baxis\":{\"gridcolor\":\"white\",\"linecolor\":\"white\",\"ticks\":\"\"},\"caxis\":{\"gridcolor\":\"white\",\"linecolor\":\"white\",\"ticks\":\"\"}},\"coloraxis\":{\"colorbar\":{\"outlinewidth\":0,\"ticks\":\"\"}},\"colorscale\":{\"sequential\":[[0.0,\"#0d0887\"],[0.1111111111111111,\"#46039f\"],[0.2222222222222222,\"#7201a8\"],[0.3333333333333333,\"#9c179e\"],[0.4444444444444444,\"#bd3786\"],[0.5555555555555556,\"#d8576b\"],[0.6666666666666666,\"#ed7953\"],[0.7777777777777778,\"#fb9f3a\"],[0.8888888888888888,\"#fdca26\"],[1.0,\"#f0f921\"]],\"sequentialminus\":[[0.0,\"#0d0887\"],[0.1111111111111111,\"#46039f\"],[0.2222222222222222,\"#7201a8\"],[0.3333333333333333,\"#9c179e\"],[0.4444444444444444,\"#bd3786\"],[0.5555555555555556,\"#d8576b\"],[0.6666666666666666,\"#ed7953\"],[0.7777777777777778,\"#fb9f3a\"],[0.8888888888888888,\"#fdca26\"],[1.0,\"#f0f921\"]],\"diverging\":[[0,\"#8e0152\"],[0.1,\"#c51b7d\"],[0.2,\"#de77ae\"],[0.3,\"#f1b6da\"],[0.4,\"#fde0ef\"],[0.5,\"#f7f7f7\"],[0.6,\"#e6f5d0\"],[0.7,\"#b8e186\"],[0.8,\"#7fbc41\"],[0.9,\"#4d9221\"],[1,\"#276419\"]]},\"xaxis\":{\"gridcolor\":\"white\",\"linecolor\":\"white\",\"ticks\":\"\",\"title\":{\"standoff\":15},\"zerolinecolor\":\"white\",\"automargin\":true,\"zerolinewidth\":2},\"yaxis\":{\"gridcolor\":\"white\",\"linecolor\":\"white\",\"ticks\":\"\",\"title\":{\"standoff\":15},\"zerolinecolor\":\"white\",\"automargin\":true,\"zerolinewidth\":2},\"scene\":{\"xaxis\":{\"backgroundcolor\":\"#E5ECF6\",\"gridcolor\":\"white\",\"linecolor\":\"white\",\"showbackground\":true,\"ticks\":\"\",\"zerolinecolor\":\"white\",\"gridwidth\":2},\"yaxis\":{\"backgroundcolor\":\"#E5ECF6\",\"gridcolor\":\"white\",\"linecolor\":\"white\",\"showbackground\":true,\"ticks\":\"\",\"zerolinecolor\":\"white\",\"gridwidth\":2},\"zaxis\":{\"backgroundcolor\":\"#E5ECF6\",\"gridcolor\":\"white\",\"linecolor\":\"white\",\"showbackground\":true,\"ticks\":\"\",\"zerolinecolor\":\"white\",\"gridwidth\":2}},\"shapedefaults\":{\"line\":{\"color\":\"#2a3f5f\"}},\"annotationdefaults\":{\"arrowcolor\":\"#2a3f5f\",\"arrowhead\":0,\"arrowwidth\":1},\"geo\":{\"bgcolor\":\"white\",\"landcolor\":\"#E5ECF6\",\"subunitcolor\":\"white\",\"showland\":true,\"showlakes\":true,\"lakecolor\":\"white\"},\"title\":{\"x\":0.05},\"mapbox\":{\"style\":\"light\"}}}},                        {\"responsive\": true}                    ).then(function(){\n",
       "                            \n",
       "var gd = document.getElementById('ccafe7b7-f26b-4912-ae7a-e10525b403ec');\n",
       "var x = new MutationObserver(function (mutations, observer) {{\n",
       "        var display = window.getComputedStyle(gd).display;\n",
       "        if (!display || display === 'none') {{\n",
       "            console.log([gd, 'removed!']);\n",
       "            Plotly.purge(gd);\n",
       "            observer.disconnect();\n",
       "        }}\n",
       "}});\n",
       "\n",
       "// Listen for the removal of the full notebook cells\n",
       "var notebookContainer = gd.closest('#notebook-container');\n",
       "if (notebookContainer) {{\n",
       "    x.observe(notebookContainer, {childList: true});\n",
       "}}\n",
       "\n",
       "// Listen for the clearing of the current output cell\n",
       "var outputEl = gd.closest('.output');\n",
       "if (outputEl) {{\n",
       "    x.observe(outputEl, {childList: true});\n",
       "}}\n",
       "\n",
       "                        })                };                });            </script>        </div>"
      ]
     },
     "metadata": {},
     "output_type": "display_data"
    }
   ],
   "source": [
    "# Visualize parameter importances.\n",
    "plot_param_importances(study).show()"
   ]
  },
  {
   "cell_type": "markdown",
   "id": "1dc7eb34",
   "metadata": {},
   "source": [
    "Training the model with the hyperparameters obtained for the best trial"
   ]
  },
  {
   "cell_type": "code",
   "execution_count": 16,
   "id": "de975b2f",
   "metadata": {
    "execution": {
     "iopub.execute_input": "2023-04-27T03:02:38.799894Z",
     "iopub.status.busy": "2023-04-27T03:02:38.798795Z",
     "iopub.status.idle": "2023-04-27T03:02:38.841386Z",
     "shell.execute_reply": "2023-04-27T03:02:38.840355Z",
     "shell.execute_reply.started": "2023-04-27T03:02:38.799852Z"
    }
   },
   "outputs": [],
   "source": [
    "num_features = 176\n",
    "hidden_size = 160\n",
    "num_layers = 5\n",
    "num_classes = 250\n",
    "model = LSTMModel(num_features = num_features, hidden_size = hidden_size, num_layers = num_layers, \n",
    "                  bidirectional = True, num_classes = num_classes, batch_first = True).to(device)"
   ]
  },
  {
   "cell_type": "code",
   "execution_count": 17,
   "id": "284b6958",
   "metadata": {
    "execution": {
     "iopub.execute_input": "2023-04-27T03:02:40.794634Z",
     "iopub.status.busy": "2023-04-27T03:02:40.794227Z",
     "iopub.status.idle": "2023-04-27T08:33:55.360428Z",
     "shell.execute_reply": "2023-04-27T08:33:55.358288Z",
     "shell.execute_reply.started": "2023-04-27T03:02:40.794596Z"
    }
   },
   "outputs": [
    {
     "name": "stderr",
     "output_type": "stream",
     "text": [
      "Epoch 1: 100%|██████████| 665/665 [01:36<00:00,  6.86it/s, accuracy=0.00414, loss=5.52, val_accuracy=0.00286, val_loss=5.52] \n",
      "Epoch 2: 100%|██████████| 665/665 [01:35<00:00,  6.98it/s, accuracy=0.00433, loss=5.52, val_accuracy=0.00402, val_loss=5.52]\n",
      "Epoch 3: 100%|██████████| 665/665 [01:35<00:00,  6.96it/s, accuracy=0.00545, loss=5.5, val_accuracy=0.00656, val_loss=5.5] \n",
      "Epoch 4: 100%|██████████| 665/665 [01:35<00:00,  6.95it/s, accuracy=0.00626, loss=5.49, val_accuracy=0.00561, val_loss=5.49]\n",
      "Epoch 5: 100%|██████████| 665/665 [01:35<00:00,  6.96it/s, accuracy=0.007, loss=5.47, val_accuracy=0.00773, val_loss=5.42]\n",
      "Epoch 6: 100%|██████████| 665/665 [01:35<00:00,  6.96it/s, accuracy=0.0106, loss=5.3, val_accuracy=0.0117, val_loss=5.22] \n",
      "Epoch 7: 100%|██████████| 665/665 [01:35<00:00,  6.98it/s, accuracy=0.0139, loss=5.17, val_accuracy=0.0151, val_loss=5.14] \n",
      "Epoch 8: 100%|██████████| 665/665 [01:35<00:00,  6.96it/s, accuracy=0.0166, loss=5.11, val_accuracy=0.015, val_loss=5.1]   \n"
     ]
    },
    {
     "name": "stdout",
     "output_type": "stream",
     "text": [
      "\n"
     ]
    },
    {
     "name": "stderr",
     "output_type": "stream",
     "text": [
      "Epoch 9: 100%|██████████| 665/665 [01:35<00:00,  6.96it/s, accuracy=0.0138, loss=5.16, val_accuracy=0.0184, val_loss=5.09] \n",
      "Epoch 10: 100%|██████████| 665/665 [01:35<00:00,  6.97it/s, accuracy=0.019, loss=5.07, val_accuracy=0.0251, val_loss=5]   \n",
      "Epoch 11: 100%|██████████| 665/665 [01:35<00:00,  6.96it/s, accuracy=0.0253, loss=4.96, val_accuracy=0.0291, val_loss=4.95]\n",
      "Epoch 12: 100%|██████████| 665/665 [01:35<00:00,  6.95it/s, accuracy=0.0322, loss=4.81, val_accuracy=0.0409, val_loss=4.7] \n",
      "Epoch 13: 100%|██████████| 665/665 [01:35<00:00,  6.95it/s, accuracy=0.0459, loss=4.65, val_accuracy=0.054, val_loss=4.59] \n",
      "Epoch 14: 100%|██████████| 665/665 [01:35<00:00,  6.95it/s, accuracy=0.0575, loss=4.54, val_accuracy=0.0604, val_loss=4.5] \n",
      "Epoch 15: 100%|██████████| 665/665 [01:35<00:00,  6.95it/s, accuracy=0.0684, loss=4.45, val_accuracy=0.0678, val_loss=4.44]\n",
      "Epoch 16: 100%|██████████| 665/665 [01:35<00:00,  6.96it/s, accuracy=0.0736, loss=4.4, val_accuracy=0.0658, val_loss=4.44]\n"
     ]
    },
    {
     "name": "stdout",
     "output_type": "stream",
     "text": [
      "\n"
     ]
    },
    {
     "name": "stderr",
     "output_type": "stream",
     "text": [
      "Epoch 17: 100%|██████████| 665/665 [01:35<00:00,  6.96it/s, accuracy=0.0594, loss=4.53, val_accuracy=0.0605, val_loss=4.53]\n",
      "Epoch 18: 100%|██████████| 665/665 [01:35<00:00,  6.96it/s, accuracy=0.0639, loss=4.47, val_accuracy=0.0719, val_loss=4.4] \n",
      "Epoch 19: 100%|██████████| 665/665 [01:35<00:00,  6.96it/s, accuracy=0.0746, loss=4.38, val_accuracy=0.0747, val_loss=4.41]\n",
      "Epoch 20: 100%|██████████| 665/665 [01:35<00:00,  6.96it/s, accuracy=0.0848, loss=4.28, val_accuracy=0.0911, val_loss=4.26]\n",
      "Epoch 21: 100%|██████████| 665/665 [01:35<00:00,  6.97it/s, accuracy=0.101, loss=4.18, val_accuracy=0.0992, val_loss=4.21]\n",
      "Epoch 22: 100%|██████████| 665/665 [01:35<00:00,  6.97it/s, accuracy=0.118, loss=4.06, val_accuracy=0.114, val_loss=4.1] \n",
      "Epoch 23: 100%|██████████| 665/665 [01:35<00:00,  6.98it/s, accuracy=0.135, loss=3.95, val_accuracy=0.134, val_loss=3.97]\n",
      "Epoch 24: 100%|██████████| 665/665 [01:35<00:00,  6.97it/s, accuracy=0.148, loss=3.87, val_accuracy=0.147, val_loss=3.91]\n"
     ]
    },
    {
     "name": "stdout",
     "output_type": "stream",
     "text": [
      "\n"
     ]
    },
    {
     "name": "stderr",
     "output_type": "stream",
     "text": [
      "Epoch 25: 100%|██████████| 665/665 [01:35<00:00,  6.95it/s, accuracy=0.122, loss=4.01, val_accuracy=0.119, val_loss=4.04]\n",
      "Epoch 26: 100%|██████████| 665/665 [01:36<00:00,  6.91it/s, accuracy=0.141, loss=3.87, val_accuracy=0.125, val_loss=3.98]\n",
      "Epoch 27: 100%|██████████| 665/665 [01:36<00:00,  6.91it/s, accuracy=0.168, loss=3.69, val_accuracy=0.163, val_loss=3.68]\n",
      "Epoch 28: 100%|██████████| 665/665 [01:36<00:00,  6.92it/s, accuracy=0.192, loss=3.54, val_accuracy=0.18, val_loss=3.62] \n",
      "Epoch 29: 100%|██████████| 665/665 [01:35<00:00,  6.93it/s, accuracy=0.22, loss=3.39, val_accuracy=0.221, val_loss=3.42]\n",
      "Epoch 30: 100%|██████████| 665/665 [01:35<00:00,  6.96it/s, accuracy=0.244, loss=3.26, val_accuracy=0.233, val_loss=3.31]\n",
      "Epoch 31: 100%|██████████| 665/665 [01:36<00:00,  6.92it/s, accuracy=0.264, loss=3.16, val_accuracy=0.262, val_loss=3.19]\n",
      "Epoch 32: 100%|██████████| 665/665 [01:35<00:00,  6.96it/s, accuracy=0.28, loss=3.08, val_accuracy=0.266, val_loss=3.17]\n"
     ]
    },
    {
     "name": "stdout",
     "output_type": "stream",
     "text": [
      "\n"
     ]
    },
    {
     "name": "stderr",
     "output_type": "stream",
     "text": [
      "Epoch 33: 100%|██████████| 665/665 [01:35<00:00,  6.97it/s, accuracy=0.216, loss=3.38, val_accuracy=0.234, val_loss=3.33]\n",
      "Epoch 34: 100%|██████████| 665/665 [01:35<00:00,  6.94it/s, accuracy=0.23, loss=3.3, val_accuracy=0.188, val_loss=3.55]\n",
      "Epoch 35: 100%|██████████| 665/665 [01:35<00:00,  6.95it/s, accuracy=0.247, loss=3.2, val_accuracy=0.269, val_loss=3.12]\n",
      "Epoch 36: 100%|██████████| 665/665 [01:35<00:00,  6.93it/s, accuracy=0.272, loss=3.07, val_accuracy=0.274, val_loss=3.1] \n",
      "Epoch 37: 100%|██████████| 665/665 [01:35<00:00,  6.93it/s, accuracy=0.302, loss=2.93, val_accuracy=0.295, val_loss=2.98]\n",
      "Epoch 38: 100%|██████████| 665/665 [01:35<00:00,  6.98it/s, accuracy=0.33, loss=2.8, val_accuracy=0.32, val_loss=2.88] \n",
      "Epoch 39: 100%|██████████| 665/665 [01:35<00:00,  6.97it/s, accuracy=0.353, loss=2.7, val_accuracy=0.334, val_loss=2.83]\n",
      "Epoch 40: 100%|██████████| 665/665 [01:35<00:00,  6.97it/s, accuracy=0.372, loss=2.62, val_accuracy=0.343, val_loss=2.78]\n"
     ]
    },
    {
     "name": "stdout",
     "output_type": "stream",
     "text": [
      "\n"
     ]
    },
    {
     "name": "stderr",
     "output_type": "stream",
     "text": [
      "Epoch 41: 100%|██████████| 665/665 [01:35<00:00,  6.94it/s, accuracy=0.286, loss=2.99, val_accuracy=0.243, val_loss=3.23]\n",
      "Epoch 42: 100%|██████████| 665/665 [01:35<00:00,  6.93it/s, accuracy=0.3, loss=2.93, val_accuracy=0.244, val_loss=3.23]\n",
      "Epoch 43: 100%|██████████| 665/665 [01:35<00:00,  6.94it/s, accuracy=0.317, loss=2.84, val_accuracy=0.261, val_loss=3.13]\n",
      "Epoch 44: 100%|██████████| 665/665 [01:35<00:00,  6.94it/s, accuracy=0.34, loss=2.73, val_accuracy=0.339, val_loss=2.78]\n",
      "Epoch 45: 100%|██████████| 665/665 [01:36<00:00,  6.91it/s, accuracy=0.372, loss=2.59, val_accuracy=0.323, val_loss=2.83]\n",
      "Epoch 46: 100%|██████████| 665/665 [01:36<00:00,  6.89it/s, accuracy=0.402, loss=2.47, val_accuracy=0.386, val_loss=2.58]\n",
      "Epoch 47: 100%|██████████| 665/665 [01:35<00:00,  6.94it/s, accuracy=0.428, loss=2.36, val_accuracy=0.391, val_loss=2.54]\n",
      "Epoch 48: 100%|██████████| 665/665 [01:35<00:00,  6.95it/s, accuracy=0.446, loss=2.29, val_accuracy=0.4, val_loss=2.52]  \n"
     ]
    },
    {
     "name": "stdout",
     "output_type": "stream",
     "text": [
      "\n"
     ]
    },
    {
     "name": "stderr",
     "output_type": "stream",
     "text": [
      "Epoch 49: 100%|██████████| 665/665 [01:35<00:00,  6.93it/s, accuracy=0.35, loss=2.68, val_accuracy=0.328, val_loss=2.79]\n",
      "Epoch 50: 100%|██████████| 665/665 [01:35<00:00,  6.96it/s, accuracy=0.357, loss=2.65, val_accuracy=0.35, val_loss=2.74] \n",
      "Epoch 51: 100%|██████████| 665/665 [01:35<00:00,  6.94it/s, accuracy=0.371, loss=2.59, val_accuracy=0.318, val_loss=2.87]\n",
      "Epoch 52: 100%|██████████| 665/665 [01:35<00:00,  6.99it/s, accuracy=0.394, loss=2.48, val_accuracy=0.371, val_loss=2.62]\n",
      "Epoch 53: 100%|██████████| 665/665 [01:35<00:00,  6.98it/s, accuracy=0.424, loss=2.35, val_accuracy=0.392, val_loss=2.55]\n",
      "Epoch 54: 100%|██████████| 665/665 [01:35<00:00,  6.96it/s, accuracy=0.456, loss=2.22, val_accuracy=0.425, val_loss=2.4] \n",
      "Epoch 55: 100%|██████████| 665/665 [01:35<00:00,  6.95it/s, accuracy=0.484, loss=2.11, val_accuracy=0.436, val_loss=2.35]\n",
      "Epoch 56: 100%|██████████| 665/665 [01:35<00:00,  6.94it/s, accuracy=0.503, loss=2.04, val_accuracy=0.451, val_loss=2.3] \n"
     ]
    },
    {
     "name": "stdout",
     "output_type": "stream",
     "text": [
      "\n"
     ]
    },
    {
     "name": "stderr",
     "output_type": "stream",
     "text": [
      "Epoch 57: 100%|██████████| 665/665 [01:36<00:00,  6.92it/s, accuracy=0.394, loss=2.48, val_accuracy=0.374, val_loss=2.62]\n",
      "Epoch 58: 100%|██████████| 665/665 [01:36<00:00,  6.91it/s, accuracy=0.396, loss=2.47, val_accuracy=0.357, val_loss=2.68]\n",
      "Epoch 59: 100%|██████████| 665/665 [01:36<00:00,  6.91it/s, accuracy=0.418, loss=2.37, val_accuracy=0.405, val_loss=2.5] \n",
      "Epoch 60: 100%|██████████| 665/665 [01:36<00:00,  6.92it/s, accuracy=0.444, loss=2.26, val_accuracy=0.373, val_loss=2.58]\n",
      "Epoch 61: 100%|██████████| 665/665 [01:36<00:00,  6.92it/s, accuracy=0.474, loss=2.14, val_accuracy=0.426, val_loss=2.4] \n",
      "Epoch 62: 100%|██████████| 665/665 [01:36<00:00,  6.91it/s, accuracy=0.508, loss=2.01, val_accuracy=0.474, val_loss=2.2] \n",
      "Epoch 63: 100%|██████████| 665/665 [01:36<00:00,  6.91it/s, accuracy=0.537, loss=1.89, val_accuracy=0.486, val_loss=2.16]\n",
      "Epoch 64: 100%|██████████| 665/665 [01:36<00:00,  6.90it/s, accuracy=0.557, loss=1.82, val_accuracy=0.488, val_loss=2.15]\n"
     ]
    },
    {
     "name": "stdout",
     "output_type": "stream",
     "text": [
      "\n"
     ]
    },
    {
     "name": "stderr",
     "output_type": "stream",
     "text": [
      "Epoch 65: 100%|██████████| 665/665 [01:36<00:00,  6.89it/s, accuracy=0.438, loss=2.28, val_accuracy=0.377, val_loss=2.6] \n",
      "Epoch 66: 100%|██████████| 665/665 [01:36<00:00,  6.89it/s, accuracy=0.442, loss=2.26, val_accuracy=0.419, val_loss=2.39]\n",
      "Epoch 67: 100%|██████████| 665/665 [01:36<00:00,  6.89it/s, accuracy=0.461, loss=2.19, val_accuracy=0.382, val_loss=2.59]\n",
      "Epoch 68: 100%|██████████| 665/665 [01:36<00:00,  6.89it/s, accuracy=0.485, loss=2.08, val_accuracy=0.456, val_loss=2.27]\n",
      "Epoch 69: 100%|██████████| 665/665 [01:36<00:00,  6.89it/s, accuracy=0.518, loss=1.95, val_accuracy=0.466, val_loss=2.21]\n",
      "Epoch 70: 100%|██████████| 665/665 [01:36<00:00,  6.89it/s, accuracy=0.55, loss=1.82, val_accuracy=0.492, val_loss=2.1] \n",
      "Epoch 71: 100%|██████████| 665/665 [01:36<00:00,  6.91it/s, accuracy=0.583, loss=1.7, val_accuracy=0.504, val_loss=2.06]\n",
      "Epoch 72: 100%|██████████| 665/665 [01:35<00:00,  6.95it/s, accuracy=0.605, loss=1.63, val_accuracy=0.517, val_loss=2.03]\n"
     ]
    },
    {
     "name": "stdout",
     "output_type": "stream",
     "text": [
      "\n"
     ]
    },
    {
     "name": "stderr",
     "output_type": "stream",
     "text": [
      "Epoch 73: 100%|██████████| 665/665 [01:35<00:00,  6.94it/s, accuracy=0.485, loss=2.08, val_accuracy=0.415, val_loss=2.42]\n",
      "Epoch 74: 100%|██████████| 665/665 [01:35<00:00,  6.99it/s, accuracy=0.474, loss=2.12, val_accuracy=0.451, val_loss=2.29]\n",
      "Epoch 75: 100%|██████████| 665/665 [01:35<00:00,  7.00it/s, accuracy=0.494, loss=2.03, val_accuracy=0.442, val_loss=2.34]\n",
      "Epoch 76: 100%|██████████| 665/665 [01:35<00:00,  6.99it/s, accuracy=0.522, loss=1.92, val_accuracy=0.476, val_loss=2.17]\n",
      "Epoch 77: 100%|██████████| 665/665 [01:35<00:00,  6.98it/s, accuracy=0.556, loss=1.79, val_accuracy=0.508, val_loss=2.05]\n",
      "Epoch 78: 100%|██████████| 665/665 [01:35<00:00,  6.98it/s, accuracy=0.591, loss=1.66, val_accuracy=0.522, val_loss=2.01]\n",
      "Epoch 79: 100%|██████████| 665/665 [01:35<00:00,  6.95it/s, accuracy=0.623, loss=1.54, val_accuracy=0.54, val_loss=1.94] \n",
      "Epoch 80: 100%|██████████| 665/665 [01:34<00:00,  7.00it/s, accuracy=0.643, loss=1.47, val_accuracy=0.54, val_loss=1.92] \n"
     ]
    },
    {
     "name": "stdout",
     "output_type": "stream",
     "text": [
      "\n"
     ]
    },
    {
     "name": "stderr",
     "output_type": "stream",
     "text": [
      "Epoch 81: 100%|██████████| 665/665 [01:35<00:00,  6.97it/s, accuracy=0.512, loss=1.96, val_accuracy=0.461, val_loss=2.24]\n",
      "Epoch 82: 100%|██████████| 665/665 [01:35<00:00,  6.98it/s, accuracy=0.511, loss=1.96, val_accuracy=0.487, val_loss=2.15]\n",
      "Epoch 83: 100%|██████████| 665/665 [01:34<00:00,  7.00it/s, accuracy=0.525, loss=1.91, val_accuracy=0.491, val_loss=2.11]\n",
      "Epoch 84: 100%|██████████| 665/665 [01:35<00:00,  7.00it/s, accuracy=0.552, loss=1.8, val_accuracy=0.495, val_loss=2.13]\n",
      "Epoch 85: 100%|██████████| 665/665 [01:35<00:00,  7.00it/s, accuracy=0.587, loss=1.66, val_accuracy=0.525, val_loss=1.98]\n",
      "Epoch 86: 100%|██████████| 665/665 [01:34<00:00,  7.03it/s, accuracy=0.623, loss=1.53, val_accuracy=0.542, val_loss=1.93]\n",
      "Epoch 87: 100%|██████████| 665/665 [01:34<00:00,  7.02it/s, accuracy=0.655, loss=1.41, val_accuracy=0.541, val_loss=1.92]\n",
      "Epoch 88: 100%|██████████| 665/665 [01:34<00:00,  7.03it/s, accuracy=0.679, loss=1.33, val_accuracy=0.56, val_loss=1.86] \n"
     ]
    },
    {
     "name": "stdout",
     "output_type": "stream",
     "text": [
      "\n"
     ]
    },
    {
     "name": "stderr",
     "output_type": "stream",
     "text": [
      "Epoch 89: 100%|██████████| 665/665 [01:34<00:00,  7.02it/s, accuracy=0.544, loss=1.82, val_accuracy=0.446, val_loss=2.32]\n",
      "Epoch 90: 100%|██████████| 665/665 [01:34<00:00,  7.00it/s, accuracy=0.544, loss=1.82, val_accuracy=0.471, val_loss=2.2] \n",
      "Epoch 91: 100%|██████████| 665/665 [01:35<00:00,  6.99it/s, accuracy=0.554, loss=1.78, val_accuracy=0.477, val_loss=2.2] \n",
      "Epoch 92: 100%|██████████| 665/665 [01:35<00:00,  6.97it/s, accuracy=0.581, loss=1.68, val_accuracy=0.517, val_loss=2.05]\n",
      "Epoch 93: 100%|██████████| 665/665 [01:35<00:00,  6.97it/s, accuracy=0.613, loss=1.56, val_accuracy=0.546, val_loss=1.92]\n",
      "Epoch 94: 100%|██████████| 665/665 [01:34<00:00,  7.01it/s, accuracy=0.654, loss=1.41, val_accuracy=0.552, val_loss=1.87]\n",
      "Epoch 95: 100%|██████████| 665/665 [01:35<00:00,  6.98it/s, accuracy=0.686, loss=1.3, val_accuracy=0.563, val_loss=1.85]\n",
      "Epoch 96: 100%|██████████| 665/665 [01:35<00:00,  6.98it/s, accuracy=0.709, loss=1.22, val_accuracy=0.572, val_loss=1.81]\n"
     ]
    },
    {
     "name": "stdout",
     "output_type": "stream",
     "text": [
      "\n"
     ]
    },
    {
     "name": "stderr",
     "output_type": "stream",
     "text": [
      "Epoch 97: 100%|██████████| 665/665 [01:35<00:00,  6.98it/s, accuracy=0.572, loss=1.71, val_accuracy=0.434, val_loss=2.37]\n",
      "Epoch 98: 100%|██████████| 665/665 [01:35<00:00,  6.96it/s, accuracy=0.563, loss=1.74, val_accuracy=0.482, val_loss=2.17]\n",
      "Epoch 99: 100%|██████████| 665/665 [01:35<00:00,  6.96it/s, accuracy=0.577, loss=1.69, val_accuracy=0.521, val_loss=2]   \n",
      "Epoch 100: 100%|██████████| 665/665 [01:35<00:00,  6.97it/s, accuracy=0.602, loss=1.58, val_accuracy=0.505, val_loss=2.05]\n",
      "Epoch 101: 100%|██████████| 665/665 [01:35<00:00,  6.97it/s, accuracy=0.64, loss=1.45, val_accuracy=0.536, val_loss=1.97]\n",
      "Epoch 102: 100%|██████████| 665/665 [01:35<00:00,  6.98it/s, accuracy=0.678, loss=1.31, val_accuracy=0.563, val_loss=1.85]\n",
      "Epoch 103: 100%|██████████| 665/665 [01:35<00:00,  6.98it/s, accuracy=0.712, loss=1.2, val_accuracy=0.574, val_loss=1.81]\n",
      "Epoch 104: 100%|██████████| 665/665 [01:35<00:00,  6.95it/s, accuracy=0.736, loss=1.12, val_accuracy=0.579, val_loss=1.8] \n"
     ]
    },
    {
     "name": "stdout",
     "output_type": "stream",
     "text": [
      "\n"
     ]
    },
    {
     "name": "stderr",
     "output_type": "stream",
     "text": [
      "Epoch 105: 100%|██████████| 665/665 [01:35<00:00,  6.95it/s, accuracy=0.59, loss=1.62, val_accuracy=0.494, val_loss=2.13]\n",
      "Epoch 106: 100%|██████████| 665/665 [01:35<00:00,  7.00it/s, accuracy=0.591, loss=1.63, val_accuracy=0.5, val_loss=2.12]  \n",
      "Epoch 107: 100%|██████████| 665/665 [01:35<00:00,  6.99it/s, accuracy=0.6, loss=1.59, val_accuracy=0.523, val_loss=2.04]\n",
      "Epoch 108: 100%|██████████| 665/665 [01:35<00:00,  7.00it/s, accuracy=0.624, loss=1.5, val_accuracy=0.545, val_loss=1.9] \n",
      "Epoch 109: 100%|██████████| 665/665 [01:34<00:00,  7.00it/s, accuracy=0.663, loss=1.36, val_accuracy=0.565, val_loss=1.85]\n",
      "Epoch 110: 100%|██████████| 665/665 [01:35<00:00,  7.00it/s, accuracy=0.702, loss=1.22, val_accuracy=0.576, val_loss=1.81]\n",
      "Epoch 111: 100%|██████████| 665/665 [01:35<00:00,  6.99it/s, accuracy=0.737, loss=1.1, val_accuracy=0.584, val_loss=1.79]\n",
      "Epoch 112: 100%|██████████| 665/665 [01:35<00:00,  6.98it/s, accuracy=0.761, loss=1.03, val_accuracy=0.588, val_loss=1.78]\n"
     ]
    },
    {
     "name": "stdout",
     "output_type": "stream",
     "text": [
      "\n"
     ]
    },
    {
     "name": "stderr",
     "output_type": "stream",
     "text": [
      "Epoch 113: 100%|██████████| 665/665 [01:35<00:00,  6.96it/s, accuracy=0.611, loss=1.55, val_accuracy=0.488, val_loss=2.16]\n",
      "Epoch 114: 100%|██████████| 665/665 [01:35<00:00,  6.99it/s, accuracy=0.598, loss=1.59, val_accuracy=0.488, val_loss=2.14]\n",
      "Epoch 115: 100%|██████████| 665/665 [01:34<00:00,  7.00it/s, accuracy=0.612, loss=1.54, val_accuracy=0.495, val_loss=2.14]\n",
      "Epoch 116: 100%|██████████| 665/665 [01:34<00:00,  7.01it/s, accuracy=0.644, loss=1.42, val_accuracy=0.539, val_loss=1.96]\n",
      "Epoch 117: 100%|██████████| 665/665 [01:34<00:00,  7.01it/s, accuracy=0.679, loss=1.29, val_accuracy=0.561, val_loss=1.89]\n",
      "Epoch 118: 100%|██████████| 665/665 [01:35<00:00,  6.95it/s, accuracy=0.724, loss=1.14, val_accuracy=0.583, val_loss=1.79]\n",
      "Epoch 119: 100%|██████████| 665/665 [01:35<00:00,  6.96it/s, accuracy=0.757, loss=1.03, val_accuracy=0.592, val_loss=1.77]\n",
      "Epoch 120: 100%|██████████| 665/665 [01:35<00:00,  6.98it/s, accuracy=0.783, loss=0.949, val_accuracy=0.593, val_loss=1.76]\n"
     ]
    },
    {
     "name": "stdout",
     "output_type": "stream",
     "text": [
      "\n"
     ]
    },
    {
     "name": "stderr",
     "output_type": "stream",
     "text": [
      "Epoch 121: 100%|██████████| 665/665 [01:35<00:00,  6.97it/s, accuracy=0.631, loss=1.46, val_accuracy=0.503, val_loss=2.14]\n",
      "Epoch 122: 100%|██████████| 665/665 [01:35<00:00,  6.99it/s, accuracy=0.617, loss=1.52, val_accuracy=0.531, val_loss=2.01]\n",
      "Epoch 123: 100%|██████████| 665/665 [01:35<00:00,  6.99it/s, accuracy=0.631, loss=1.46, val_accuracy=0.526, val_loss=2.03]\n",
      "Epoch 124: 100%|██████████| 665/665 [01:35<00:00,  6.99it/s, accuracy=0.655, loss=1.38, val_accuracy=0.522, val_loss=2.04]\n",
      "Epoch 125: 100%|██████████| 665/665 [01:35<00:00,  6.99it/s, accuracy=0.695, loss=1.23, val_accuracy=0.569, val_loss=1.83]\n",
      "Epoch 126: 100%|██████████| 665/665 [01:35<00:00,  6.97it/s, accuracy=0.736, loss=1.09, val_accuracy=0.586, val_loss=1.79]\n",
      "Epoch 127: 100%|██████████| 665/665 [01:35<00:00,  6.97it/s, accuracy=0.775, loss=0.962, val_accuracy=0.596, val_loss=1.76]\n",
      "Epoch 128: 100%|██████████| 665/665 [01:35<00:00,  6.98it/s, accuracy=0.799, loss=0.885, val_accuracy=0.603, val_loss=1.74]\n"
     ]
    },
    {
     "name": "stdout",
     "output_type": "stream",
     "text": [
      "\n"
     ]
    },
    {
     "name": "stderr",
     "output_type": "stream",
     "text": [
      "Epoch 129: 100%|██████████| 665/665 [01:35<00:00,  6.96it/s, accuracy=0.641, loss=1.42, val_accuracy=0.474, val_loss=2.29]\n",
      "Epoch 130: 100%|██████████| 665/665 [01:36<00:00,  6.90it/s, accuracy=0.626, loss=1.48, val_accuracy=0.498, val_loss=2.15]\n",
      "Epoch 131: 100%|██████████| 665/665 [01:36<00:00,  6.92it/s, accuracy=0.645, loss=1.41, val_accuracy=0.531, val_loss=1.99]\n",
      "Epoch 132: 100%|██████████| 665/665 [01:35<00:00,  6.97it/s, accuracy=0.679, loss=1.29, val_accuracy=0.559, val_loss=1.9] \n",
      "Epoch 133: 100%|██████████| 665/665 [01:35<00:00,  6.97it/s, accuracy=0.715, loss=1.16, val_accuracy=0.574, val_loss=1.83]\n",
      "Epoch 134: 100%|██████████| 665/665 [01:35<00:00,  6.99it/s, accuracy=0.756, loss=1.02, val_accuracy=0.575, val_loss=1.86]\n",
      "Epoch 135: 100%|██████████| 665/665 [01:35<00:00,  6.99it/s, accuracy=0.792, loss=0.9, val_accuracy=0.597, val_loss=1.76]\n",
      "Epoch 136: 100%|██████████| 665/665 [01:34<00:00,  7.00it/s, accuracy=0.815, loss=0.825, val_accuracy=0.601, val_loss=1.75]\n"
     ]
    },
    {
     "name": "stdout",
     "output_type": "stream",
     "text": [
      "\n"
     ]
    },
    {
     "name": "stderr",
     "output_type": "stream",
     "text": [
      "Epoch 137: 100%|██████████| 665/665 [01:35<00:00,  6.99it/s, accuracy=0.665, loss=1.33, val_accuracy=0.528, val_loss=2.05]\n",
      "Epoch 138: 100%|██████████| 665/665 [01:35<00:00,  6.93it/s, accuracy=0.642, loss=1.41, val_accuracy=0.502, val_loss=2.14]\n",
      "Epoch 139: 100%|██████████| 665/665 [01:36<00:00,  6.93it/s, accuracy=0.659, loss=1.35, val_accuracy=0.539, val_loss=1.98]\n",
      "Epoch 140: 100%|██████████| 665/665 [01:35<00:00,  6.93it/s, accuracy=0.689, loss=1.24, val_accuracy=0.531, val_loss=2.03]\n",
      "Epoch 141: 100%|██████████| 665/665 [01:35<00:00,  6.95it/s, accuracy=0.726, loss=1.11, val_accuracy=0.578, val_loss=1.84]\n",
      "Epoch 142: 100%|██████████| 665/665 [01:35<00:00,  6.96it/s, accuracy=0.77, loss=0.964, val_accuracy=0.592, val_loss=1.79]\n",
      "Epoch 143: 100%|██████████| 665/665 [01:35<00:00,  6.96it/s, accuracy=0.805, loss=0.847, val_accuracy=0.603, val_loss=1.76]\n",
      "Epoch 144: 100%|██████████| 665/665 [01:35<00:00,  6.97it/s, accuracy=0.83, loss=0.77, val_accuracy=0.601, val_loss=1.78]\n"
     ]
    },
    {
     "name": "stdout",
     "output_type": "stream",
     "text": [
      "\n"
     ]
    },
    {
     "name": "stderr",
     "output_type": "stream",
     "text": [
      "Epoch 145: 100%|██████████| 665/665 [01:35<00:00,  6.98it/s, accuracy=0.671, loss=1.3, val_accuracy=0.538, val_loss=2.02]\n",
      "Epoch 146: 100%|██████████| 665/665 [01:35<00:00,  6.98it/s, accuracy=0.657, loss=1.35, val_accuracy=0.475, val_loss=2.27]\n",
      "Epoch 147: 100%|██████████| 665/665 [01:35<00:00,  6.98it/s, accuracy=0.667, loss=1.31, val_accuracy=0.518, val_loss=2.09]\n",
      "Epoch 148: 100%|██████████| 665/665 [01:35<00:00,  6.96it/s, accuracy=0.699, loss=1.2, val_accuracy=0.566, val_loss=1.87]\n",
      "Epoch 149: 100%|██████████| 665/665 [01:35<00:00,  6.96it/s, accuracy=0.739, loss=1.06, val_accuracy=0.567, val_loss=1.88]\n",
      "Epoch 150: 100%|██████████| 665/665 [01:35<00:00,  6.94it/s, accuracy=0.783, loss=0.916, val_accuracy=0.593, val_loss=1.8] \n",
      "Epoch 151: 100%|██████████| 665/665 [01:35<00:00,  6.96it/s, accuracy=0.82, loss=0.799, val_accuracy=0.604, val_loss=1.76]\n",
      "Epoch 152: 100%|██████████| 665/665 [01:35<00:00,  6.96it/s, accuracy=0.844, loss=0.723, val_accuracy=0.604, val_loss=1.77]\n"
     ]
    },
    {
     "name": "stdout",
     "output_type": "stream",
     "text": [
      "\n"
     ]
    },
    {
     "name": "stderr",
     "output_type": "stream",
     "text": [
      "Epoch 153: 100%|██████████| 665/665 [01:35<00:00,  6.95it/s, accuracy=0.68, loss=1.27, val_accuracy=0.528, val_loss=2.04]\n",
      "Epoch 154: 100%|██████████| 665/665 [01:35<00:00,  6.97it/s, accuracy=0.667, loss=1.31, val_accuracy=0.532, val_loss=2.03]\n",
      "Epoch 155: 100%|██████████| 665/665 [01:35<00:00,  6.96it/s, accuracy=0.682, loss=1.26, val_accuracy=0.543, val_loss=2]   \n",
      "Epoch 156: 100%|██████████| 665/665 [01:35<00:00,  6.96it/s, accuracy=0.705, loss=1.17, val_accuracy=0.563, val_loss=1.92]\n",
      "Epoch 157: 100%|██████████| 665/665 [01:35<00:00,  6.95it/s, accuracy=0.752, loss=1.01, val_accuracy=0.575, val_loss=1.86]\n",
      "Epoch 158: 100%|██████████| 665/665 [01:35<00:00,  6.96it/s, accuracy=0.794, loss=0.875, val_accuracy=0.603, val_loss=1.79]\n",
      "Epoch 159: 100%|██████████| 665/665 [01:35<00:00,  6.94it/s, accuracy=0.831, loss=0.756, val_accuracy=0.607, val_loss=1.77]\n",
      "Epoch 160: 100%|██████████| 665/665 [01:35<00:00,  6.94it/s, accuracy=0.853, loss=0.685, val_accuracy=0.606, val_loss=1.75]\n"
     ]
    },
    {
     "name": "stdout",
     "output_type": "stream",
     "text": [
      "\n"
     ]
    },
    {
     "name": "stderr",
     "output_type": "stream",
     "text": [
      "Epoch 161: 100%|██████████| 665/665 [01:35<00:00,  6.96it/s, accuracy=0.689, loss=1.22, val_accuracy=0.523, val_loss=2.09]\n",
      "Epoch 162: 100%|██████████| 665/665 [01:35<00:00,  6.97it/s, accuracy=0.673, loss=1.28, val_accuracy=0.54, val_loss=2.03] \n",
      "Epoch 163: 100%|██████████| 665/665 [01:35<00:00,  6.94it/s, accuracy=0.692, loss=1.22, val_accuracy=0.546, val_loss=1.99]\n",
      "Epoch 164: 100%|██████████| 665/665 [01:35<00:00,  6.93it/s, accuracy=0.722, loss=1.11, val_accuracy=0.534, val_loss=2.05]\n",
      "Epoch 165: 100%|██████████| 665/665 [01:35<00:00,  6.93it/s, accuracy=0.761, loss=0.974, val_accuracy=0.578, val_loss=1.86]\n",
      "Epoch 166: 100%|██████████| 665/665 [01:35<00:00,  6.96it/s, accuracy=0.804, loss=0.836, val_accuracy=0.59, val_loss=1.84] \n",
      "Epoch 167: 100%|██████████| 665/665 [01:35<00:00,  6.96it/s, accuracy=0.841, loss=0.718, val_accuracy=0.603, val_loss=1.8] \n",
      "Epoch 168: 100%|██████████| 665/665 [01:35<00:00,  6.95it/s, accuracy=0.864, loss=0.646, val_accuracy=0.61, val_loss=1.78] \n"
     ]
    },
    {
     "name": "stdout",
     "output_type": "stream",
     "text": [
      "\n"
     ]
    },
    {
     "name": "stderr",
     "output_type": "stream",
     "text": [
      "Epoch 169: 100%|██████████| 665/665 [01:35<00:00,  6.95it/s, accuracy=0.701, loss=1.18, val_accuracy=0.521, val_loss=2.16]\n",
      "Epoch 170: 100%|██████████| 665/665 [01:35<00:00,  6.94it/s, accuracy=0.69, loss=1.22, val_accuracy=0.527, val_loss=2.06]\n",
      "Epoch 171: 100%|██████████| 665/665 [01:35<00:00,  6.95it/s, accuracy=0.698, loss=1.19, val_accuracy=0.506, val_loss=2.19]\n",
      "Epoch 172: 100%|██████████| 665/665 [01:35<00:00,  6.94it/s, accuracy=0.728, loss=1.08, val_accuracy=0.567, val_loss=1.92]\n",
      "Epoch 173: 100%|██████████| 665/665 [01:35<00:00,  6.94it/s, accuracy=0.767, loss=0.952, val_accuracy=0.589, val_loss=1.85]\n",
      "Epoch 174: 100%|██████████| 665/665 [01:35<00:00,  6.94it/s, accuracy=0.814, loss=0.797, val_accuracy=0.589, val_loss=1.86]\n",
      "Epoch 175: 100%|██████████| 665/665 [01:35<00:00,  6.94it/s, accuracy=0.851, loss=0.684, val_accuracy=0.61, val_loss=1.78] \n",
      "Epoch 176: 100%|██████████| 665/665 [01:35<00:00,  6.94it/s, accuracy=0.873, loss=0.614, val_accuracy=0.606, val_loss=1.81]\n"
     ]
    },
    {
     "name": "stdout",
     "output_type": "stream",
     "text": [
      "\n"
     ]
    },
    {
     "name": "stderr",
     "output_type": "stream",
     "text": [
      "Epoch 177: 100%|██████████| 665/665 [01:35<00:00,  6.95it/s, accuracy=0.711, loss=1.14, val_accuracy=0.536, val_loss=2.05]\n",
      "Epoch 178: 100%|██████████| 665/665 [01:35<00:00,  6.93it/s, accuracy=0.694, loss=1.21, val_accuracy=0.547, val_loss=2]   \n",
      "Epoch 179: 100%|██████████| 665/665 [01:36<00:00,  6.93it/s, accuracy=0.709, loss=1.15, val_accuracy=0.55, val_loss=1.99] \n",
      "Epoch 180: 100%|██████████| 665/665 [01:35<00:00,  6.93it/s, accuracy=0.737, loss=1.04, val_accuracy=0.553, val_loss=2.01]\n",
      "Epoch 181: 100%|██████████| 665/665 [01:35<00:00,  6.93it/s, accuracy=0.778, loss=0.907, val_accuracy=0.576, val_loss=1.92]\n",
      "Epoch 182: 100%|██████████| 665/665 [01:35<00:00,  6.93it/s, accuracy=0.823, loss=0.761, val_accuracy=0.601, val_loss=1.81]\n",
      "Epoch 183: 100%|██████████| 665/665 [01:35<00:00,  6.97it/s, accuracy=0.86, loss=0.651, val_accuracy=0.606, val_loss=1.8] \n",
      "Epoch 184: 100%|██████████| 665/665 [01:35<00:00,  6.96it/s, accuracy=0.88, loss=0.583, val_accuracy=0.607, val_loss=1.8] \n"
     ]
    },
    {
     "name": "stdout",
     "output_type": "stream",
     "text": [
      "\n"
     ]
    },
    {
     "name": "stderr",
     "output_type": "stream",
     "text": [
      "Epoch 185: 100%|██████████| 665/665 [01:35<00:00,  6.97it/s, accuracy=0.722, loss=1.1, val_accuracy=0.545, val_loss=2.05]\n",
      "Epoch 186: 100%|██████████| 665/665 [01:35<00:00,  6.95it/s, accuracy=0.699, loss=1.18, val_accuracy=0.532, val_loss=2.09]\n",
      "Epoch 187: 100%|██████████| 665/665 [01:35<00:00,  6.96it/s, accuracy=0.712, loss=1.14, val_accuracy=0.559, val_loss=1.97]\n",
      "Epoch 188: 100%|██████████| 665/665 [01:35<00:00,  6.99it/s, accuracy=0.748, loss=1.02, val_accuracy=0.57, val_loss=1.92] \n",
      "Epoch 189: 100%|██████████| 665/665 [01:35<00:00,  6.97it/s, accuracy=0.787, loss=0.874, val_accuracy=0.579, val_loss=1.89]\n",
      "Epoch 190: 100%|██████████| 665/665 [01:34<00:00,  7.01it/s, accuracy=0.832, loss=0.734, val_accuracy=0.602, val_loss=1.84]\n",
      "Epoch 191: 100%|██████████| 665/665 [01:34<00:00,  7.01it/s, accuracy=0.867, loss=0.622, val_accuracy=0.609, val_loss=1.81]\n",
      "Epoch 192: 100%|██████████| 665/665 [01:34<00:00,  7.01it/s, accuracy=0.888, loss=0.555, val_accuracy=0.61, val_loss=1.82] \n"
     ]
    },
    {
     "name": "stdout",
     "output_type": "stream",
     "text": [
      "\n"
     ]
    },
    {
     "name": "stderr",
     "output_type": "stream",
     "text": [
      "Epoch 193: 100%|██████████| 665/665 [01:35<00:00,  6.99it/s, accuracy=0.729, loss=1.07, val_accuracy=0.541, val_loss=2.06]\n",
      "Epoch 194: 100%|██████████| 665/665 [01:35<00:00,  6.98it/s, accuracy=0.711, loss=1.13, val_accuracy=0.554, val_loss=1.99]\n",
      "Epoch 195: 100%|██████████| 665/665 [01:35<00:00,  6.99it/s, accuracy=0.724, loss=1.09, val_accuracy=0.558, val_loss=1.98]\n",
      "Epoch 196: 100%|██████████| 665/665 [01:35<00:00,  6.99it/s, accuracy=0.751, loss=0.988, val_accuracy=0.579, val_loss=1.9] \n",
      "Epoch 197: 100%|██████████| 665/665 [01:35<00:00,  6.98it/s, accuracy=0.793, loss=0.849, val_accuracy=0.586, val_loss=1.9] \n",
      "Epoch 198: 100%|██████████| 665/665 [01:35<00:00,  6.97it/s, accuracy=0.838, loss=0.706, val_accuracy=0.601, val_loss=1.85]\n",
      "Epoch 199: 100%|██████████| 665/665 [01:35<00:00,  6.97it/s, accuracy=0.873, loss=0.598, val_accuracy=0.604, val_loss=1.84]\n",
      "Epoch 200: 100%|██████████| 665/665 [01:35<00:00,  6.96it/s, accuracy=0.895, loss=0.531, val_accuracy=0.61, val_loss=1.82] \n"
     ]
    },
    {
     "name": "stdout",
     "output_type": "stream",
     "text": [
      "\n"
     ]
    },
    {
     "name": "stderr",
     "output_type": "stream",
     "text": [
      "Epoch 201: 100%|██████████| 665/665 [01:35<00:00,  6.96it/s, accuracy=0.74, loss=1.03, val_accuracy=0.532, val_loss=2.1] \n",
      "Epoch 202: 100%|██████████| 665/665 [01:35<00:00,  6.97it/s, accuracy=0.711, loss=1.13, val_accuracy=0.548, val_loss=2.05]\n",
      "Epoch 203: 100%|██████████| 665/665 [01:35<00:00,  7.00it/s, accuracy=0.732, loss=1.06, val_accuracy=0.554, val_loss=2]   \n",
      "Epoch 204: 100%|██████████| 665/665 [01:35<00:00,  6.99it/s, accuracy=0.757, loss=0.972, val_accuracy=0.576, val_loss=1.93]\n",
      "Epoch 205: 100%|██████████| 665/665 [01:35<00:00,  6.98it/s, accuracy=0.802, loss=0.819, val_accuracy=0.587, val_loss=1.89]\n",
      "Epoch 206: 100%|██████████| 665/665 [01:35<00:00,  6.98it/s, accuracy=0.846, loss=0.681, val_accuracy=0.6, val_loss=1.86]  \n",
      "Epoch 207: 100%|██████████| 665/665 [01:35<00:00,  6.99it/s, accuracy=0.881, loss=0.572, val_accuracy=0.611, val_loss=1.85]\n",
      "Epoch 208: 100%|██████████| 665/665 [01:35<00:00,  6.99it/s, accuracy=0.902, loss=0.507, val_accuracy=0.609, val_loss=1.86]\n"
     ]
    },
    {
     "ename": "KeyboardInterrupt",
     "evalue": "",
     "output_type": "error",
     "traceback": [
      "\u001b[0;31m---------------------------------------------------------------------------\u001b[0m",
      "\u001b[0;31mKeyboardInterrupt\u001b[0m                         Traceback (most recent call last)",
      "\u001b[0;32m/tmp/ipykernel_24/1371441072.py\u001b[0m in \u001b[0;36m<module>\u001b[0;34m\u001b[0m\n\u001b[1;32m     88\u001b[0m \u001b[0;32mfor\u001b[0m \u001b[0mepoch\u001b[0m \u001b[0;32min\u001b[0m \u001b[0mrange\u001b[0m\u001b[0;34m(\u001b[0m\u001b[0mepochs\u001b[0m\u001b[0;34m)\u001b[0m\u001b[0;34m:\u001b[0m\u001b[0;34m\u001b[0m\u001b[0;34m\u001b[0m\u001b[0m\n\u001b[1;32m     89\u001b[0m \u001b[0;34m\u001b[0m\u001b[0m\n\u001b[0;32m---> 90\u001b[0;31m     \u001b[0macc\u001b[0m\u001b[0;34m,\u001b[0m \u001b[0mloss\u001b[0m\u001b[0;34m,\u001b[0m \u001b[0mv_acc\u001b[0m\u001b[0;34m,\u001b[0m \u001b[0mv_loss\u001b[0m \u001b[0;34m=\u001b[0m \u001b[0mtrain_val_loop\u001b[0m\u001b[0;34m(\u001b[0m\u001b[0mepoch\u001b[0m\u001b[0;34m,\u001b[0m \u001b[0mtrain_loader\u001b[0m\u001b[0;34m,\u001b[0m \u001b[0mval_loader\u001b[0m\u001b[0;34m,\u001b[0m \u001b[0mmodel\u001b[0m\u001b[0;34m,\u001b[0m \u001b[0mloss_fn\u001b[0m\u001b[0;34m,\u001b[0m \u001b[0moptimizer\u001b[0m\u001b[0;34m,\u001b[0m \u001b[0mscheduler\u001b[0m\u001b[0;34m)\u001b[0m\u001b[0;34m\u001b[0m\u001b[0;34m\u001b[0m\u001b[0m\n\u001b[0m\u001b[1;32m     91\u001b[0m     \u001b[0;32mif\u001b[0m \u001b[0;34m(\u001b[0m\u001b[0mepoch\u001b[0m \u001b[0;34m+\u001b[0m \u001b[0;36m1\u001b[0m\u001b[0;34m)\u001b[0m \u001b[0;34m%\u001b[0m \u001b[0;36m50\u001b[0m \u001b[0;34m==\u001b[0m \u001b[0;36m0\u001b[0m\u001b[0;34m:\u001b[0m\u001b[0;34m\u001b[0m\u001b[0;34m\u001b[0m\u001b[0m\n\u001b[1;32m     92\u001b[0m         \u001b[0mtorch\u001b[0m\u001b[0;34m.\u001b[0m\u001b[0msave\u001b[0m\u001b[0;34m(\u001b[0m\u001b[0mmodel\u001b[0m\u001b[0;34m.\u001b[0m\u001b[0mstate_dict\u001b[0m\u001b[0;34m(\u001b[0m\u001b[0;34m)\u001b[0m\u001b[0;34m,\u001b[0m \u001b[0;34m'lstm_model_'\u001b[0m \u001b[0;34m+\u001b[0m \u001b[0mstr\u001b[0m\u001b[0;34m(\u001b[0m\u001b[0mepoch\u001b[0m\u001b[0;34m+\u001b[0m\u001b[0;36m1\u001b[0m\u001b[0;34m)\u001b[0m\u001b[0;34m)\u001b[0m\u001b[0;34m\u001b[0m\u001b[0;34m\u001b[0m\u001b[0m\n",
      "\u001b[0;32m/tmp/ipykernel_24/1371441072.py\u001b[0m in \u001b[0;36mtrain_val_loop\u001b[0;34m(epoch, train_dataloader, val_dataloader, model, loss_fn, optimizer, scheduler, n_offset)\u001b[0m\n\u001b[1;32m     56\u001b[0m                 \u001b[0;31m# Compute prediction and loss\u001b[0m\u001b[0;34m\u001b[0m\u001b[0;34m\u001b[0m\u001b[0;34m\u001b[0m\u001b[0m\n\u001b[1;32m     57\u001b[0m                 \u001b[0mpred\u001b[0m \u001b[0;34m=\u001b[0m \u001b[0mmodel\u001b[0m\u001b[0;34m(\u001b[0m\u001b[0msrc\u001b[0m\u001b[0;34m)\u001b[0m\u001b[0;34m\u001b[0m\u001b[0;34m\u001b[0m\u001b[0m\n\u001b[0;32m---> 58\u001b[0;31m                 \u001b[0mval_loss\u001b[0m \u001b[0;34m+=\u001b[0m \u001b[0mloss_fn\u001b[0m\u001b[0;34m(\u001b[0m\u001b[0mpred\u001b[0m\u001b[0;34m,\u001b[0m \u001b[0my\u001b[0m\u001b[0;34m)\u001b[0m\u001b[0;34m.\u001b[0m\u001b[0mitem\u001b[0m\u001b[0;34m(\u001b[0m\u001b[0;34m)\u001b[0m\u001b[0;34m\u001b[0m\u001b[0;34m\u001b[0m\u001b[0m\n\u001b[0m\u001b[1;32m     59\u001b[0m \u001b[0;34m\u001b[0m\u001b[0m\n\u001b[1;32m     60\u001b[0m                 \u001b[0;31m# Compute metrics\u001b[0m\u001b[0;34m\u001b[0m\u001b[0;34m\u001b[0m\u001b[0;34m\u001b[0m\u001b[0m\n",
      "\u001b[0;31mKeyboardInterrupt\u001b[0m: "
     ]
    }
   ],
   "source": [
    "learning_rate = 5e-4\n",
    "weight_decay = 1e-1\n",
    "cycle = 8\n",
    "\n",
    "loss_fn = nn.CrossEntropyLoss()\n",
    "optimizer = torch.optim.AdamW(model.parameters(), lr=learning_rate, weight_decay=weight_decay)\n",
    "scheduler = torch.optim.lr_scheduler.CosineAnnealingWarmRestarts(optimizer, T_0=cycle, eta_min=learning_rate / 10)\n",
    "\n",
    "train_losses = []\n",
    "val_losses = []\n",
    "\n",
    "def train_val_loop(epoch, train_dataloader, val_dataloader, model, loss_fn, optimizer, scheduler, n_offset=1):\n",
    "    total_batches = len(train_dataloader)\n",
    "    train_size, train_batches = 0, 0\n",
    "    train_loss, train_correct = 0, 0\n",
    "    val_size, val_batches = 0, 0\n",
    "    val_loss, val_correct = 0, 0\n",
    "    \n",
    "    with tqdm(desc=f'Epoch {epoch+n_offset}', total=total_batches) as bar:\n",
    "        \n",
    "        # Training\n",
    "        for batch, (src, y) in enumerate(train_dataloader):\n",
    "            \n",
    "            # Compute prediction and loss\n",
    "            pred = model(src)\n",
    "            loss = loss_fn(pred, y)\n",
    "            \n",
    "            # Compute metrics\n",
    "            train_loss += loss.item()\n",
    "            train_correct += (pred.argmax(1) == y).type(torch.float).sum().item()\n",
    "            train_size += len(y)\n",
    "            train_batches += 1\n",
    "\n",
    "            # Backpropagation\n",
    "            optimizer.zero_grad()\n",
    "            loss.backward()\n",
    "            torch.nn.utils.clip_grad_norm_(model.parameters(), 0.5)\n",
    "            optimizer.step()\n",
    "                \n",
    "            scheduler.step(epoch + batch / total_batches)\n",
    "            \n",
    "            # Update progress bar\n",
    "            bar.update()\n",
    "            bar.set_postfix(accuracy = train_correct / train_size, loss = train_loss / train_batches,\n",
    "                           lr=scheduler.get_last_lr())\n",
    "            \n",
    "        bar.set_postfix(accuracy = train_correct / train_size, loss = train_loss / train_batches)\n",
    "        \n",
    "        #scheduler.step()\n",
    "           \n",
    "        # Validation\n",
    "        with torch.no_grad():\n",
    "\n",
    "            for batch, (src, y) in enumerate(val_dataloader):\n",
    "                \n",
    "                # Compute prediction and loss\n",
    "                pred = model(src)\n",
    "                val_loss += loss_fn(pred, y).item()\n",
    "                \n",
    "                # Compute metrics\n",
    "                val_correct += (pred.argmax(1) == y).type(torch.float).sum().item()\n",
    "                val_size += len(y)\n",
    "                val_batches += 1\n",
    "\n",
    "                # Update progress bar\n",
    "                bar.set_postfix(\n",
    "                    accuracy = train_correct / train_size, loss = train_loss / train_batches,\n",
    "                    val_accuracy = val_correct / val_size, val_loss = val_loss / val_batches\n",
    "                )\n",
    "                \n",
    "    if scheduler.T_0 - scheduler.T_cur < 0.1:\n",
    "        print()\n",
    "        \n",
    "    train_losses.append(train_loss / train_batches)\n",
    "    val_losses.append(val_loss / val_batches)\n",
    "\n",
    "    return train_correct / train_size, train_loss / train_batches, val_correct / val_size, val_loss / val_batches\n",
    "\n",
    "\n",
    "best_loss = float('inf')\n",
    "saved_state = model.state_dict()\n",
    "\n",
    "epochs = 300\n",
    "\n",
    "\n",
    "#model.load_state_dict(torch.load(\"/kaggle/input/lstm-model/lstm_model_100Epochs_ss.pth\"))\n",
    "# Iterate through epochs for training\n",
    "for epoch in range(epochs):\n",
    "    \n",
    "    acc, loss, v_acc, v_loss = train_val_loop(epoch, train_loader, val_loader, model, loss_fn, optimizer, scheduler)\n",
    "    if (epoch + 1) % 50 == 0:\n",
    "        torch.save(model.state_dict(), 'lstm_model_' + str(epoch+1))\n",
    "    if v_loss<best_loss:\n",
    "        best_loss = v_loss\n",
    "        saved_state = model.state_dict()"
   ]
  },
  {
   "cell_type": "code",
   "execution_count": 18,
   "id": "41d42f90",
   "metadata": {
    "execution": {
     "iopub.execute_input": "2023-04-27T08:34:09.975032Z",
     "iopub.status.busy": "2023-04-27T08:34:09.974352Z",
     "iopub.status.idle": "2023-04-27T08:34:10.020890Z",
     "shell.execute_reply": "2023-04-27T08:34:10.019808Z",
     "shell.execute_reply.started": "2023-04-27T08:34:09.974994Z"
    }
   },
   "outputs": [],
   "source": [
    "torch.save(model.state_dict(),\"LSTMFinalModel.pth\")\n",
    "torch.save(saved_state,\"LSTMBestModelFinal.pth\")"
   ]
  },
  {
   "cell_type": "code",
   "execution_count": 23,
   "id": "f12f6666",
   "metadata": {
    "execution": {
     "iopub.execute_input": "2023-04-27T08:37:12.143567Z",
     "iopub.status.busy": "2023-04-27T08:37:12.142584Z",
     "iopub.status.idle": "2023-04-27T08:37:12.151288Z",
     "shell.execute_reply": "2023-04-27T08:37:12.150030Z",
     "shell.execute_reply.started": "2023-04-27T08:37:12.143530Z"
    }
   },
   "outputs": [
    {
     "data": {
      "text/plain": [
       "207"
      ]
     },
     "execution_count": 23,
     "metadata": {},
     "output_type": "execute_result"
    }
   ],
   "source": [
    "len(train_losses)"
   ]
  },
  {
   "cell_type": "code",
   "execution_count": 25,
   "id": "caa79cdc",
   "metadata": {
    "execution": {
     "iopub.execute_input": "2023-04-27T08:37:33.757255Z",
     "iopub.status.busy": "2023-04-27T08:37:33.756891Z",
     "iopub.status.idle": "2023-04-27T08:37:33.764884Z",
     "shell.execute_reply": "2023-04-27T08:37:33.763664Z",
     "shell.execute_reply.started": "2023-04-27T08:37:33.757225Z"
    }
   },
   "outputs": [
    {
     "data": {
      "text/plain": [
       "207"
      ]
     },
     "execution_count": 25,
     "metadata": {},
     "output_type": "execute_result"
    }
   ],
   "source": [
    "len(val_losses)"
   ]
  },
  {
   "cell_type": "code",
   "execution_count": 26,
   "id": "64de9222",
   "metadata": {
    "execution": {
     "iopub.execute_input": "2023-04-27T08:38:18.711516Z",
     "iopub.status.busy": "2023-04-27T08:38:18.710557Z",
     "iopub.status.idle": "2023-04-27T08:38:18.923614Z",
     "shell.execute_reply": "2023-04-27T08:38:18.922637Z",
     "shell.execute_reply.started": "2023-04-27T08:38:18.711469Z"
    }
   },
   "outputs": [
    {
     "data": {
      "image/png": "[encoded data removed]",
      "text/plain": [
       "<Figure size 640x480 with 1 Axes>"
      ]
     },
     "metadata": {},
     "output_type": "display_data"
    }
   ],
   "source": [
    "# Plotting\n",
    "plt.plot(train_losses, label='Training Loss')\n",
    "plt.plot(val_losses, label='Validation Loss')\n",
    "plt.xlabel('Epochs')\n",
    "plt.ylabel('Loss')\n",
    "plt.title('Training and Validation Loss over Epochs')\n",
    "plt.legend()\n",
    "plt.show()"
   ]
  },
  {
   "cell_type": "code",
   "execution_count": 14,
   "id": "23e6f2d5",
   "metadata": {
    "execution": {
     "iopub.execute_input": "2023-04-28T01:16:35.492170Z",
     "iopub.status.busy": "2023-04-28T01:16:35.491012Z",
     "iopub.status.idle": "2023-04-28T01:16:36.587332Z",
     "shell.execute_reply": "2023-04-28T01:16:36.586165Z",
     "shell.execute_reply.started": "2023-04-28T01:16:35.492116Z"
    }
   },
   "outputs": [
    {
     "name": "stdout",
     "output_type": "stream",
     "text": [
      "__notebook_source__.ipynb  state.db\n"
     ]
    }
   ],
   "source": [
    "cd "
   ]
  },
  {
   "cell_type": "code",
   "execution_count": 24,
   "id": "2f50274f",
   "metadata": {
    "execution": {
     "iopub.execute_input": "2023-04-28T01:20:37.100478Z",
     "iopub.status.busy": "2023-04-28T01:20:37.099165Z",
     "iopub.status.idle": "2023-04-28T01:20:42.341537Z",
     "shell.execute_reply": "2023-04-28T01:20:42.340276Z",
     "shell.execute_reply.started": "2023-04-28T01:20:37.100403Z"
    }
   },
   "outputs": [
    {
     "name": "stdout",
     "output_type": "stream",
     "text": [
      "Testing the Best Model on Validation Set: \n",
      "\tTest Loss: 0.0145, Test Accuracy: 0.6071\n"
     ]
    }
   ],
   "source": [
    "print(f\"Testing the Best Model on Validation Set: \")\n",
    "\n",
    "test_loss = 0.0\n",
    "test_acc = 0.0\n",
    "\n",
    "num_features = 176\n",
    "hidden_size = 160\n",
    "num_layers = 5\n",
    "num_classes = 250\n",
    "model = LSTMModel(num_features = num_features, hidden_size = hidden_size, num_layers = num_layers, \n",
    "                  bidirectional = True, num_classes = num_classes, batch_first = True).to(device)\n",
    "model.load_state_dict(torch.load(\"/kaggle/input/lstm-best-final/LSTMBestModelFinal.pth\"))\n",
    "loss_fn = nn.CrossEntropyLoss()\n",
    "\n",
    "with torch.no_grad():\n",
    "    \n",
    "    for data, labels in val_loader:\n",
    "        outputs = model(data)\n",
    "        loss = loss_fn(outputs, labels)\n",
    "        test_loss +=loss.item()\n",
    "        _,gt = torch.max(outputs,1)\n",
    "        test_acc += torch.sum(labels==gt)\n",
    "\n",
    "    test_loss = test_loss/(len(val_loader)*128)\n",
    "    test_acc = test_acc/(len(val_loader)*128)\n",
    "\n",
    "\n",
    "    print(f'\\tTest Loss: {test_loss:.4f}, Test Accuracy: {test_acc:.4f}')"
   ]
  },
  {
   "cell_type": "code",
   "execution_count": 25,
   "id": "9ccc71f9",
   "metadata": {
    "execution": {
     "iopub.execute_input": "2023-04-28T01:20:47.515190Z",
     "iopub.status.busy": "2023-04-28T01:20:47.514797Z",
     "iopub.status.idle": "2023-04-28T01:21:17.798901Z",
     "shell.execute_reply": "2023-04-28T01:21:17.797622Z",
     "shell.execute_reply.started": "2023-04-28T01:20:47.515156Z"
    }
   },
   "outputs": [
    {
     "name": "stdout",
     "output_type": "stream",
     "text": [
      "Mean Classification Accuracy on Train Set: 91.0049\n",
      "Mean Classification Accuracy on Validation Set: 60.8636\n"
     ]
    }
   ],
   "source": [
    "def get_mean_classification_accuracy(dataloader):\n",
    "    \n",
    "    acc=[]\n",
    "    with torch.no_grad():\n",
    "        \n",
    "        batch = 0\n",
    "        mean_acc = 0.0\n",
    "        for data, labels in dataloader:\n",
    "            \n",
    "            correct_preds = 0\n",
    "            total_preds = 0\n",
    "            \n",
    "            batch = batch + 1\n",
    "            outputs = model(data)\n",
    "            loss = loss_fn(outputs, labels)\n",
    "            _, preds = torch.max(outputs,1)\n",
    "            correct_preds = correct_preds + torch.sum(preds==labels.data)\n",
    "            total_preds = labels.size(0)\n",
    "            acc.append(correct_preds/total_preds)\n",
    "        mean_acc = torch.mean(torch.tensor(acc))\n",
    "        return mean_acc\n",
    "mean_acc_on_val_set = get_mean_classification_accuracy(val_loader)\n",
    "mean_acc_on_train_set = get_mean_classification_accuracy(train_loader)\n",
    "\n",
    "print(f'Mean Classification Accuracy on Train Set: {100*mean_acc_on_train_set:.4f}')\n",
    "print(f'Mean Classification Accuracy on Validation Set: {100*mean_acc_on_val_set:.4f}')"
   ]
  },
  {
   "cell_type": "code",
   "execution_count": 27,
   "id": "fdb97da9",
   "metadata": {
    "execution": {
     "iopub.execute_input": "2023-04-28T01:21:57.199463Z",
     "iopub.status.busy": "2023-04-28T01:21:57.199068Z",
     "iopub.status.idle": "2023-04-28T01:22:33.716932Z",
     "shell.execute_reply": "2023-04-28T01:22:33.715731Z",
     "shell.execute_reply.started": "2023-04-28T01:21:57.199421Z"
    }
   },
   "outputs": [
    {
     "name": "stdout",
     "output_type": "stream",
     "text": [
      "Mean per class accuracies for the train set: \n",
      "TV: 94.1737\n",
      "after: 89.4439\n",
      "airplane: 90.3677\n",
      "all: 89.7665\n",
      "alligator: 91.7978\n",
      "animal: 83.0499\n",
      "another: 93.4681\n",
      "any: 92.5374\n",
      "apple: 92.4334\n",
      "arm: 91.9120\n",
      "aunt: 88.1760\n",
      "awake: 82.1475\n",
      "backyard: 88.1145\n",
      "bad: 91.2642\n",
      "balloon: 89.3557\n",
      "bath: 86.2491\n",
      "because: 94.9661\n",
      "bed: 90.5418\n",
      "bedroom: 88.2997\n",
      "bee: 92.6582\n",
      "before: 88.8988\n",
      "beside: 85.4884\n",
      "better: 93.2278\n",
      "bird: 94.8330\n",
      "black: 94.0474\n",
      "blow: 92.7690\n",
      "blue: 92.0544\n",
      "boat: 87.7916\n",
      "book: 89.7409\n",
      "boy: 90.4888\n",
      "brother: 94.0462\n",
      "brown: 92.3186\n",
      "bug: 96.0853\n",
      "bye: 93.4370\n",
      "callonphone: 93.0413\n",
      "can: 90.6289\n",
      "car: 93.0691\n",
      "carrot: 92.4366\n",
      "cat: 92.7914\n",
      "cereal: 88.5232\n",
      "chair: 85.1005\n",
      "cheek: 88.0806\n",
      "child: 89.4902\n",
      "chin: 84.1703\n",
      "chocolate: 91.6776\n",
      "clean: 91.7321\n",
      "close: 87.1644\n",
      "closet: 89.2115\n",
      "cloud: 94.5443\n",
      "clown: 94.7730\n",
      "cow: 93.5093\n",
      "cowboy: 91.4520\n",
      "cry: 88.4667\n",
      "cut: 89.9021\n",
      "cute: 91.9506\n",
      "dad: 91.0352\n",
      "dance: 87.4305\n",
      "dirty: 93.9280\n",
      "dog: 89.7634\n",
      "doll: 93.6287\n",
      "donkey: 91.7739\n",
      "down: 89.3438\n",
      "drawer: 92.9777\n",
      "drink: 94.8123\n",
      "drop: 84.4466\n",
      "dry: 87.2883\n",
      "dryer: 83.3272\n",
      "duck: 90.1157\n",
      "ear: 88.8993\n",
      "elephant: 92.6824\n",
      "empty: 92.8085\n",
      "every: 93.5403\n",
      "eye: 93.1247\n",
      "face: 91.5567\n",
      "fall: 91.3319\n",
      "farm: 93.0906\n",
      "fast: 91.1756\n",
      "feet: 90.9409\n",
      "find: 95.7299\n",
      "fine: 90.6380\n",
      "finger: 88.7126\n",
      "finish: 95.4293\n",
      "fireman: 94.4774\n",
      "first: 92.7190\n",
      "fish: 89.4777\n",
      "flag: 91.6605\n",
      "flower: 92.8773\n",
      "food: 92.3572\n",
      "for: 95.1905\n",
      "frenchfries: 92.4999\n",
      "frog: 88.5950\n",
      "garbage: 91.4378\n",
      "gift: 91.1729\n",
      "giraffe: 89.4638\n",
      "girl: 92.3882\n",
      "give: 85.7513\n",
      "glasswindow: 80.9728\n",
      "go: 88.4019\n",
      "goose: 85.7056\n",
      "grandma: 90.2164\n",
      "grandpa: 94.1929\n",
      "grass: 95.2682\n",
      "green: 89.7181\n",
      "gum: 87.9393\n",
      "hair: 93.4922\n",
      "happy: 94.0933\n",
      "hat: 91.9040\n",
      "hate: 93.6358\n",
      "have: 91.5488\n",
      "haveto: 89.3100\n",
      "head: 90.9062\n",
      "hear: 87.3109\n",
      "helicopter: 90.4919\n",
      "hello: 90.8840\n",
      "hen: 94.3870\n",
      "hesheit: 85.1377\n",
      "hide: 85.5451\n",
      "high: 93.3371\n",
      "home: 95.3718\n",
      "horse: 92.4900\n",
      "hot: 92.8735\n",
      "hungry: 91.2617\n",
      "icecream: 96.0205\n",
      "if: 90.7066\n",
      "into: 92.5726\n",
      "jacket: 93.9062\n",
      "jeans: 78.9855\n",
      "jump: 93.2559\n",
      "kiss: 93.1503\n",
      "kitty: 88.9302\n",
      "lamp: 88.3911\n",
      "later: 93.5070\n",
      "like: 90.4270\n",
      "lion: 92.1058\n",
      "lips: 88.1117\n",
      "listen: 94.6607\n",
      "look: 91.1435\n",
      "loud: 93.5965\n",
      "mad: 96.1956\n",
      "make: 88.4835\n",
      "man: 92.9447\n",
      "many: 87.0284\n",
      "milk: 90.7261\n",
      "minemy: 87.9799\n",
      "mitten: 96.6099\n",
      "mom: 93.6540\n",
      "moon: 93.0441\n",
      "morning: 90.2037\n",
      "mouse: 91.9410\n",
      "mouth: 79.2595\n",
      "nap: 86.4062\n",
      "napkin: 92.5821\n",
      "night: 90.7503\n",
      "no: 90.6039\n",
      "noisy: 90.8821\n",
      "nose: 91.0909\n",
      "not: 90.8018\n",
      "now: 92.1184\n",
      "nuts: 94.8503\n",
      "old: 88.9803\n",
      "on: 87.5682\n",
      "open: 88.2810\n",
      "orange: 94.0199\n",
      "outside: 93.9367\n",
      "owie: 91.0128\n",
      "owl: 94.4188\n",
      "pajamas: 93.0981\n",
      "pen: 88.0170\n",
      "pencil: 90.9067\n",
      "penny: 92.0283\n",
      "person: 93.1275\n",
      "pig: 87.4869\n",
      "pizza: 94.5935\n",
      "please: 89.3744\n",
      "police: 91.2567\n",
      "pool: 86.4437\n",
      "potty: 85.7588\n",
      "pretend: 86.2328\n",
      "pretty: 91.0255\n",
      "puppy: 83.7799\n",
      "puzzle: 86.9660\n",
      "quiet: 92.0262\n",
      "radio: 93.6264\n",
      "rain: 93.2176\n",
      "read: 87.6896\n",
      "red: 90.3856\n",
      "refrigerator: 92.0181\n",
      "ride: 89.2402\n",
      "room: 91.6705\n",
      "sad: 91.5937\n",
      "same: 88.2806\n",
      "say: 87.5482\n",
      "scissors: 94.8776\n",
      "see: 93.6978\n",
      "shhh: 94.6665\n",
      "shirt: 89.8326\n",
      "shoe: 85.6150\n",
      "shower: 92.2435\n",
      "sick: 92.8401\n",
      "sleep: 92.7510\n",
      "sleepy: 90.7578\n",
      "smile: 95.2649\n",
      "snack: 90.1289\n",
      "snow: 93.3289\n",
      "stairs: 86.3012\n",
      "stay: 90.1357\n",
      "sticky: 89.2903\n",
      "store: 89.6013\n",
      "story: 91.4787\n",
      "stuck: 94.2785\n",
      "sun: 94.5294\n",
      "table: 90.9171\n",
      "talk: 93.2982\n",
      "taste: 95.0961\n",
      "thankyou: 94.2677\n",
      "that: 91.0111\n",
      "there: 88.5353\n",
      "think: 90.9684\n",
      "thirsty: 90.1884\n",
      "tiger: 93.7245\n",
      "time: 89.9370\n",
      "tomorrow: 93.4883\n",
      "tongue: 86.9368\n",
      "tooth: 84.4033\n",
      "toothbrush: 85.9440\n",
      "touch: 89.5085\n",
      "toy: 89.5335\n",
      "tree: 90.2326\n",
      "uncle: 92.8309\n",
      "underwear: 87.7925\n",
      "up: 92.9487\n",
      "vacuum: 82.7865\n",
      "wait: 88.7516\n",
      "wake: 83.4568\n",
      "water: 91.9809\n",
      "wet: 88.8180\n",
      "weus: 90.7274\n",
      "where: 93.0704\n",
      "white: 87.3298\n",
      "who: 88.4744\n",
      "why: 92.2069\n",
      "will: 91.4840\n",
      "wolf: 92.5572\n",
      "yellow: 92.2211\n",
      "yes: 85.1483\n",
      "yesterday: 94.7926\n",
      "yourself: 87.2082\n",
      "yucky: 90.8380\n",
      "zebra: 92.5657\n",
      "zipper: 80.5957\n",
      "Mean per class accuracies for the validation set: \n",
      "TV: 60.6795\n",
      "after: 26.9055\n",
      "airplane: 59.7037\n",
      "all: 45.4319\n",
      "alligator: 51.4591\n",
      "animal: 41.4805\n",
      "another: 65.3000\n",
      "any: 60.8473\n",
      "apple: 70.1270\n",
      "arm: 75.5288\n",
      "aunt: 67.5949\n",
      "awake: 23.6420\n",
      "backyard: 33.1001\n",
      "bad: 51.9980\n",
      "balloon: 66.8950\n",
      "bath: 49.5564\n",
      "because: 86.0581\n",
      "bed: 67.0649\n",
      "bedroom: 52.6177\n",
      "bee: 50.3332\n",
      "before: 57.2275\n",
      "beside: 41.6377\n",
      "better: 90.8188\n",
      "bird: 89.3178\n",
      "black: 75.0438\n",
      "blow: 77.7010\n",
      "blue: 64.1604\n",
      "boat: 46.1739\n",
      "book: 64.4707\n",
      "boy: 52.5216\n",
      "brother: 61.1310\n",
      "brown: 73.4643\n",
      "bug: 65.9685\n",
      "bye: 77.1708\n",
      "callonphone: 82.2192\n",
      "can: 63.9530\n",
      "car: 50.2325\n",
      "carrot: 71.1836\n",
      "cat: 27.5744\n",
      "cereal: 44.0222\n",
      "chair: 31.4090\n",
      "cheek: 83.1164\n",
      "child: 66.5191\n",
      "chin: 51.4486\n",
      "chocolate: 82.0961\n",
      "clean: 49.3659\n",
      "close: 42.5426\n",
      "closet: 71.2384\n",
      "cloud: 32.7099\n",
      "clown: 84.8715\n",
      "cow: 76.9109\n",
      "cowboy: 81.9942\n",
      "cry: 60.3862\n",
      "cut: 45.2519\n",
      "cute: 77.2999\n",
      "dad: 62.7096\n",
      "dance: 46.5968\n",
      "dirty: 58.2207\n",
      "dog: 54.8051\n",
      "doll: 63.5602\n",
      "donkey: 61.9857\n",
      "down: 38.0775\n",
      "drawer: 39.6842\n",
      "drink: 69.4907\n",
      "drop: 51.0089\n",
      "dry: 87.0476\n",
      "dryer: 48.1234\n",
      "duck: 58.7885\n",
      "ear: 75.1920\n",
      "elephant: 79.8770\n",
      "empty: 51.0859\n",
      "every: 50.9892\n",
      "eye: 70.1834\n",
      "face: 75.7055\n",
      "fall: 55.2736\n",
      "farm: 69.0300\n",
      "fast: 39.6037\n",
      "feet: 64.6929\n",
      "find: 73.0712\n",
      "fine: 54.6541\n",
      "finger: 44.4854\n",
      "finish: 56.3701\n",
      "fireman: 81.7037\n",
      "first: 59.6823\n",
      "fish: 46.5316\n",
      "flag: 49.2991\n",
      "flower: 87.7899\n",
      "food: 82.1301\n",
      "for: 68.1189\n",
      "frenchfries: 67.0992\n",
      "frog: 74.0343\n",
      "garbage: 44.2373\n",
      "gift: 50.8423\n",
      "giraffe: 79.1828\n",
      "girl: 67.3495\n",
      "give: 20.9160\n",
      "glasswindow: 51.2809\n",
      "go: 43.1259\n",
      "goose: 36.9473\n",
      "grandma: 59.3082\n",
      "grandpa: 84.3951\n",
      "grass: 73.8197\n",
      "green: 64.7923\n",
      "gum: 75.2882\n",
      "hair: 81.3860\n",
      "happy: 64.5732\n",
      "hat: 52.0133\n",
      "hate: 60.5556\n",
      "have: 64.8195\n",
      "haveto: 40.8193\n",
      "head: 48.5851\n",
      "hear: 41.3536\n",
      "helicopter: 39.7942\n",
      "hello: 47.4125\n",
      "hen: 75.9468\n",
      "hesheit: 48.0669\n",
      "hide: 49.0663\n",
      "high: 79.1025\n",
      "home: 75.6506\n",
      "horse: 57.7950\n",
      "hot: 64.8739\n",
      "hungry: 77.9136\n",
      "icecream: 85.1555\n",
      "if: 61.0313\n",
      "into: 37.7722\n",
      "jacket: 71.0702\n",
      "jeans: 50.8299\n",
      "jump: 50.7617\n",
      "kiss: 51.6788\n",
      "kitty: 52.1092\n",
      "lamp: 55.7661\n",
      "later: 81.8954\n",
      "like: 65.4714\n",
      "lion: 56.6256\n",
      "lips: 40.5847\n",
      "listen: 64.7861\n",
      "look: 64.6286\n",
      "loud: 64.6404\n",
      "mad: 56.9108\n",
      "make: 39.2013\n",
      "man: 81.6889\n",
      "many: 51.2817\n",
      "milk: 56.5213\n",
      "minemy: 71.7723\n",
      "mitten: 54.9871\n",
      "mom: 59.5453\n",
      "moon: 62.9860\n",
      "morning: 56.6571\n",
      "mouse: 76.4409\n",
      "mouth: 40.5979\n",
      "nap: 37.6225\n",
      "napkin: 72.3665\n",
      "night: 54.6247\n",
      "no: 58.0504\n",
      "noisy: 31.6778\n",
      "nose: 58.6299\n",
      "not: 59.0755\n",
      "now: 76.4000\n",
      "nuts: 61.6433\n",
      "old: 61.9970\n",
      "on: 31.7538\n",
      "open: 71.3196\n",
      "orange: 73.8357\n",
      "outside: 68.1578\n",
      "owie: 39.8320\n",
      "owl: 92.2934\n",
      "pajamas: 41.7833\n",
      "pen: 20.3221\n",
      "pencil: 44.7018\n",
      "penny: 64.6372\n",
      "person: 38.8677\n",
      "pig: 61.4744\n",
      "pizza: 70.6436\n",
      "please: 79.5888\n",
      "police: 81.0770\n",
      "pool: 36.7673\n",
      "potty: 30.8473\n",
      "pretend: 51.8526\n",
      "pretty: 69.5770\n",
      "puppy: 31.5091\n",
      "puzzle: 46.4854\n",
      "quiet: 78.7566\n",
      "radio: 78.2551\n",
      "rain: 36.7067\n",
      "read: 28.6379\n",
      "red: 41.1285\n",
      "refrigerator: 50.8026\n",
      "ride: 46.0645\n",
      "room: 47.9667\n",
      "sad: 69.1677\n",
      "same: 52.1828\n",
      "say: 74.8333\n",
      "scissors: 48.4378\n",
      "see: 74.3049\n",
      "shhh: 85.5954\n",
      "shirt: 70.7880\n",
      "shoe: 75.2196\n",
      "shower: 59.2353\n",
      "sick: 72.9607\n",
      "sleep: 40.7073\n",
      "sleepy: 50.9089\n",
      "smile: 65.6924\n",
      "snack: 43.0015\n",
      "snow: 75.0338\n",
      "stairs: 69.8531\n",
      "stay: 45.7862\n",
      "sticky: 33.8459\n",
      "store: 79.2749\n",
      "story: 57.8725\n",
      "stuck: 69.7882\n",
      "sun: 67.6184\n",
      "table: 56.0228\n",
      "talk: 77.7317\n",
      "taste: 76.8369\n",
      "thankyou: 70.7740\n",
      "that: 62.4460\n",
      "there: 28.2827\n",
      "think: 63.5804\n",
      "thirsty: 90.1266\n",
      "tiger: 74.7253\n",
      "time: 63.1751\n",
      "tomorrow: 75.7211\n",
      "tongue: 46.1994\n",
      "tooth: 46.9530\n",
      "toothbrush: 79.2340\n",
      "touch: 65.5425\n",
      "toy: 50.7094\n",
      "tree: 69.1264\n",
      "uncle: 77.8242\n",
      "underwear: 76.9001\n",
      "up: 67.9488\n",
      "vacuum: 42.7533\n",
      "wait: 62.7552\n",
      "wake: 57.3776\n",
      "water: 84.4559\n",
      "wet: 54.0386\n",
      "weus: 66.4894\n",
      "where: 61.5220\n",
      "white: 38.0867\n",
      "who: 75.1903\n",
      "why: 52.0150\n",
      "will: 48.7828\n",
      "wolf: 81.9250\n",
      "yellow: 72.5474\n",
      "yes: 58.2005\n",
      "yesterday: 83.4272\n",
      "yourself: 55.7538\n",
      "yucky: 71.5831\n",
      "zebra: 55.5522\n",
      "zipper: 39.5634\n"
     ]
    }
   ],
   "source": [
    "def get_mean_per_class_accuracy(dataloader):\n",
    "    with torch.no_grad():\n",
    "        class_acc = [[] for i in range(250)]\n",
    "        \n",
    "        num_classes = 250\n",
    "        class_correct = [0] * num_classes\n",
    "        class_total = [0] * num_classes\n",
    "        for data, labels in dataloader:\n",
    "            outputs = model(data)\n",
    "            _, predicted = torch.max(outputs, 1)\n",
    "            c = (predicted == labels).squeeze()\n",
    "            for i in range(len(labels)):\n",
    "                label = labels[i]\n",
    "                class_correct[label] += c[i].item()\n",
    "                class_total[label] += 1\n",
    "            for i in range(num_classes):\n",
    "                if class_total[i]==0:\n",
    "                    class_acc[i].append(0)\n",
    "                else:\n",
    "                    class_acc[i].append(class_correct[i]/class_total[i])\n",
    "        mean_per_class_acc_list = [torch.mean(torch.tensor(class_acc[i])) for i in range(len(class_acc))]\n",
    "        return mean_per_class_acc_list\n",
    "    \n",
    "import json\n",
    "def read_json(path):\n",
    "    with open(path, \"r\") as file:\n",
    "        json_data = json.load(file)\n",
    "    return json_data\n",
    "\n",
    "s2p_map = read_json(os.path.join(\"/kaggle/input/sign-to-pred/sign_to_prediction_index_map.json\"))\n",
    "p2s_map = {v: k for k, v in s2p_map.items()}\n",
    "\n",
    "encoder = lambda x: s2p_map.get(x)\n",
    "decoder = lambda x: p2s_map.get(x)\n",
    "\n",
    "\n",
    "print('Mean per class accuracies for the train set: ')\n",
    "train_mean_per_class_acc = get_mean_per_class_accuracy(train_loader)\n",
    "for i in range(len(train_mean_per_class_acc)):\n",
    "    print(f'{p2s_map[i]}: {100*train_mean_per_class_acc[i]:.4f}')\n",
    "    \n",
    "print('Mean per class accuracies for the validation set: ')\n",
    "val_mean_per_class_acc = get_mean_per_class_accuracy(val_loader)\n",
    "for i in range(len(val_mean_per_class_acc)):\n",
    "    print(f'{p2s_map[i]}: {100*val_mean_per_class_acc[i]:.4f}')"
   ]
  },
  {
   "cell_type": "code",
   "execution_count": null,
   "id": "40f739f1",
   "metadata": {},
   "outputs": [],
   "source": [
    "from sklearn.metrics import confusion_matrix\n",
    "import seaborn as sn\n",
    "import pandas as pd\n",
    "\n",
    "y_pred = []\n",
    "y_true = []\n",
    "\n",
    "# iterate over test data\n",
    "for inputs, labels in val_loader:\n",
    "        output = model(inputs) # Feed Network\n",
    "\n",
    "        output = (torch.max(torch.exp(output), 1)[1]).data.cpu().numpy()\n",
    "        y_pred.extend(output) # Save Prediction\n",
    "        \n",
    "        labels = labels.data.cpu().numpy()\n",
    "        y_true.extend(labels) # Save Truth\n",
    "\n",
    "# constant for classes\n",
    "\n",
    "\n",
    "# Build confusion matrix\n",
    "cf_matrix = confusion_matrix(y_true, y_pred)\n",
    "df_cm = pd.DataFrame(cf_matrix / np.sum(cf_matrix, axis=1)[:, None], index = [v for k,v in p2s_map.items()],\n",
    "                     columns = [v for k,v in p2s_map.items()])\n",
    "plt.figure(figsize = (250,250))\n",
    "sn.heatmap(df_cm, annot=True)\n",
    "# plt.savefig('output.png')"
   ]
  },
  {
   "cell_type": "code",
   "execution_count": null,
   "id": "5273c23e",
   "metadata": {},
   "outputs": [],
   "source": [
    "plt.savefig('output.png')"
   ]
  },
  {
   "cell_type": "markdown",
   "id": "9a45cc17",
   "metadata": {},
   "source": []
  },
  {
   "cell_type": "code",
   "execution_count": 16,
   "id": "2d30d0b0",
   "metadata": {
    "execution": {
     "iopub.execute_input": "2023-04-25T05:44:52.277855Z",
     "iopub.status.busy": "2023-04-25T05:44:52.277326Z",
     "iopub.status.idle": "2023-04-25T05:44:53.521436Z",
     "shell.execute_reply": "2023-04-25T05:44:53.520406Z",
     "shell.execute_reply.started": "2023-04-25T05:44:52.277812Z"
    }
   },
   "outputs": [],
   "source": [
    "num_features = 176\n",
    "hidden_size = 256\n",
    "num_layers = 4\n",
    "num_classes = 250\n",
    "model = LSTMModel(num_features = num_features, hidden_size = hidden_size, num_layers = num_layers, \n",
    "                  bidirectional = True, num_classes = num_classes, batch_first = True).to(device)"
   ]
  },
  {
   "cell_type": "code",
   "execution_count": 17,
   "id": "cd76ce76",
   "metadata": {
    "execution": {
     "iopub.execute_input": "2023-04-25T05:44:53.523574Z",
     "iopub.status.busy": "2023-04-25T05:44:53.523206Z",
     "iopub.status.idle": "2023-04-25T13:00:20.726145Z",
     "shell.execute_reply": "2023-04-25T13:00:20.724855Z",
     "shell.execute_reply.started": "2023-04-25T05:44:53.523536Z"
    }
   },
   "outputs": [
    {
     "name": "stderr",
     "output_type": "stream",
     "text": [
      "Epoch 1: 100%|██████████| 333/333 [01:28<00:00,  3.77it/s, accuracy=0.428, loss=2.47, val_accuracy=0.396, val_loss=2.59]\n",
      "Epoch 2: 100%|██████████| 333/333 [01:26<00:00,  3.85it/s, accuracy=0.566, loss=1.7, val_accuracy=0.461, val_loss=2.3] \n",
      "Epoch 3: 100%|██████████| 333/333 [01:26<00:00,  3.84it/s, accuracy=0.584, loss=1.62, val_accuracy=0.439, val_loss=2.42]\n",
      "Epoch 4: 100%|██████████| 333/333 [01:26<00:00,  3.84it/s, accuracy=0.622, loss=1.49, val_accuracy=0.435, val_loss=2.43]\n",
      "Epoch 5: 100%|██████████| 333/333 [01:26<00:00,  3.83it/s, accuracy=0.66, loss=1.36, val_accuracy=0.485, val_loss=2.22]\n",
      "Epoch 6: 100%|██████████| 333/333 [01:26<00:00,  3.83it/s, accuracy=0.701, loss=1.23, val_accuracy=0.494, val_loss=2.18]\n",
      "Epoch 7: 100%|██████████| 333/333 [01:26<00:00,  3.85it/s, accuracy=0.735, loss=1.12, val_accuracy=0.507, val_loss=2.15]\n",
      "Epoch 8: 100%|██████████| 333/333 [01:26<00:00,  3.83it/s, accuracy=0.76, loss=1.04, val_accuracy=0.511, val_loss=2.14]\n"
     ]
    },
    {
     "name": "stdout",
     "output_type": "stream",
     "text": [
      "\n"
     ]
    },
    {
     "name": "stderr",
     "output_type": "stream",
     "text": [
      "Epoch 9: 100%|██████████| 333/333 [01:26<00:00,  3.83it/s, accuracy=0.606, loss=1.55, val_accuracy=0.439, val_loss=2.43]\n",
      "Epoch 10: 100%|██████████| 333/333 [01:26<00:00,  3.84it/s, accuracy=0.611, loss=1.52, val_accuracy=0.451, val_loss=2.38]\n",
      "Epoch 11: 100%|██████████| 333/333 [01:27<00:00,  3.83it/s, accuracy=0.629, loss=1.46, val_accuracy=0.459, val_loss=2.35]\n",
      "Epoch 12: 100%|██████████| 333/333 [01:26<00:00,  3.85it/s, accuracy=0.657, loss=1.36, val_accuracy=0.471, val_loss=2.3] \n",
      "Epoch 13: 100%|██████████| 333/333 [01:26<00:00,  3.83it/s, accuracy=0.695, loss=1.23, val_accuracy=0.469, val_loss=2.31]\n",
      "Epoch 14: 100%|██████████| 333/333 [01:27<00:00,  3.82it/s, accuracy=0.734, loss=1.11, val_accuracy=0.497, val_loss=2.2] \n",
      "Epoch 15: 100%|██████████| 333/333 [01:26<00:00,  3.83it/s, accuracy=0.769, loss=0.997, val_accuracy=0.511, val_loss=2.16]\n",
      "Epoch 16: 100%|██████████| 333/333 [01:26<00:00,  3.83it/s, accuracy=0.792, loss=0.925, val_accuracy=0.51, val_loss=2.17] \n"
     ]
    },
    {
     "name": "stdout",
     "output_type": "stream",
     "text": [
      "\n"
     ]
    },
    {
     "name": "stderr",
     "output_type": "stream",
     "text": [
      "Epoch 17: 100%|██████████| 333/333 [01:26<00:00,  3.85it/s, accuracy=0.628, loss=1.44, val_accuracy=0.454, val_loss=2.36]\n",
      "Epoch 18: 100%|██████████| 333/333 [01:27<00:00,  3.82it/s, accuracy=0.639, loss=1.4, val_accuracy=0.44, val_loss=2.45] \n",
      "Epoch 19: 100%|██████████| 333/333 [01:27<00:00,  3.82it/s, accuracy=0.655, loss=1.35, val_accuracy=0.438, val_loss=2.48]\n",
      "Epoch 20: 100%|██████████| 333/333 [01:27<00:00,  3.82it/s, accuracy=0.683, loss=1.25, val_accuracy=0.484, val_loss=2.25]\n",
      "Epoch 21: 100%|██████████| 333/333 [01:27<00:00,  3.82it/s, accuracy=0.718, loss=1.13, val_accuracy=0.496, val_loss=2.23]\n",
      "Epoch 22: 100%|██████████| 333/333 [01:26<00:00,  3.83it/s, accuracy=0.761, loss=1, val_accuracy=0.511, val_loss=2.19]\n",
      "Epoch 23: 100%|██████████| 333/333 [01:27<00:00,  3.82it/s, accuracy=0.797, loss=0.895, val_accuracy=0.514, val_loss=2.17]\n",
      "Epoch 24: 100%|██████████| 333/333 [01:27<00:00,  3.81it/s, accuracy=0.822, loss=0.824, val_accuracy=0.516, val_loss=2.17]\n"
     ]
    },
    {
     "name": "stdout",
     "output_type": "stream",
     "text": [
      "\n"
     ]
    },
    {
     "name": "stderr",
     "output_type": "stream",
     "text": [
      "Epoch 25: 100%|██████████| 333/333 [01:27<00:00,  3.81it/s, accuracy=0.666, loss=1.3, val_accuracy=0.464, val_loss=2.37]\n",
      "Epoch 26: 100%|██████████| 333/333 [01:27<00:00,  3.82it/s, accuracy=0.662, loss=1.32, val_accuracy=0.445, val_loss=2.5] \n",
      "Epoch 27: 100%|██████████| 333/333 [01:26<00:00,  3.84it/s, accuracy=0.669, loss=1.28, val_accuracy=0.464, val_loss=2.38]\n",
      "Epoch 28: 100%|██████████| 333/333 [01:27<00:00,  3.81it/s, accuracy=0.704, loss=1.17, val_accuracy=0.467, val_loss=2.35]\n",
      "Epoch 29: 100%|██████████| 333/333 [01:27<00:00,  3.81it/s, accuracy=0.743, loss=1.05, val_accuracy=0.5, val_loss=2.25]  \n",
      "Epoch 30: 100%|██████████| 333/333 [01:27<00:00,  3.83it/s, accuracy=0.784, loss=0.92, val_accuracy=0.508, val_loss=2.23]\n",
      "Epoch 31: 100%|██████████| 333/333 [01:27<00:00,  3.81it/s, accuracy=0.821, loss=0.811, val_accuracy=0.519, val_loss=2.2] \n",
      "Epoch 32: 100%|██████████| 333/333 [01:26<00:00,  3.83it/s, accuracy=0.845, loss=0.742, val_accuracy=0.519, val_loss=2.19]\n"
     ]
    },
    {
     "name": "stdout",
     "output_type": "stream",
     "text": [
      "\n"
     ]
    },
    {
     "name": "stderr",
     "output_type": "stream",
     "text": [
      "Epoch 33: 100%|██████████| 333/333 [01:27<00:00,  3.82it/s, accuracy=0.668, loss=1.29, val_accuracy=0.438, val_loss=2.5] \n",
      "Epoch 34: 100%|██████████| 333/333 [01:27<00:00,  3.80it/s, accuracy=0.674, loss=1.26, val_accuracy=0.446, val_loss=2.47]\n",
      "Epoch 35: 100%|██████████| 333/333 [01:27<00:00,  3.81it/s, accuracy=0.682, loss=1.23, val_accuracy=0.492, val_loss=2.3] \n",
      "Epoch 36: 100%|██████████| 333/333 [01:27<00:00,  3.81it/s, accuracy=0.718, loss=1.11, val_accuracy=0.485, val_loss=2.31]\n",
      "Epoch 37: 100%|██████████| 333/333 [01:26<00:00,  3.84it/s, accuracy=0.76, loss=0.978, val_accuracy=0.484, val_loss=2.35]\n",
      "Epoch 38: 100%|██████████| 333/333 [01:27<00:00,  3.81it/s, accuracy=0.805, loss=0.845, val_accuracy=0.513, val_loss=2.24]\n",
      "Epoch 39: 100%|██████████| 333/333 [01:27<00:00,  3.81it/s, accuracy=0.842, loss=0.74, val_accuracy=0.521, val_loss=2.21]\n",
      "Epoch 40: 100%|██████████| 333/333 [01:27<00:00,  3.82it/s, accuracy=0.868, loss=0.665, val_accuracy=0.523, val_loss=2.22]\n"
     ]
    },
    {
     "name": "stdout",
     "output_type": "stream",
     "text": [
      "\n"
     ]
    },
    {
     "name": "stderr",
     "output_type": "stream",
     "text": [
      "Epoch 41: 100%|██████████| 333/333 [01:27<00:00,  3.81it/s, accuracy=0.689, loss=1.2, val_accuracy=0.446, val_loss=2.51]\n",
      "Epoch 42: 100%|██████████| 333/333 [01:26<00:00,  3.84it/s, accuracy=0.687, loss=1.2, val_accuracy=0.474, val_loss=2.4] \n",
      "Epoch 43: 100%|██████████| 333/333 [01:27<00:00,  3.82it/s, accuracy=0.701, loss=1.16, val_accuracy=0.469, val_loss=2.4] \n",
      "Epoch 44: 100%|██████████| 333/333 [01:27<00:00,  3.81it/s, accuracy=0.741, loss=1.03, val_accuracy=0.493, val_loss=2.33]\n",
      "Epoch 45: 100%|██████████| 333/333 [01:27<00:00,  3.81it/s, accuracy=0.779, loss=0.91, val_accuracy=0.514, val_loss=2.24]\n",
      "Epoch 46: 100%|██████████| 333/333 [01:27<00:00,  3.82it/s, accuracy=0.825, loss=0.776, val_accuracy=0.513, val_loss=2.28]\n",
      "Epoch 47: 100%|██████████| 333/333 [01:26<00:00,  3.84it/s, accuracy=0.86, loss=0.673, val_accuracy=0.521, val_loss=2.24]\n",
      "Epoch 48: 100%|██████████| 333/333 [01:27<00:00,  3.81it/s, accuracy=0.885, loss=0.605, val_accuracy=0.524, val_loss=2.22]\n"
     ]
    },
    {
     "name": "stdout",
     "output_type": "stream",
     "text": [
      "\n"
     ]
    },
    {
     "name": "stderr",
     "output_type": "stream",
     "text": [
      "Epoch 49: 100%|██████████| 333/333 [01:27<00:00,  3.81it/s, accuracy=0.709, loss=1.12, val_accuracy=0.484, val_loss=2.44]\n",
      "Epoch 50: 100%|██████████| 333/333 [01:27<00:00,  3.83it/s, accuracy=0.7, loss=1.16, val_accuracy=0.468, val_loss=2.4] \n",
      "Epoch 51: 100%|██████████| 333/333 [01:27<00:00,  3.81it/s, accuracy=0.718, loss=1.09, val_accuracy=0.456, val_loss=2.51]\n",
      "Epoch 52: 100%|██████████| 333/333 [01:26<00:00,  3.83it/s, accuracy=0.752, loss=0.985, val_accuracy=0.499, val_loss=2.3] \n",
      "Epoch 53: 100%|██████████| 333/333 [01:27<00:00,  3.81it/s, accuracy=0.794, loss=0.858, val_accuracy=0.5, val_loss=2.33]  \n",
      "Epoch 54: 100%|██████████| 333/333 [01:27<00:00,  3.80it/s, accuracy=0.841, loss=0.719, val_accuracy=0.517, val_loss=2.28]\n",
      "Epoch 55: 100%|██████████| 333/333 [01:27<00:00,  3.81it/s, accuracy=0.877, loss=0.615, val_accuracy=0.525, val_loss=2.24]\n",
      "Epoch 56: 100%|██████████| 333/333 [01:27<00:00,  3.81it/s, accuracy=0.899, loss=0.553, val_accuracy=0.523, val_loss=2.27]\n"
     ]
    },
    {
     "name": "stdout",
     "output_type": "stream",
     "text": [
      "\n"
     ]
    },
    {
     "name": "stderr",
     "output_type": "stream",
     "text": [
      "Epoch 57: 100%|██████████| 333/333 [01:26<00:00,  3.83it/s, accuracy=0.72, loss=1.09, val_accuracy=0.491, val_loss=2.39]\n",
      "Epoch 58: 100%|██████████| 333/333 [01:27<00:00,  3.81it/s, accuracy=0.715, loss=1.09, val_accuracy=0.436, val_loss=2.62]\n",
      "Epoch 59: 100%|██████████| 333/333 [01:27<00:00,  3.81it/s, accuracy=0.735, loss=1.03, val_accuracy=0.463, val_loss=2.5] \n",
      "Epoch 60: 100%|██████████| 333/333 [01:27<00:00,  3.82it/s, accuracy=0.768, loss=0.927, val_accuracy=0.475, val_loss=2.43]\n",
      "Epoch 61: 100%|██████████| 333/333 [01:27<00:00,  3.81it/s, accuracy=0.809, loss=0.802, val_accuracy=0.509, val_loss=2.32]\n",
      "Epoch 62: 100%|██████████| 333/333 [01:26<00:00,  3.84it/s, accuracy=0.858, loss=0.663, val_accuracy=0.514, val_loss=2.31]\n",
      "Epoch 63: 100%|██████████| 333/333 [01:26<00:00,  3.84it/s, accuracy=0.891, loss=0.569, val_accuracy=0.522, val_loss=2.3] \n",
      "Epoch 64: 100%|██████████| 333/333 [01:27<00:00,  3.82it/s, accuracy=0.912, loss=0.508, val_accuracy=0.524, val_loss=2.3] \n"
     ]
    },
    {
     "name": "stdout",
     "output_type": "stream",
     "text": [
      "\n"
     ]
    },
    {
     "name": "stderr",
     "output_type": "stream",
     "text": [
      "Epoch 65: 100%|██████████| 333/333 [01:26<00:00,  3.83it/s, accuracy=0.735, loss=1.03, val_accuracy=0.449, val_loss=2.65]\n",
      "Epoch 66: 100%|██████████| 333/333 [01:27<00:00,  3.83it/s, accuracy=0.714, loss=1.1, val_accuracy=0.463, val_loss=2.53]\n",
      "Epoch 67: 100%|██████████| 333/333 [01:26<00:00,  3.85it/s, accuracy=0.75, loss=0.978, val_accuracy=0.47, val_loss=2.53] \n",
      "Epoch 68: 100%|██████████| 333/333 [01:27<00:00,  3.82it/s, accuracy=0.78, loss=0.881, val_accuracy=0.496, val_loss=2.35]\n",
      "Epoch 69: 100%|██████████| 333/333 [01:27<00:00,  3.83it/s, accuracy=0.829, loss=0.74, val_accuracy=0.509, val_loss=2.35]\n",
      "Epoch 70: 100%|██████████| 333/333 [01:26<00:00,  3.83it/s, accuracy=0.871, loss=0.621, val_accuracy=0.523, val_loss=2.31]\n",
      "Epoch 71: 100%|██████████| 333/333 [01:26<00:00,  3.83it/s, accuracy=0.902, loss=0.527, val_accuracy=0.519, val_loss=2.31]\n",
      "Epoch 72: 100%|██████████| 333/333 [01:26<00:00,  3.84it/s, accuracy=0.921, loss=0.468, val_accuracy=0.522, val_loss=2.33]\n"
     ]
    },
    {
     "name": "stdout",
     "output_type": "stream",
     "text": [
      "\n"
     ]
    },
    {
     "name": "stderr",
     "output_type": "stream",
     "text": [
      "Epoch 73: 100%|██████████| 333/333 [01:26<00:00,  3.83it/s, accuracy=0.757, loss=0.949, val_accuracy=0.441, val_loss=2.72]\n",
      "Epoch 74: 100%|██████████| 333/333 [01:27<00:00,  3.83it/s, accuracy=0.738, loss=1, val_accuracy=0.483, val_loss=2.46]\n",
      "Epoch 75: 100%|██████████| 333/333 [01:26<00:00,  3.85it/s, accuracy=0.761, loss=0.937, val_accuracy=0.487, val_loss=2.41]\n",
      "Epoch 76: 100%|██████████| 333/333 [01:27<00:00,  3.82it/s, accuracy=0.792, loss=0.841, val_accuracy=0.491, val_loss=2.42]\n",
      "Epoch 77: 100%|██████████| 333/333 [01:27<00:00,  3.82it/s, accuracy=0.837, loss=0.704, val_accuracy=0.506, val_loss=2.36]\n",
      "Epoch 78: 100%|██████████| 333/333 [01:26<00:00,  3.83it/s, accuracy=0.879, loss=0.588, val_accuracy=0.508, val_loss=2.39]\n",
      "Epoch 79: 100%|██████████| 333/333 [01:27<00:00,  3.83it/s, accuracy=0.913, loss=0.49, val_accuracy=0.527, val_loss=2.32]\n",
      "Epoch 80: 100%|██████████| 333/333 [01:26<00:00,  3.84it/s, accuracy=0.928, loss=0.437, val_accuracy=0.527, val_loss=2.33]\n"
     ]
    },
    {
     "name": "stdout",
     "output_type": "stream",
     "text": [
      "\n"
     ]
    },
    {
     "name": "stderr",
     "output_type": "stream",
     "text": [
      "Epoch 81: 100%|██████████| 333/333 [01:26<00:00,  3.83it/s, accuracy=0.745, loss=0.986, val_accuracy=0.464, val_loss=2.58]\n",
      "Epoch 82: 100%|██████████| 333/333 [01:26<00:00,  3.83it/s, accuracy=0.75, loss=0.965, val_accuracy=0.48, val_loss=2.48] \n",
      "Epoch 83: 100%|██████████| 333/333 [01:27<00:00,  3.82it/s, accuracy=0.765, loss=0.915, val_accuracy=0.467, val_loss=2.58]\n",
      "Epoch 84: 100%|██████████| 333/333 [01:27<00:00,  3.82it/s, accuracy=0.803, loss=0.803, val_accuracy=0.492, val_loss=2.43]\n",
      "Epoch 85: 100%|██████████| 333/333 [01:26<00:00,  3.84it/s, accuracy=0.852, loss=0.658, val_accuracy=0.52, val_loss=2.33] \n",
      "Epoch 86: 100%|██████████| 333/333 [01:27<00:00,  3.82it/s, accuracy=0.89, loss=0.551, val_accuracy=0.513, val_loss=2.38]\n",
      "Epoch 87: 100%|██████████| 333/333 [01:27<00:00,  3.82it/s, accuracy=0.92, loss=0.463, val_accuracy=0.521, val_loss=2.37]\n",
      "Epoch 88: 100%|██████████| 333/333 [01:27<00:00,  3.82it/s, accuracy=0.934, loss=0.411, val_accuracy=0.53, val_loss=2.36] \n"
     ]
    },
    {
     "name": "stdout",
     "output_type": "stream",
     "text": [
      "\n"
     ]
    },
    {
     "name": "stderr",
     "output_type": "stream",
     "text": [
      "Epoch 89: 100%|██████████| 333/333 [01:26<00:00,  3.86it/s, accuracy=0.763, loss=0.926, val_accuracy=0.474, val_loss=2.57]\n",
      "Epoch 90: 100%|██████████| 333/333 [01:26<00:00,  3.84it/s, accuracy=0.76, loss=0.932, val_accuracy=0.47, val_loss=2.57] \n",
      "Epoch 91: 100%|██████████| 333/333 [01:27<00:00,  3.81it/s, accuracy=0.77, loss=0.895, val_accuracy=0.448, val_loss=2.68]\n",
      "Epoch 92: 100%|██████████| 333/333 [01:27<00:00,  3.81it/s, accuracy=0.814, loss=0.764, val_accuracy=0.503, val_loss=2.42]\n",
      "Epoch 93: 100%|██████████| 333/333 [01:27<00:00,  3.81it/s, accuracy=0.856, loss=0.644, val_accuracy=0.512, val_loss=2.4] \n",
      "Epoch 94: 100%|██████████| 333/333 [01:26<00:00,  3.85it/s, accuracy=0.899, loss=0.52, val_accuracy=0.521, val_loss=2.41]\n",
      "Epoch 95: 100%|██████████| 333/333 [01:26<00:00,  3.83it/s, accuracy=0.926, loss=0.435, val_accuracy=0.527, val_loss=2.39]\n",
      "Epoch 96: 100%|██████████| 333/333 [01:27<00:00,  3.80it/s, accuracy=0.939, loss=0.388, val_accuracy=0.527, val_loss=2.41]\n"
     ]
    },
    {
     "name": "stdout",
     "output_type": "stream",
     "text": [
      "\n"
     ]
    },
    {
     "name": "stderr",
     "output_type": "stream",
     "text": [
      "Epoch 97: 100%|██████████| 333/333 [01:27<00:00,  3.81it/s, accuracy=0.777, loss=0.878, val_accuracy=0.448, val_loss=2.73]\n",
      "Epoch 98: 100%|██████████| 333/333 [01:27<00:00,  3.81it/s, accuracy=0.768, loss=0.898, val_accuracy=0.476, val_loss=2.57]\n",
      "Epoch 99: 100%|██████████| 333/333 [01:26<00:00,  3.84it/s, accuracy=0.798, loss=0.808, val_accuracy=0.462, val_loss=2.66]\n",
      "Epoch 100: 100%|██████████| 333/333 [01:26<00:00,  3.83it/s, accuracy=0.821, loss=0.742, val_accuracy=0.473, val_loss=2.55]\n",
      "Epoch 101: 100%|██████████| 333/333 [01:27<00:00,  3.80it/s, accuracy=0.868, loss=0.605, val_accuracy=0.505, val_loss=2.44]\n",
      "Epoch 102: 100%|██████████| 333/333 [01:27<00:00,  3.80it/s, accuracy=0.906, loss=0.493, val_accuracy=0.512, val_loss=2.42]\n",
      "Epoch 103: 100%|██████████| 333/333 [01:27<00:00,  3.80it/s, accuracy=0.93, loss=0.416, val_accuracy=0.527, val_loss=2.41]\n",
      "Epoch 104: 100%|██████████| 333/333 [01:26<00:00,  3.86it/s, accuracy=0.942, loss=0.371, val_accuracy=0.53, val_loss=2.4]  \n"
     ]
    },
    {
     "name": "stdout",
     "output_type": "stream",
     "text": [
      "\n"
     ]
    },
    {
     "name": "stderr",
     "output_type": "stream",
     "text": [
      "Epoch 105: 100%|██████████| 333/333 [01:26<00:00,  3.83it/s, accuracy=0.773, loss=0.892, val_accuracy=0.465, val_loss=2.66]\n",
      "Epoch 106: 100%|██████████| 333/333 [01:27<00:00,  3.80it/s, accuracy=0.779, loss=0.866, val_accuracy=0.444, val_loss=2.76]\n",
      "Epoch 107: 100%|██████████| 333/333 [01:27<00:00,  3.81it/s, accuracy=0.79, loss=0.828, val_accuracy=0.474, val_loss=2.56]\n",
      "Epoch 108: 100%|██████████| 333/333 [01:27<00:00,  3.81it/s, accuracy=0.828, loss=0.719, val_accuracy=0.5, val_loss=2.46]  \n",
      "Epoch 109: 100%|██████████| 333/333 [01:26<00:00,  3.85it/s, accuracy=0.877, loss=0.578, val_accuracy=0.494, val_loss=2.52]\n",
      "Epoch 110: 100%|██████████| 333/333 [01:26<00:00,  3.83it/s, accuracy=0.912, loss=0.472, val_accuracy=0.523, val_loss=2.41]\n",
      "Epoch 111: 100%|██████████| 333/333 [01:27<00:00,  3.80it/s, accuracy=0.934, loss=0.399, val_accuracy=0.528, val_loss=2.41]\n",
      "Epoch 112: 100%|██████████| 333/333 [01:27<00:00,  3.80it/s, accuracy=0.944, loss=0.358, val_accuracy=0.529, val_loss=2.43]\n"
     ]
    },
    {
     "name": "stdout",
     "output_type": "stream",
     "text": [
      "\n"
     ]
    },
    {
     "name": "stderr",
     "output_type": "stream",
     "text": [
      "Epoch 113: 100%|██████████| 333/333 [01:27<00:00,  3.81it/s, accuracy=0.778, loss=0.865, val_accuracy=0.472, val_loss=2.62]\n",
      "Epoch 114: 100%|██████████| 333/333 [01:26<00:00,  3.85it/s, accuracy=0.776, loss=0.874, val_accuracy=0.462, val_loss=2.65]\n",
      "Epoch 115: 100%|██████████| 333/333 [01:26<00:00,  3.83it/s, accuracy=0.8, loss=0.8, val_accuracy=0.486, val_loss=2.54]\n",
      "Epoch 116: 100%|██████████| 333/333 [01:27<00:00,  3.80it/s, accuracy=0.836, loss=0.687, val_accuracy=0.498, val_loss=2.48]\n",
      "Epoch 117: 100%|██████████| 333/333 [01:27<00:00,  3.80it/s, accuracy=0.88, loss=0.561, val_accuracy=0.516, val_loss=2.44]\n",
      "Epoch 118: 100%|██████████| 333/333 [01:27<00:00,  3.80it/s, accuracy=0.917, loss=0.457, val_accuracy=0.518, val_loss=2.44]\n",
      "Epoch 119: 100%|██████████| 333/333 [01:26<00:00,  3.86it/s, accuracy=0.937, loss=0.384, val_accuracy=0.527, val_loss=2.43]\n",
      "Epoch 120: 100%|██████████| 333/333 [01:26<00:00,  3.83it/s, accuracy=0.946, loss=0.345, val_accuracy=0.53, val_loss=2.44] \n"
     ]
    },
    {
     "name": "stdout",
     "output_type": "stream",
     "text": [
      "\n"
     ]
    },
    {
     "name": "stderr",
     "output_type": "stream",
     "text": [
      "Epoch 121: 100%|██████████| 333/333 [01:27<00:00,  3.81it/s, accuracy=0.794, loss=0.815, val_accuracy=0.478, val_loss=2.63]\n",
      "Epoch 122: 100%|██████████| 333/333 [01:27<00:00,  3.81it/s, accuracy=0.79, loss=0.826, val_accuracy=0.48, val_loss=2.6]  \n",
      "Epoch 123: 100%|██████████| 333/333 [01:27<00:00,  3.81it/s, accuracy=0.806, loss=0.779, val_accuracy=0.478, val_loss=2.6] \n",
      "Epoch 124: 100%|██████████| 333/333 [01:26<00:00,  3.86it/s, accuracy=0.838, loss=0.678, val_accuracy=0.469, val_loss=2.67]\n",
      "Epoch 125: 100%|██████████| 333/333 [01:26<00:00,  3.83it/s, accuracy=0.887, loss=0.539, val_accuracy=0.512, val_loss=2.47]\n",
      "Epoch 126: 100%|██████████| 333/333 [01:27<00:00,  3.81it/s, accuracy=0.92, loss=0.442, val_accuracy=0.52, val_loss=2.44] \n",
      "Epoch 127: 100%|██████████| 333/333 [01:27<00:00,  3.80it/s, accuracy=0.939, loss=0.373, val_accuracy=0.527, val_loss=2.46]\n",
      "Epoch 128: 100%|██████████| 333/333 [01:27<00:00,  3.81it/s, accuracy=0.947, loss=0.337, val_accuracy=0.533, val_loss=2.46]\n"
     ]
    },
    {
     "name": "stdout",
     "output_type": "stream",
     "text": [
      "\n"
     ]
    },
    {
     "name": "stderr",
     "output_type": "stream",
     "text": [
      "Epoch 129: 100%|██████████| 333/333 [01:26<00:00,  3.86it/s, accuracy=0.8, loss=0.796, val_accuracy=0.476, val_loss=2.68]\n",
      "Epoch 130: 100%|██████████| 333/333 [01:26<00:00,  3.84it/s, accuracy=0.797, loss=0.806, val_accuracy=0.482, val_loss=2.63]\n",
      "Epoch 131: 100%|██████████| 333/333 [01:27<00:00,  3.81it/s, accuracy=0.818, loss=0.739, val_accuracy=0.465, val_loss=2.72]\n",
      "Epoch 132: 100%|██████████| 333/333 [01:27<00:00,  3.81it/s, accuracy=0.852, loss=0.636, val_accuracy=0.515, val_loss=2.45]\n",
      "Epoch 133: 100%|██████████| 333/333 [01:27<00:00,  3.81it/s, accuracy=0.89, loss=0.525, val_accuracy=0.514, val_loss=2.47]\n",
      "Epoch 134: 100%|██████████| 333/333 [01:26<00:00,  3.85it/s, accuracy=0.923, loss=0.429, val_accuracy=0.517, val_loss=2.51]\n",
      "Epoch 135: 100%|██████████| 333/333 [01:26<00:00,  3.83it/s, accuracy=0.941, loss=0.362, val_accuracy=0.533, val_loss=2.47]\n",
      "Epoch 136: 100%|██████████| 333/333 [01:27<00:00,  3.81it/s, accuracy=0.948, loss=0.329, val_accuracy=0.535, val_loss=2.47]\n"
     ]
    },
    {
     "name": "stdout",
     "output_type": "stream",
     "text": [
      "\n"
     ]
    },
    {
     "name": "stderr",
     "output_type": "stream",
     "text": [
      "Epoch 137: 100%|██████████| 333/333 [01:27<00:00,  3.81it/s, accuracy=0.81, loss=0.767, val_accuracy=0.454, val_loss=2.81]\n",
      "Epoch 138: 100%|██████████| 333/333 [01:27<00:00,  3.81it/s, accuracy=0.804, loss=0.785, val_accuracy=0.47, val_loss=2.69] \n",
      "Epoch 139: 100%|██████████| 333/333 [01:26<00:00,  3.86it/s, accuracy=0.826, loss=0.716, val_accuracy=0.441, val_loss=2.82]\n",
      "Epoch 140: 100%|██████████| 333/333 [01:26<00:00,  3.84it/s, accuracy=0.855, loss=0.627, val_accuracy=0.496, val_loss=2.56]\n",
      "Epoch 141: 100%|██████████| 333/333 [01:27<00:00,  3.81it/s, accuracy=0.891, loss=0.522, val_accuracy=0.511, val_loss=2.52]\n",
      "Epoch 142: 100%|██████████| 333/333 [01:27<00:00,  3.81it/s, accuracy=0.925, loss=0.422, val_accuracy=0.525, val_loss=2.49]\n",
      "Epoch 143: 100%|██████████| 333/333 [01:27<00:00,  3.81it/s, accuracy=0.943, loss=0.353, val_accuracy=0.532, val_loss=2.47]\n",
      "Epoch 144: 100%|██████████| 333/333 [01:26<00:00,  3.85it/s, accuracy=0.948, loss=0.323, val_accuracy=0.534, val_loss=2.49]\n"
     ]
    },
    {
     "name": "stdout",
     "output_type": "stream",
     "text": [
      "\n"
     ]
    },
    {
     "name": "stderr",
     "output_type": "stream",
     "text": [
      "Epoch 145: 100%|██████████| 333/333 [01:26<00:00,  3.84it/s, accuracy=0.813, loss=0.755, val_accuracy=0.479, val_loss=2.65]\n",
      "Epoch 146: 100%|██████████| 333/333 [01:27<00:00,  3.81it/s, accuracy=0.806, loss=0.774, val_accuracy=0.484, val_loss=2.63]\n",
      "Epoch 147: 100%|██████████| 333/333 [01:27<00:00,  3.81it/s, accuracy=0.824, loss=0.716, val_accuracy=0.488, val_loss=2.6] \n",
      "Epoch 148: 100%|██████████| 333/333 [01:27<00:00,  3.81it/s, accuracy=0.856, loss=0.622, val_accuracy=0.497, val_loss=2.59]\n",
      "Epoch 149: 100%|██████████| 333/333 [01:26<00:00,  3.85it/s, accuracy=0.898, loss=0.499, val_accuracy=0.512, val_loss=2.52]\n",
      "Epoch 150: 100%|██████████| 333/333 [01:26<00:00,  3.84it/s, accuracy=0.928, loss=0.406, val_accuracy=0.523, val_loss=2.51]\n",
      "Epoch 151: 100%|██████████| 333/333 [01:27<00:00,  3.80it/s, accuracy=0.943, loss=0.349, val_accuracy=0.529, val_loss=2.52]\n",
      "Epoch 152: 100%|██████████| 333/333 [01:27<00:00,  3.80it/s, accuracy=0.948, loss=0.317, val_accuracy=0.531, val_loss=2.51]\n"
     ]
    },
    {
     "name": "stdout",
     "output_type": "stream",
     "text": [
      "\n"
     ]
    },
    {
     "name": "stderr",
     "output_type": "stream",
     "text": [
      "Epoch 153: 100%|██████████| 333/333 [01:27<00:00,  3.81it/s, accuracy=0.824, loss=0.712, val_accuracy=0.47, val_loss=2.77] \n",
      "Epoch 154: 100%|██████████| 333/333 [01:26<00:00,  3.85it/s, accuracy=0.814, loss=0.751, val_accuracy=0.47, val_loss=2.7]  \n",
      "Epoch 155: 100%|██████████| 333/333 [01:26<00:00,  3.83it/s, accuracy=0.829, loss=0.701, val_accuracy=0.476, val_loss=2.71]\n",
      "Epoch 156: 100%|██████████| 333/333 [01:27<00:00,  3.81it/s, accuracy=0.864, loss=0.602, val_accuracy=0.484, val_loss=2.65]\n",
      "Epoch 157: 100%|██████████| 333/333 [01:27<00:00,  3.81it/s, accuracy=0.902, loss=0.488, val_accuracy=0.513, val_loss=2.53]\n",
      "Epoch 158: 100%|██████████| 333/333 [01:27<00:00,  3.79it/s, accuracy=0.929, loss=0.399, val_accuracy=0.525, val_loss=2.5] \n",
      "Epoch 159: 100%|██████████| 333/333 [01:27<00:00,  3.82it/s, accuracy=0.945, loss=0.341, val_accuracy=0.531, val_loss=2.5] \n",
      "Epoch 160: 100%|██████████| 333/333 [01:27<00:00,  3.80it/s, accuracy=0.949, loss=0.312, val_accuracy=0.535, val_loss=2.52]\n"
     ]
    },
    {
     "name": "stdout",
     "output_type": "stream",
     "text": [
      "\n"
     ]
    },
    {
     "name": "stderr",
     "output_type": "stream",
     "text": [
      "Epoch 161: 100%|██████████| 333/333 [01:27<00:00,  3.79it/s, accuracy=0.822, loss=0.723, val_accuracy=0.499, val_loss=2.66]\n",
      "Epoch 162: 100%|██████████| 333/333 [01:28<00:00,  3.78it/s, accuracy=0.811, loss=0.755, val_accuracy=0.474, val_loss=2.72]\n",
      "Epoch 163: 100%|██████████| 333/333 [01:27<00:00,  3.78it/s, accuracy=0.833, loss=0.689, val_accuracy=0.459, val_loss=2.83]\n",
      "Epoch 164: 100%|██████████| 333/333 [01:27<00:00,  3.81it/s, accuracy=0.86, loss=0.607, val_accuracy=0.48, val_loss=2.65] \n",
      "Epoch 165: 100%|██████████| 333/333 [01:27<00:00,  3.79it/s, accuracy=0.901, loss=0.486, val_accuracy=0.514, val_loss=2.55]\n",
      "Epoch 166: 100%|██████████| 333/333 [01:27<00:00,  3.79it/s, accuracy=0.928, loss=0.401, val_accuracy=0.515, val_loss=2.53]\n",
      "Epoch 167: 100%|██████████| 333/333 [01:27<00:00,  3.80it/s, accuracy=0.944, loss=0.338, val_accuracy=0.532, val_loss=2.51]\n",
      "Epoch 168: 100%|██████████| 333/333 [01:27<00:00,  3.80it/s, accuracy=0.949, loss=0.31, val_accuracy=0.541, val_loss=2.51]\n"
     ]
    },
    {
     "name": "stdout",
     "output_type": "stream",
     "text": [
      "\n"
     ]
    },
    {
     "name": "stderr",
     "output_type": "stream",
     "text": [
      "Epoch 169: 100%|██████████| 333/333 [01:26<00:00,  3.85it/s, accuracy=0.825, loss=0.715, val_accuracy=0.451, val_loss=2.9] \n",
      "Epoch 170: 100%|██████████| 333/333 [01:26<00:00,  3.83it/s, accuracy=0.815, loss=0.742, val_accuracy=0.469, val_loss=2.75]\n",
      "Epoch 171: 100%|██████████| 333/333 [01:27<00:00,  3.80it/s, accuracy=0.831, loss=0.694, val_accuracy=0.493, val_loss=2.57]\n",
      "Epoch 172: 100%|██████████| 333/333 [01:27<00:00,  3.80it/s, accuracy=0.87, loss=0.577, val_accuracy=0.497, val_loss=2.62]\n",
      "Epoch 173: 100%|██████████| 333/333 [01:27<00:00,  3.80it/s, accuracy=0.904, loss=0.475, val_accuracy=0.51, val_loss=2.54] \n",
      "Epoch 174: 100%|██████████| 333/333 [01:26<00:00,  3.85it/s, accuracy=0.932, loss=0.388, val_accuracy=0.521, val_loss=2.56]\n",
      "Epoch 175: 100%|██████████| 333/333 [01:27<00:00,  3.82it/s, accuracy=0.945, loss=0.333, val_accuracy=0.528, val_loss=2.52]\n",
      "Epoch 176: 100%|██████████| 333/333 [01:27<00:00,  3.80it/s, accuracy=0.949, loss=0.307, val_accuracy=0.534, val_loss=2.53]\n"
     ]
    },
    {
     "name": "stdout",
     "output_type": "stream",
     "text": [
      "\n"
     ]
    },
    {
     "name": "stderr",
     "output_type": "stream",
     "text": [
      "Epoch 177: 100%|██████████| 333/333 [01:27<00:00,  3.81it/s, accuracy=0.83, loss=0.699, val_accuracy=0.497, val_loss=2.62]\n",
      "Epoch 178: 100%|██████████| 333/333 [01:27<00:00,  3.80it/s, accuracy=0.826, loss=0.707, val_accuracy=0.477, val_loss=2.72]\n",
      "Epoch 179: 100%|██████████| 333/333 [01:26<00:00,  3.85it/s, accuracy=0.842, loss=0.665, val_accuracy=0.492, val_loss=2.61]\n",
      "Epoch 180: 100%|██████████| 333/333 [01:26<00:00,  3.84it/s, accuracy=0.875, loss=0.561, val_accuracy=0.503, val_loss=2.6] \n",
      "Epoch 181: 100%|██████████| 333/333 [01:27<00:00,  3.80it/s, accuracy=0.907, loss=0.465, val_accuracy=0.516, val_loss=2.56]\n",
      "Epoch 182: 100%|██████████| 333/333 [01:27<00:00,  3.79it/s, accuracy=0.932, loss=0.386, val_accuracy=0.528, val_loss=2.52]\n",
      "Epoch 183: 100%|██████████| 333/333 [01:27<00:00,  3.80it/s, accuracy=0.946, loss=0.328, val_accuracy=0.536, val_loss=2.53]\n",
      "Epoch 184: 100%|██████████| 333/333 [01:27<00:00,  3.83it/s, accuracy=0.949, loss=0.303, val_accuracy=0.539, val_loss=2.53]\n"
     ]
    },
    {
     "name": "stdout",
     "output_type": "stream",
     "text": [
      "\n"
     ]
    },
    {
     "name": "stderr",
     "output_type": "stream",
     "text": [
      "Epoch 185: 100%|██████████| 333/333 [01:27<00:00,  3.80it/s, accuracy=0.84, loss=0.666, val_accuracy=0.466, val_loss=2.85]\n",
      "Epoch 186: 100%|██████████| 333/333 [01:27<00:00,  3.80it/s, accuracy=0.824, loss=0.715, val_accuracy=0.485, val_loss=2.7] \n",
      "Epoch 187: 100%|██████████| 333/333 [01:27<00:00,  3.79it/s, accuracy=0.834, loss=0.68, val_accuracy=0.496, val_loss=2.6] \n",
      "Epoch 188: 100%|██████████| 333/333 [01:27<00:00,  3.80it/s, accuracy=0.87, loss=0.572, val_accuracy=0.49, val_loss=2.67] \n",
      "Epoch 189: 100%|██████████| 333/333 [01:26<00:00,  3.86it/s, accuracy=0.906, loss=0.468, val_accuracy=0.514, val_loss=2.57]\n",
      "Epoch 190: 100%|██████████| 333/333 [01:26<00:00,  3.84it/s, accuracy=0.935, loss=0.376, val_accuracy=0.521, val_loss=2.56]\n",
      "Epoch 191: 100%|██████████| 333/333 [01:27<00:00,  3.82it/s, accuracy=0.946, loss=0.326, val_accuracy=0.53, val_loss=2.56] \n",
      "Epoch 192: 100%|██████████| 333/333 [01:27<00:00,  3.81it/s, accuracy=0.949, loss=0.304, val_accuracy=0.541, val_loss=2.54]\n"
     ]
    },
    {
     "name": "stdout",
     "output_type": "stream",
     "text": [
      "\n"
     ]
    },
    {
     "name": "stderr",
     "output_type": "stream",
     "text": [
      "Epoch 193: 100%|██████████| 333/333 [01:27<00:00,  3.82it/s, accuracy=0.839, loss=0.664, val_accuracy=0.476, val_loss=2.76]\n",
      "Epoch 194: 100%|██████████| 333/333 [01:26<00:00,  3.87it/s, accuracy=0.826, loss=0.712, val_accuracy=0.477, val_loss=2.75]\n",
      "Epoch 195: 100%|██████████| 333/333 [01:26<00:00,  3.84it/s, accuracy=0.848, loss=0.64, val_accuracy=0.492, val_loss=2.66]\n",
      "Epoch 196: 100%|██████████| 333/333 [01:27<00:00,  3.82it/s, accuracy=0.872, loss=0.566, val_accuracy=0.513, val_loss=2.56]\n",
      "Epoch 197: 100%|██████████| 333/333 [01:27<00:00,  3.81it/s, accuracy=0.908, loss=0.456, val_accuracy=0.516, val_loss=2.59]\n",
      "Epoch 198: 100%|██████████| 333/333 [01:27<00:00,  3.81it/s, accuracy=0.934, loss=0.372, val_accuracy=0.52, val_loss=2.57] \n",
      "Epoch 199: 100%|██████████| 333/333 [01:26<00:00,  3.86it/s, accuracy=0.947, loss=0.322, val_accuracy=0.537, val_loss=2.54]\n",
      "Epoch 200: 100%|██████████| 333/333 [01:26<00:00,  3.84it/s, accuracy=0.95, loss=0.298, val_accuracy=0.535, val_loss=2.57]\n"
     ]
    },
    {
     "name": "stdout",
     "output_type": "stream",
     "text": [
      "\n"
     ]
    },
    {
     "name": "stderr",
     "output_type": "stream",
     "text": [
      "Epoch 201: 100%|██████████| 333/333 [01:27<00:00,  3.81it/s, accuracy=0.85, loss=0.629, val_accuracy=0.468, val_loss=2.83]\n",
      "Epoch 202: 100%|██████████| 333/333 [01:27<00:00,  3.81it/s, accuracy=0.84, loss=0.662, val_accuracy=0.449, val_loss=2.89]\n",
      "Epoch 203: 100%|██████████| 333/333 [01:27<00:00,  3.81it/s, accuracy=0.853, loss=0.62, val_accuracy=0.482, val_loss=2.71]\n",
      "Epoch 204: 100%|██████████| 333/333 [01:26<00:00,  3.86it/s, accuracy=0.883, loss=0.53, val_accuracy=0.489, val_loss=2.73]\n",
      "Epoch 205: 100%|██████████| 333/333 [01:26<00:00,  3.84it/s, accuracy=0.909, loss=0.449, val_accuracy=0.514, val_loss=2.59]\n",
      "Epoch 206: 100%|██████████| 333/333 [01:27<00:00,  3.82it/s, accuracy=0.936, loss=0.366, val_accuracy=0.526, val_loss=2.58]\n",
      "Epoch 207: 100%|██████████| 333/333 [01:27<00:00,  3.81it/s, accuracy=0.947, loss=0.319, val_accuracy=0.535, val_loss=2.54]\n",
      "Epoch 208: 100%|██████████| 333/333 [01:27<00:00,  3.81it/s, accuracy=0.95, loss=0.297, val_accuracy=0.539, val_loss=2.58]\n"
     ]
    },
    {
     "name": "stdout",
     "output_type": "stream",
     "text": [
      "\n"
     ]
    },
    {
     "name": "stderr",
     "output_type": "stream",
     "text": [
      "Epoch 209: 100%|██████████| 333/333 [01:26<00:00,  3.86it/s, accuracy=0.841, loss=0.664, val_accuracy=0.452, val_loss=2.93]\n",
      "Epoch 210: 100%|██████████| 333/333 [01:26<00:00,  3.84it/s, accuracy=0.839, loss=0.665, val_accuracy=0.472, val_loss=2.78]\n",
      "Epoch 211: 100%|██████████| 333/333 [01:27<00:00,  3.81it/s, accuracy=0.848, loss=0.639, val_accuracy=0.498, val_loss=2.58]\n",
      "Epoch 212: 100%|██████████| 333/333 [01:27<00:00,  3.82it/s, accuracy=0.881, loss=0.537, val_accuracy=0.511, val_loss=2.57]\n",
      "Epoch 213: 100%|██████████| 333/333 [01:27<00:00,  3.82it/s, accuracy=0.914, loss=0.439, val_accuracy=0.516, val_loss=2.6] \n",
      "Epoch 214: 100%|██████████| 333/333 [01:26<00:00,  3.86it/s, accuracy=0.934, loss=0.37, val_accuracy=0.526, val_loss=2.56]\n",
      "Epoch 215: 100%|██████████| 333/333 [01:26<00:00,  3.84it/s, accuracy=0.947, loss=0.317, val_accuracy=0.539, val_loss=2.55]\n",
      "Epoch 216: 100%|██████████| 333/333 [01:27<00:00,  3.82it/s, accuracy=0.95, loss=0.297, val_accuracy=0.537, val_loss=2.58]\n"
     ]
    },
    {
     "name": "stdout",
     "output_type": "stream",
     "text": [
      "\n"
     ]
    },
    {
     "name": "stderr",
     "output_type": "stream",
     "text": [
      "Epoch 217: 100%|██████████| 333/333 [01:27<00:00,  3.81it/s, accuracy=0.84, loss=0.66, val_accuracy=0.425, val_loss=3.11]\n",
      "Epoch 218: 100%|██████████| 333/333 [01:27<00:00,  3.81it/s, accuracy=0.837, loss=0.673, val_accuracy=0.473, val_loss=2.73]\n",
      "Epoch 219: 100%|██████████| 333/333 [01:26<00:00,  3.86it/s, accuracy=0.855, loss=0.615, val_accuracy=0.506, val_loss=2.6] \n",
      "Epoch 220: 100%|██████████| 333/333 [01:26<00:00,  3.84it/s, accuracy=0.88, loss=0.537, val_accuracy=0.512, val_loss=2.56]\n",
      "Epoch 221: 100%|██████████| 333/333 [01:27<00:00,  3.81it/s, accuracy=0.914, loss=0.435, val_accuracy=0.514, val_loss=2.62]\n",
      "Epoch 222: 100%|██████████| 333/333 [01:27<00:00,  3.81it/s, accuracy=0.935, loss=0.367, val_accuracy=0.527, val_loss=2.56]\n",
      "Epoch 223: 100%|██████████| 333/333 [01:27<00:00,  3.81it/s, accuracy=0.947, loss=0.316, val_accuracy=0.528, val_loss=2.61]\n",
      "Epoch 224: 100%|██████████| 333/333 [01:26<00:00,  3.86it/s, accuracy=0.949, loss=0.296, val_accuracy=0.54, val_loss=2.57] \n"
     ]
    },
    {
     "name": "stdout",
     "output_type": "stream",
     "text": [
      "\n"
     ]
    },
    {
     "name": "stderr",
     "output_type": "stream",
     "text": [
      "Epoch 225: 100%|██████████| 333/333 [01:26<00:00,  3.83it/s, accuracy=0.854, loss=0.615, val_accuracy=0.456, val_loss=2.93]\n",
      "Epoch 226: 100%|██████████| 333/333 [01:27<00:00,  3.82it/s, accuracy=0.836, loss=0.678, val_accuracy=0.438, val_loss=3.02]\n",
      "Epoch 227: 100%|██████████| 333/333 [01:27<00:00,  3.81it/s, accuracy=0.853, loss=0.624, val_accuracy=0.498, val_loss=2.65]\n",
      "Epoch 228: 100%|██████████| 333/333 [01:27<00:00,  3.81it/s, accuracy=0.885, loss=0.522, val_accuracy=0.489, val_loss=2.74]\n",
      "Epoch 229: 100%|██████████| 333/333 [01:26<00:00,  3.86it/s, accuracy=0.911, loss=0.444, val_accuracy=0.522, val_loss=2.61]\n",
      "Epoch 230: 100%|██████████| 333/333 [01:26<00:00,  3.84it/s, accuracy=0.937, loss=0.359, val_accuracy=0.528, val_loss=2.59]\n",
      "Epoch 231: 100%|██████████| 333/333 [01:27<00:00,  3.82it/s, accuracy=0.947, loss=0.314, val_accuracy=0.54, val_loss=2.56] \n",
      "Epoch 232: 100%|██████████| 333/333 [01:27<00:00,  3.82it/s, accuracy=0.95, loss=0.294, val_accuracy=0.539, val_loss=2.57]\n"
     ]
    },
    {
     "name": "stdout",
     "output_type": "stream",
     "text": [
      "\n"
     ]
    },
    {
     "name": "stderr",
     "output_type": "stream",
     "text": [
      "Epoch 233: 100%|██████████| 333/333 [01:27<00:00,  3.82it/s, accuracy=0.855, loss=0.614, val_accuracy=0.481, val_loss=2.81]\n",
      "Epoch 234: 100%|██████████| 333/333 [01:26<00:00,  3.87it/s, accuracy=0.841, loss=0.658, val_accuracy=0.469, val_loss=2.86]\n",
      "Epoch 235: 100%|██████████| 333/333 [01:26<00:00,  3.85it/s, accuracy=0.86, loss=0.603, val_accuracy=0.466, val_loss=2.87]\n",
      "Epoch 236: 100%|██████████| 333/333 [01:27<00:00,  3.82it/s, accuracy=0.876, loss=0.549, val_accuracy=0.503, val_loss=2.66]\n",
      "Epoch 237: 100%|██████████| 333/333 [01:27<00:00,  3.82it/s, accuracy=0.915, loss=0.432, val_accuracy=0.505, val_loss=2.66]\n",
      "Epoch 238: 100%|██████████| 333/333 [01:27<00:00,  3.81it/s, accuracy=0.936, loss=0.359, val_accuracy=0.53, val_loss=2.56] \n",
      "Epoch 239: 100%|██████████| 333/333 [01:26<00:00,  3.86it/s, accuracy=0.947, loss=0.313, val_accuracy=0.535, val_loss=2.58]\n",
      "Epoch 240: 100%|██████████| 333/333 [01:26<00:00,  3.84it/s, accuracy=0.95, loss=0.292, val_accuracy=0.543, val_loss=2.57]\n"
     ]
    },
    {
     "name": "stdout",
     "output_type": "stream",
     "text": [
      "\n"
     ]
    },
    {
     "name": "stderr",
     "output_type": "stream",
     "text": [
      "Epoch 241: 100%|██████████| 333/333 [01:27<00:00,  3.82it/s, accuracy=0.841, loss=0.667, val_accuracy=0.494, val_loss=2.66]\n",
      "Epoch 242: 100%|██████████| 333/333 [01:27<00:00,  3.82it/s, accuracy=0.854, loss=0.615, val_accuracy=0.483, val_loss=2.75]\n",
      "Epoch 243: 100%|██████████| 333/333 [01:27<00:00,  3.82it/s, accuracy=0.864, loss=0.585, val_accuracy=0.499, val_loss=2.65]\n",
      "Epoch 244: 100%|██████████| 333/333 [01:26<00:00,  3.87it/s, accuracy=0.884, loss=0.524, val_accuracy=0.517, val_loss=2.59]\n",
      "Epoch 245: 100%|██████████| 333/333 [01:26<00:00,  3.84it/s, accuracy=0.916, loss=0.426, val_accuracy=0.516, val_loss=2.64]\n",
      "Epoch 246: 100%|██████████| 333/333 [01:27<00:00,  3.82it/s, accuracy=0.936, loss=0.358, val_accuracy=0.535, val_loss=2.55]\n",
      "Epoch 247: 100%|██████████| 333/333 [01:27<00:00,  3.82it/s, accuracy=0.947, loss=0.313, val_accuracy=0.539, val_loss=2.57]\n",
      "Epoch 248: 100%|██████████| 333/333 [01:27<00:00,  3.81it/s, accuracy=0.95, loss=0.291, val_accuracy=0.542, val_loss=2.58]\n"
     ]
    },
    {
     "name": "stdout",
     "output_type": "stream",
     "text": [
      "\n"
     ]
    },
    {
     "name": "stderr",
     "output_type": "stream",
     "text": [
      "Epoch 249: 100%|██████████| 333/333 [01:27<00:00,  3.82it/s, accuracy=0.858, loss=0.602, val_accuracy=0.449, val_loss=2.98]\n",
      "Epoch 250: 100%|██████████| 333/333 [01:26<00:00,  3.84it/s, accuracy=0.851, loss=0.624, val_accuracy=0.491, val_loss=2.7] \n",
      "Epoch 251: 100%|██████████| 333/333 [01:26<00:00,  3.87it/s, accuracy=0.866, loss=0.577, val_accuracy=0.499, val_loss=2.68]\n",
      "Epoch 252: 100%|██████████| 333/333 [01:27<00:00,  3.82it/s, accuracy=0.891, loss=0.503, val_accuracy=0.473, val_loss=2.84]\n",
      "Epoch 253: 100%|██████████| 333/333 [01:27<00:00,  3.82it/s, accuracy=0.917, loss=0.424, val_accuracy=0.515, val_loss=2.63]\n",
      "Epoch 254: 100%|██████████| 333/333 [01:27<00:00,  3.82it/s, accuracy=0.937, loss=0.356, val_accuracy=0.53, val_loss=2.6]  \n",
      "Epoch 255: 100%|██████████| 333/333 [01:26<00:00,  3.84it/s, accuracy=0.947, loss=0.31, val_accuracy=0.543, val_loss=2.58]\n",
      "Epoch 256: 100%|██████████| 333/333 [01:26<00:00,  3.86it/s, accuracy=0.95, loss=0.291, val_accuracy=0.544, val_loss=2.59]\n"
     ]
    },
    {
     "name": "stdout",
     "output_type": "stream",
     "text": [
      "\n"
     ]
    },
    {
     "name": "stderr",
     "output_type": "stream",
     "text": [
      "Epoch 257: 100%|██████████| 333/333 [01:27<00:00,  3.82it/s, accuracy=0.859, loss=0.599, val_accuracy=0.485, val_loss=2.78]\n",
      "Epoch 258: 100%|██████████| 333/333 [01:27<00:00,  3.82it/s, accuracy=0.856, loss=0.611, val_accuracy=0.48, val_loss=2.8]  \n",
      "Epoch 259: 100%|██████████| 333/333 [01:27<00:00,  3.81it/s, accuracy=0.865, loss=0.582, val_accuracy=0.501, val_loss=2.69]\n",
      "Epoch 260: 100%|██████████| 333/333 [01:26<00:00,  3.84it/s, accuracy=0.89, loss=0.504, val_accuracy=0.5, val_loss=2.72]  \n",
      "Epoch 261: 100%|██████████| 333/333 [01:26<00:00,  3.86it/s, accuracy=0.918, loss=0.42, val_accuracy=0.521, val_loss=2.62]\n",
      "Epoch 262: 100%|██████████| 333/333 [01:27<00:00,  3.82it/s, accuracy=0.939, loss=0.348, val_accuracy=0.535, val_loss=2.58]\n",
      "Epoch 263: 100%|██████████| 333/333 [01:27<00:00,  3.82it/s, accuracy=0.947, loss=0.31, val_accuracy=0.543, val_loss=2.57]\n",
      "Epoch 264: 100%|██████████| 333/333 [01:27<00:00,  3.82it/s, accuracy=0.95, loss=0.29, val_accuracy=0.544, val_loss=2.6] \n"
     ]
    },
    {
     "name": "stdout",
     "output_type": "stream",
     "text": [
      "\n"
     ]
    },
    {
     "name": "stderr",
     "output_type": "stream",
     "text": [
      "Epoch 265: 100%|██████████| 333/333 [01:26<00:00,  3.84it/s, accuracy=0.869, loss=0.57, val_accuracy=0.466, val_loss=2.93]\n",
      "Epoch 266: 100%|██████████| 333/333 [01:26<00:00,  3.86it/s, accuracy=0.861, loss=0.592, val_accuracy=0.481, val_loss=2.77]\n",
      "Epoch 267: 100%|██████████| 333/333 [01:27<00:00,  3.82it/s, accuracy=0.867, loss=0.572, val_accuracy=0.497, val_loss=2.69]\n",
      "Epoch 268: 100%|██████████| 333/333 [01:27<00:00,  3.82it/s, accuracy=0.893, loss=0.497, val_accuracy=0.518, val_loss=2.64]\n",
      "Epoch 269: 100%|██████████| 333/333 [01:27<00:00,  3.82it/s, accuracy=0.916, loss=0.424, val_accuracy=0.523, val_loss=2.6] \n",
      "Epoch 270: 100%|██████████| 333/333 [01:26<00:00,  3.84it/s, accuracy=0.938, loss=0.351, val_accuracy=0.537, val_loss=2.58]\n",
      "Epoch 271: 100%|██████████| 333/333 [01:26<00:00,  3.87it/s, accuracy=0.948, loss=0.307, val_accuracy=0.541, val_loss=2.59]\n",
      "Epoch 272: 100%|██████████| 333/333 [01:27<00:00,  3.82it/s, accuracy=0.95, loss=0.289, val_accuracy=0.544, val_loss=2.59]\n"
     ]
    },
    {
     "name": "stdout",
     "output_type": "stream",
     "text": [
      "\n"
     ]
    },
    {
     "name": "stderr",
     "output_type": "stream",
     "text": [
      "Epoch 273: 100%|██████████| 333/333 [01:27<00:00,  3.82it/s, accuracy=0.865, loss=0.58, val_accuracy=0.452, val_loss=2.97]\n",
      "Epoch 274: 100%|██████████| 333/333 [01:27<00:00,  3.83it/s, accuracy=0.855, loss=0.615, val_accuracy=0.494, val_loss=2.7] \n",
      "Epoch 275: 100%|██████████| 333/333 [01:27<00:00,  3.82it/s, accuracy=0.864, loss=0.585, val_accuracy=0.49, val_loss=2.76] \n",
      "Epoch 276: 100%|██████████| 333/333 [01:26<00:00,  3.86it/s, accuracy=0.89, loss=0.508, val_accuracy=0.506, val_loss=2.69]\n",
      "Epoch 277: 100%|██████████| 333/333 [01:27<00:00,  3.82it/s, accuracy=0.916, loss=0.422, val_accuracy=0.528, val_loss=2.59]\n",
      "Epoch 278: 100%|██████████| 333/333 [01:27<00:00,  3.81it/s, accuracy=0.937, loss=0.353, val_accuracy=0.527, val_loss=2.58]\n",
      "Epoch 279: 100%|██████████| 333/333 [01:27<00:00,  3.81it/s, accuracy=0.948, loss=0.307, val_accuracy=0.542, val_loss=2.57]\n",
      "Epoch 280: 100%|██████████| 333/333 [01:27<00:00,  3.81it/s, accuracy=0.95, loss=0.288, val_accuracy=0.545, val_loss=2.61]\n"
     ]
    },
    {
     "name": "stdout",
     "output_type": "stream",
     "text": [
      "\n"
     ]
    },
    {
     "name": "stderr",
     "output_type": "stream",
     "text": [
      "Epoch 281: 100%|██████████| 333/333 [01:26<00:00,  3.86it/s, accuracy=0.864, loss=0.584, val_accuracy=0.474, val_loss=2.93]\n",
      "Epoch 282: 100%|██████████| 333/333 [01:27<00:00,  3.82it/s, accuracy=0.855, loss=0.619, val_accuracy=0.463, val_loss=2.92]\n",
      "Epoch 283: 100%|██████████| 333/333 [01:27<00:00,  3.81it/s, accuracy=0.87, loss=0.566, val_accuracy=0.511, val_loss=2.64]\n",
      "Epoch 284: 100%|██████████| 333/333 [01:27<00:00,  3.82it/s, accuracy=0.893, loss=0.498, val_accuracy=0.501, val_loss=2.73]\n",
      "Epoch 285: 100%|██████████| 333/333 [01:27<00:00,  3.82it/s, accuracy=0.916, loss=0.423, val_accuracy=0.517, val_loss=2.66]\n",
      "Epoch 286: 100%|██████████| 333/333 [01:26<00:00,  3.87it/s, accuracy=0.938, loss=0.347, val_accuracy=0.529, val_loss=2.59]\n",
      "Epoch 287: 100%|██████████| 333/333 [01:27<00:00,  3.82it/s, accuracy=0.948, loss=0.306, val_accuracy=0.541, val_loss=2.59]\n",
      "Epoch 288: 100%|██████████| 333/333 [01:27<00:00,  3.82it/s, accuracy=0.95, loss=0.288, val_accuracy=0.543, val_loss=2.6] \n"
     ]
    },
    {
     "name": "stdout",
     "output_type": "stream",
     "text": [
      "\n"
     ]
    },
    {
     "name": "stderr",
     "output_type": "stream",
     "text": [
      "Epoch 289: 100%|██████████| 333/333 [01:27<00:00,  3.82it/s, accuracy=0.842, loss=0.667, val_accuracy=0.474, val_loss=2.85]\n",
      "Epoch 290: 100%|██████████| 333/333 [01:27<00:00,  3.83it/s, accuracy=0.857, loss=0.605, val_accuracy=0.476, val_loss=2.86]\n",
      "Epoch 291: 100%|██████████| 333/333 [01:26<00:00,  3.87it/s, accuracy=0.87, loss=0.565, val_accuracy=0.466, val_loss=2.87]\n",
      "Epoch 292: 100%|██████████| 333/333 [01:27<00:00,  3.83it/s, accuracy=0.894, loss=0.489, val_accuracy=0.5, val_loss=2.7]   \n",
      "Epoch 293: 100%|██████████| 333/333 [01:27<00:00,  3.82it/s, accuracy=0.918, loss=0.414, val_accuracy=0.522, val_loss=2.62]\n",
      "Epoch 294: 100%|██████████| 333/333 [01:27<00:00,  3.82it/s, accuracy=0.94, loss=0.345, val_accuracy=0.537, val_loss=2.58]\n",
      "Epoch 295: 100%|██████████| 333/333 [01:27<00:00,  3.81it/s, accuracy=0.948, loss=0.304, val_accuracy=0.543, val_loss=2.58]\n",
      "Epoch 296: 100%|██████████| 333/333 [01:26<00:00,  3.86it/s, accuracy=0.95, loss=0.287, val_accuracy=0.542, val_loss=2.63]\n"
     ]
    },
    {
     "name": "stdout",
     "output_type": "stream",
     "text": [
      "\n"
     ]
    },
    {
     "name": "stderr",
     "output_type": "stream",
     "text": [
      "Epoch 297: 100%|██████████| 333/333 [01:27<00:00,  3.83it/s, accuracy=0.874, loss=0.553, val_accuracy=0.481, val_loss=2.93]\n",
      "Epoch 298: 100%|██████████| 333/333 [01:27<00:00,  3.82it/s, accuracy=0.858, loss=0.602, val_accuracy=0.496, val_loss=2.74]\n",
      "Epoch 299: 100%|██████████| 333/333 [01:27<00:00,  3.82it/s, accuracy=0.872, loss=0.558, val_accuracy=0.506, val_loss=2.67]\n",
      "Epoch 300: 100%|██████████| 333/333 [01:27<00:00,  3.82it/s, accuracy=0.896, loss=0.483, val_accuracy=0.509, val_loss=2.63]\n"
     ]
    }
   ],
   "source": [
    "learning_rate = 5e-4\n",
    "weight_decay = 1e-1\n",
    "cycle = 8\n",
    "\n",
    "loss_fn = nn.CrossEntropyLoss()\n",
    "model.load_state_dict(torch.load(\"/kaggle/input/lstm-model/lstm_model_100Epochs_ss.pth\"))\n",
    "optimizer = torch.optim.AdamW(model.parameters(), lr=learning_rate, weight_decay=weight_decay)\n",
    "scheduler = torch.optim.lr_scheduler.CosineAnnealingWarmRestarts(optimizer, T_0=cycle, eta_min=learning_rate / 10)\n",
    "\n",
    "train_losses = []\n",
    "val_losses = []\n",
    "\n",
    "def train_val_loop(epoch, train_dataloader, val_dataloader, model, loss_fn, optimizer, scheduler, n_offset=1):\n",
    "    total_batches = len(train_dataloader)\n",
    "    train_size, train_batches = 0, 0\n",
    "    train_loss, train_correct = 0, 0\n",
    "    val_size, val_batches = 0, 0\n",
    "    val_loss, val_correct = 0, 0\n",
    "    \n",
    "    with tqdm(desc=f'Epoch {epoch+n_offset}', total=total_batches) as bar:\n",
    "        \n",
    "        # Training\n",
    "        for batch, (src, y) in enumerate(train_dataloader):\n",
    "            \n",
    "            # Compute prediction and loss\n",
    "            pred = model(src)\n",
    "            loss = loss_fn(pred, y)\n",
    "            \n",
    "            # Compute metrics\n",
    "            train_loss += loss.item()\n",
    "            train_correct += (pred.argmax(1) == y).type(torch.float).sum().item()\n",
    "            train_size += len(y)\n",
    "            train_batches += 1\n",
    "\n",
    "            # Backpropagation\n",
    "            optimizer.zero_grad()\n",
    "            loss.backward()\n",
    "            torch.nn.utils.clip_grad_norm_(model.parameters(), 0.5)\n",
    "            optimizer.step()\n",
    "                \n",
    "            scheduler.step(epoch + batch / total_batches)\n",
    "            \n",
    "            # Update progress bar\n",
    "            bar.update()\n",
    "            bar.set_postfix(accuracy = train_correct / train_size, loss = train_loss / train_batches,\n",
    "                           lr=scheduler.get_last_lr())\n",
    "            \n",
    "        bar.set_postfix(accuracy = train_correct / train_size, loss = train_loss / train_batches)\n",
    "        \n",
    "        #scheduler.step()\n",
    "           \n",
    "        # Validation\n",
    "        with torch.no_grad():\n",
    "\n",
    "            for batch, (src, y) in enumerate(val_dataloader):\n",
    "                \n",
    "                # Compute prediction and loss\n",
    "                pred = model(src)\n",
    "                val_loss += loss_fn(pred, y).item()\n",
    "                \n",
    "                # Compute metrics\n",
    "                val_correct += (pred.argmax(1) == y).type(torch.float).sum().item()\n",
    "                val_size += len(y)\n",
    "                val_batches += 1\n",
    "\n",
    "                # Update progress bar\n",
    "                bar.set_postfix(\n",
    "                    accuracy = train_correct / train_size, loss = train_loss / train_batches,\n",
    "                    val_accuracy = val_correct / val_size, val_loss = val_loss / val_batches\n",
    "                )\n",
    "                \n",
    "    if scheduler.T_0 - scheduler.T_cur < 0.1:\n",
    "        print()\n",
    "        \n",
    "    train_losses.append(train_loss / train_batches)\n",
    "    val_losses.append(val_loss / val_batches)\n",
    "\n",
    "    return train_correct / train_size, train_loss / train_batches, val_correct / val_size, val_loss / val_batches\n",
    "\n",
    "\n",
    "best_loss = float('inf')\n",
    "saved_state = model.state_dict()\n",
    "\n",
    "epochs = 300\n",
    "\n",
    "\n",
    "#model.load_state_dict(torch.load(\"/kaggle/input/lstm-model/lstm_model_100Epochs_ss.pth\"))\n",
    "# Iterate through epochs for training\n",
    "for epoch in range(epochs):\n",
    "    \n",
    "    acc, loss, v_acc, v_loss = train_val_loop(epoch, train_loader, val_loader, model, loss_fn, optimizer, scheduler)\n",
    "    if (epoch + 1) % 50 == 0:\n",
    "        torch.save(model.state_dict(), 'lstm_model_' + str(epoch+1))\n",
    "    if v_loss<best_loss:\n",
    "        best_loss = v_loss\n",
    "        saved_state = model.state_dict()"
   ]
  },
  {
   "cell_type": "code",
   "execution_count": 19,
   "id": "3918b7cb",
   "metadata": {
    "execution": {
     "iopub.execute_input": "2023-04-25T13:00:20.790910Z",
     "iopub.status.busy": "2023-04-25T13:00:20.790149Z",
     "iopub.status.idle": "2023-04-25T13:00:20.855561Z",
     "shell.execute_reply": "2023-04-25T13:00:20.854410Z",
     "shell.execute_reply.started": "2023-04-25T13:00:20.790870Z"
    }
   },
   "outputs": [],
   "source": [
    "torch.save(model.state_dict(), 'lstm_model_' + str(300))"
   ]
  },
  {
   "cell_type": "code",
   "execution_count": 31,
   "id": "c82b7e6e",
   "metadata": {
    "execution": {
     "iopub.execute_input": "2023-04-19T05:28:05.282671Z",
     "iopub.status.busy": "2023-04-19T05:28:05.281909Z",
     "iopub.status.idle": "2023-04-19T05:28:05.338185Z",
     "shell.execute_reply": "2023-04-19T05:28:05.337163Z",
     "shell.execute_reply.started": "2023-04-19T05:28:05.282627Z"
    }
   },
   "outputs": [],
   "source": [
    "torch.save(model.state_dict(), 'lstm_model_100Epochs.pth')\n"
   ]
  },
  {
   "cell_type": "code",
   "execution_count": 32,
   "id": "d906094d",
   "metadata": {
    "execution": {
     "iopub.execute_input": "2023-04-19T05:30:44.549412Z",
     "iopub.status.busy": "2023-04-19T05:30:44.548913Z",
     "iopub.status.idle": "2023-04-19T05:30:44.591543Z",
     "shell.execute_reply": "2023-04-19T05:30:44.590530Z",
     "shell.execute_reply.started": "2023-04-19T05:30:44.549375Z"
    }
   },
   "outputs": [],
   "source": [
    "torch.save(saved_state, 'lstm_model_100Epochs_ss.pth')"
   ]
  },
  {
   "cell_type": "code",
   "execution_count": 30,
   "id": "6346bf8d",
   "metadata": {
    "execution": {
     "iopub.execute_input": "2023-04-19T05:27:59.084882Z",
     "iopub.status.busy": "2023-04-19T05:27:59.084435Z",
     "iopub.status.idle": "2023-04-19T05:27:59.182791Z",
     "shell.execute_reply": "2023-04-19T05:27:59.181543Z",
     "shell.execute_reply.started": "2023-04-19T05:27:59.084836Z"
    }
   },
   "outputs": [
    {
     "data": {
      "text/plain": [
       "OrderedDict([('lstm.weight_ih_l0',\n",
       "              tensor([[ 0.0864,  0.0119,  0.1229,  ..., -0.0498, -0.0056,  0.1881],\n",
       "                      [ 0.0817,  0.0473, -0.0083,  ..., -0.1880,  0.0184,  0.0378],\n",
       "                      [ 0.0567, -0.0426,  0.0238,  ...,  0.0863,  0.0587,  0.0775],\n",
       "                      ...,\n",
       "                      [ 0.0803,  0.0377,  0.0656,  ..., -0.0336, -0.0406,  0.0663],\n",
       "                      [ 0.0114,  0.0700,  0.0495,  ...,  0.0162,  0.0813,  0.0083],\n",
       "                      [ 0.0686, -0.0754,  0.0048,  ...,  0.0699, -0.0017,  0.1190]],\n",
       "                     device='cuda:0')),\n",
       "             ('lstm.weight_hh_l0',\n",
       "              tensor([[ 0.0644,  0.0750,  0.0120,  ..., -0.0929,  0.0026,  0.0265],\n",
       "                      [-0.0318,  0.0135, -0.0001,  ...,  0.0982,  0.0389, -0.0307],\n",
       "                      [ 0.0509, -0.0128,  0.0318,  ...,  0.0746, -0.0209,  0.0345],\n",
       "                      ...,\n",
       "                      [-0.0552,  0.0216,  0.0282,  ...,  0.0825,  0.0427, -0.0618],\n",
       "                      [-0.0566, -0.0590, -0.0370,  ...,  0.1114, -0.0019,  0.1011],\n",
       "                      [-0.0953, -0.0311,  0.0567,  ...,  0.0470,  0.0521, -0.0038]],\n",
       "                     device='cuda:0')),\n",
       "             ('lstm.bias_ih_l0',\n",
       "              tensor([0.0623, 0.0242, 0.0055,  ..., 0.0359, 0.0516, 0.0295], device='cuda:0')),\n",
       "             ('lstm.bias_hh_l0',\n",
       "              tensor([0.0756, 0.0278, 0.0334,  ..., 0.0443, 0.0258, 0.0290], device='cuda:0')),\n",
       "             ('lstm.weight_ih_l0_reverse',\n",
       "              tensor([[-0.0129,  0.0486, -0.0619,  ...,  0.0245, -0.0040,  0.0444],\n",
       "                      [ 0.0457, -0.0556,  0.0186,  ..., -0.0282,  0.0823,  0.0468],\n",
       "                      [-0.0123,  0.0178, -0.0223,  ..., -0.0150,  0.0148, -0.0148],\n",
       "                      ...,\n",
       "                      [ 0.0303,  0.0450,  0.0705,  ...,  0.0291, -0.0435,  0.0146],\n",
       "                      [ 0.0174,  0.0827,  0.1303,  ..., -0.0134,  0.0198,  0.0602],\n",
       "                      [-0.0076,  0.0371,  0.0114,  ...,  0.0043, -0.0358, -0.0112]],\n",
       "                     device='cuda:0')),\n",
       "             ('lstm.weight_hh_l0_reverse',\n",
       "              tensor([[ 0.0846,  0.0083,  0.0646,  ..., -0.0656, -0.0583, -0.0832],\n",
       "                      [ 0.0003, -0.0949,  0.0283,  ..., -0.0325, -0.0149, -0.0113],\n",
       "                      [-0.0330, -0.0323, -0.0068,  ...,  0.0144,  0.0041,  0.0548],\n",
       "                      ...,\n",
       "                      [-0.0141,  0.0214,  0.0835,  ..., -0.0331, -0.0232, -0.0781],\n",
       "                      [-0.0083, -0.0008,  0.1164,  ..., -0.0853, -0.0300, -0.1251],\n",
       "                      [ 0.0030,  0.0147,  0.0104,  ...,  0.0074, -0.0173,  0.0050]],\n",
       "                     device='cuda:0')),\n",
       "             ('lstm.bias_ih_l0_reverse',\n",
       "              tensor([-0.0009,  0.0014, -0.0253,  ...,  0.0109,  0.0542, -0.0078],\n",
       "                     device='cuda:0')),\n",
       "             ('lstm.bias_hh_l0_reverse',\n",
       "              tensor([-1.8535e-03, -1.2405e-02, -1.8960e-02,  ..., -5.7867e-05,\n",
       "                       2.5893e-02, -1.2673e-02], device='cuda:0')),\n",
       "             ('lstm.weight_ih_l1',\n",
       "              tensor([[ 0.0868,  0.0448,  0.0590,  ...,  0.0524,  0.0257,  0.0022],\n",
       "                      [-0.0323, -0.0475, -0.0241,  ..., -0.0426, -0.0603, -0.0756],\n",
       "                      [-0.0317,  0.0807, -0.0306,  ...,  0.0199,  0.0434, -0.0087],\n",
       "                      ...,\n",
       "                      [-0.0145, -0.1522,  0.0150,  ..., -0.0285, -0.0211, -0.0754],\n",
       "                      [-0.0411, -0.0526,  0.0336,  ...,  0.0196,  0.0454, -0.0254],\n",
       "                      [-0.0076, -0.0356, -0.0388,  ..., -0.0477, -0.0216, -0.0299]],\n",
       "                     device='cuda:0')),\n",
       "             ('lstm.weight_hh_l1',\n",
       "              tensor([[ 0.0076, -0.0116,  0.0037,  ..., -0.0365, -0.0083, -0.0109],\n",
       "                      [ 0.0018,  0.0401,  0.0363,  ...,  0.0785, -0.0097, -0.0392],\n",
       "                      [ 0.0097, -0.0309, -0.0105,  ...,  0.0516,  0.0147, -0.0265],\n",
       "                      ...,\n",
       "                      [-0.0225,  0.0113,  0.0102,  ..., -0.0346,  0.0051, -0.0210],\n",
       "                      [-0.0248, -0.0376,  0.0162,  ...,  0.0134, -0.0086,  0.0142],\n",
       "                      [-0.0491,  0.0735, -0.0231,  ..., -0.0584,  0.0366, -0.0142]],\n",
       "                     device='cuda:0')),\n",
       "             ('lstm.bias_ih_l1',\n",
       "              tensor([-0.0168,  0.0287, -0.0304,  ...,  0.0203,  0.0094, -0.0081],\n",
       "                     device='cuda:0')),\n",
       "             ('lstm.bias_hh_l1',\n",
       "              tensor([ 0.0018,  0.0020, -0.0036,  ...,  0.0267,  0.0217,  0.0024],\n",
       "                     device='cuda:0')),\n",
       "             ('lstm.weight_ih_l1_reverse',\n",
       "              tensor([[-0.0875, -0.0047, -0.0073,  ...,  0.0284, -0.0054,  0.0168],\n",
       "                      [ 0.0069,  0.0216, -0.0704,  ..., -0.0072,  0.0072, -0.0230],\n",
       "                      [-0.0064, -0.0725,  0.0139,  ...,  0.0581,  0.0489,  0.0567],\n",
       "                      ...,\n",
       "                      [ 0.0880,  0.0293,  0.0020,  ...,  0.0097,  0.0771,  0.0105],\n",
       "                      [ 0.0129, -0.0338,  0.0192,  ...,  0.0215,  0.0336, -0.0129],\n",
       "                      [ 0.0030,  0.0512,  0.0142,  ...,  0.0258,  0.0962,  0.0084]],\n",
       "                     device='cuda:0')),\n",
       "             ('lstm.weight_hh_l1_reverse',\n",
       "              tensor([[ 0.0175,  0.0273, -0.0353,  ..., -0.0312,  0.0253, -0.0043],\n",
       "                      [ 0.0478, -0.0379, -0.0102,  ..., -0.0458,  0.0252,  0.0036],\n",
       "                      [ 0.0340, -0.0062,  0.0313,  ..., -0.1129,  0.0075, -0.0985],\n",
       "                      ...,\n",
       "                      [-0.0277,  0.0032,  0.0465,  ..., -0.0146, -0.0135, -0.0638],\n",
       "                      [ 0.0322, -0.0236,  0.0116,  ..., -0.0413,  0.0246, -0.0245],\n",
       "                      [-0.0953, -0.0386,  0.0701,  ..., -0.0501,  0.0011, -0.0475]],\n",
       "                     device='cuda:0')),\n",
       "             ('lstm.bias_ih_l1_reverse',\n",
       "              tensor([ 0.0026,  0.0154,  0.0517,  ...,  0.0664, -0.0174, -0.0043],\n",
       "                     device='cuda:0')),\n",
       "             ('lstm.bias_hh_l1_reverse',\n",
       "              tensor([-0.0169,  0.0116,  0.0468,  ...,  0.0455,  0.0055,  0.0305],\n",
       "                     device='cuda:0')),\n",
       "             ('lstm.weight_ih_l2',\n",
       "              tensor([[-0.0614, -0.1067, -0.0425,  ..., -0.0233, -0.0322, -0.0271],\n",
       "                      [ 0.0235,  0.0647,  0.0182,  ...,  0.0027, -0.0242,  0.0121],\n",
       "                      [-0.0447,  0.0176,  0.0008,  ...,  0.0292,  0.0140,  0.0211],\n",
       "                      ...,\n",
       "                      [-0.0314, -0.0193, -0.0290,  ..., -0.0761,  0.0401, -0.0833],\n",
       "                      [ 0.0123,  0.0504,  0.0514,  ..., -0.0757,  0.0260, -0.0130],\n",
       "                      [-0.0048, -0.0985,  0.0170,  ..., -0.0469, -0.0079, -0.0179]],\n",
       "                     device='cuda:0')),\n",
       "             ('lstm.weight_hh_l2',\n",
       "              tensor([[ 0.0282, -0.0230,  0.0377,  ...,  0.0043, -0.0079, -0.0172],\n",
       "                      [ 0.0093, -0.0352,  0.0824,  ..., -0.0238, -0.0567, -0.0451],\n",
       "                      [-0.0053, -0.0402,  0.0464,  ..., -0.0283, -0.0762, -0.0002],\n",
       "                      ...,\n",
       "                      [ 0.0719, -0.0961,  0.1088,  ...,  0.0048, -0.1420, -0.1031],\n",
       "                      [-0.0021,  0.0456,  0.0452,  ..., -0.0454, -0.0932, -0.0033],\n",
       "                      [-0.0310, -0.1029, -0.0202,  ..., -0.0101,  0.0372, -0.0220]],\n",
       "                     device='cuda:0')),\n",
       "             ('lstm.bias_ih_l2',\n",
       "              tensor([ 0.0473, -0.0108, -0.0056,  ...,  0.0071,  0.0330,  0.0075],\n",
       "                     device='cuda:0')),\n",
       "             ('lstm.bias_hh_l2',\n",
       "              tensor([ 0.0620,  0.0112,  0.0034,  ..., -0.0194,  0.0261, -0.0057],\n",
       "                     device='cuda:0')),\n",
       "             ('lstm.weight_ih_l2_reverse',\n",
       "              tensor([[-0.0450, -0.0132, -0.0567,  ..., -0.0032, -0.1522, -0.0728],\n",
       "                      [-0.0238, -0.0089, -0.0064,  ...,  0.0073, -0.1221, -0.0364],\n",
       "                      [-0.0531,  0.0005, -0.0415,  ..., -0.0130, -0.0713,  0.0243],\n",
       "                      ...,\n",
       "                      [-0.0088,  0.0108,  0.0208,  ..., -0.0601, -0.0030, -0.0231],\n",
       "                      [-0.0794, -0.0083, -0.1636,  ..., -0.0911, -0.0845, -0.1114],\n",
       "                      [-0.0576, -0.0234, -0.0218,  ...,  0.0046,  0.0452, -0.0357]],\n",
       "                     device='cuda:0')),\n",
       "             ('lstm.weight_hh_l2_reverse',\n",
       "              tensor([[ 0.0243,  0.0415, -0.0119,  ..., -0.1220, -0.0230,  0.0288],\n",
       "                      [-0.0314, -0.0422,  0.0370,  ..., -0.0908, -0.0279,  0.0287],\n",
       "                      [-0.0054, -0.0439,  0.0370,  ..., -0.0324,  0.0829,  0.0678],\n",
       "                      ...,\n",
       "                      [ 0.0367, -0.0203,  0.0236,  ..., -0.0548, -0.0719, -0.0175],\n",
       "                      [-0.0417,  0.0362,  0.0209,  ..., -0.0288, -0.0292, -0.0136],\n",
       "                      [ 0.0173,  0.0574, -0.0215,  ..., -0.0185,  0.0298, -0.0576]],\n",
       "                     device='cuda:0')),\n",
       "             ('lstm.bias_ih_l2_reverse',\n",
       "              tensor([ 0.0113, -0.0346, -0.0166,  ...,  0.1307,  0.0040,  0.0179],\n",
       "                     device='cuda:0')),\n",
       "             ('lstm.bias_hh_l2_reverse',\n",
       "              tensor([ 0.0227, -0.0505, -0.0161,  ...,  0.1006,  0.0058,  0.0511],\n",
       "                     device='cuda:0')),\n",
       "             ('lstm.weight_ih_l3',\n",
       "              tensor([[ 0.0450,  0.0618,  0.0049,  ...,  0.0787,  0.0142,  0.0199],\n",
       "                      [-0.1001,  0.0019, -0.0221,  ..., -0.0771, -0.0377,  0.0262],\n",
       "                      [-0.0237,  0.0188,  0.0942,  ..., -0.0265, -0.0160,  0.0134],\n",
       "                      ...,\n",
       "                      [-0.0248, -0.0615, -0.0543,  ..., -0.0241, -0.0102, -0.0286],\n",
       "                      [-0.0185, -0.0468, -0.0746,  ...,  0.0129,  0.0438, -0.0057],\n",
       "                      [-0.0356, -0.0253, -0.1042,  ..., -0.0525, -0.0396, -0.0435]],\n",
       "                     device='cuda:0')),\n",
       "             ('lstm.weight_hh_l3',\n",
       "              tensor([[ 0.0902, -0.0084,  0.0974,  ...,  0.0261, -0.1061, -0.1277],\n",
       "                      [-0.0941,  0.0556, -0.0660,  ..., -0.0153,  0.0010, -0.0534],\n",
       "                      [ 0.0075,  0.0326, -0.0614,  ...,  0.0501, -0.0069,  0.0789],\n",
       "                      ...,\n",
       "                      [-0.0574, -0.0055,  0.0404,  ..., -0.1839, -0.1257,  0.0661],\n",
       "                      [-0.0752, -0.0720,  0.0317,  ..., -0.0921,  0.1405, -0.0191],\n",
       "                      [-0.0113, -0.0414,  0.0097,  ...,  0.1296,  0.0940,  0.0902]],\n",
       "                     device='cuda:0')),\n",
       "             ('lstm.bias_ih_l3',\n",
       "              tensor([-0.0021,  0.0262, -0.0167,  ...,  0.0151,  0.0346,  0.0430],\n",
       "                     device='cuda:0')),\n",
       "             ('lstm.bias_hh_l3',\n",
       "              tensor([0.0035, 0.0329, 0.0016,  ..., 0.0437, 0.0553, 0.0222], device='cuda:0')),\n",
       "             ('lstm.weight_ih_l3_reverse',\n",
       "              tensor([[-0.0291,  0.0042, -0.1002,  ..., -0.0367, -0.0291, -0.0167],\n",
       "                      [-0.0973, -0.0197, -0.0220,  ..., -0.1221, -0.0323, -0.0204],\n",
       "                      [ 0.0411, -0.1119,  0.1020,  ..., -0.0014, -0.0674,  0.0043],\n",
       "                      ...,\n",
       "                      [-0.0368, -0.1001,  0.1499,  ...,  0.0199,  0.0116, -0.0265],\n",
       "                      [-0.0328, -0.1295,  0.0310,  ...,  0.0296,  0.0312, -0.0397],\n",
       "                      [ 0.1080, -0.0206, -0.0077,  ..., -0.0038, -0.0804,  0.0419]],\n",
       "                     device='cuda:0')),\n",
       "             ('lstm.weight_hh_l3_reverse',\n",
       "              tensor([[-0.0108, -0.0026, -0.0108,  ..., -0.0022, -0.0205, -0.0116],\n",
       "                      [ 0.0169,  0.0180, -0.0150,  ..., -0.0180, -0.0032, -0.0048],\n",
       "                      [-0.0057, -0.0107, -0.0103,  ..., -0.0034, -0.0034, -0.0097],\n",
       "                      ...,\n",
       "                      [ 0.0123,  0.0049, -0.0147,  ..., -0.0022, -0.0198,  0.0182],\n",
       "                      [-0.0202, -0.0035,  0.0188,  ...,  0.0094, -0.0030, -0.0054],\n",
       "                      [ 0.0055,  0.0083,  0.0187,  ...,  0.0143, -0.0087, -0.0110]],\n",
       "                     device='cuda:0')),\n",
       "             ('lstm.bias_ih_l3_reverse',\n",
       "              tensor([-0.0114,  0.0233,  0.0995,  ...,  0.0283,  0.0333,  0.0594],\n",
       "                     device='cuda:0')),\n",
       "             ('lstm.bias_hh_l3_reverse',\n",
       "              tensor([-0.0162,  0.0187,  0.0756,  ...,  0.0460,  0.0289,  0.0625],\n",
       "                     device='cuda:0')),\n",
       "             ('fc.weight',\n",
       "              tensor([[-0.0259,  0.0470,  0.1824,  ..., -0.1295,  0.1936,  0.0361],\n",
       "                      [ 0.0771, -0.0573, -0.1607,  ..., -0.0907, -0.0652, -0.0709],\n",
       "                      [ 0.0863, -0.0465, -0.0012,  ...,  0.1342, -0.0627, -0.1323],\n",
       "                      ...,\n",
       "                      [ 0.0067,  0.0154,  0.0441,  ...,  0.0209, -0.0211, -0.0013],\n",
       "                      [-0.0297, -0.0413,  0.1777,  ..., -0.0903,  0.1044, -0.0890],\n",
       "                      [ 0.0123,  0.1571, -0.1737,  ...,  0.1467, -0.1689, -0.0065]],\n",
       "                     device='cuda:0')),\n",
       "             ('fc.bias',\n",
       "              tensor([-7.4206e-04,  5.0035e-02,  1.7274e-02,  1.1145e-02,  3.0850e-03,\n",
       "                       5.6021e-03, -3.8226e-02, -1.6503e-02, -2.6361e-02,  3.4458e-02,\n",
       "                      -2.3218e-02, -3.8907e-02,  2.8941e-02,  1.7155e-02,  2.2140e-02,\n",
       "                      -9.6047e-05,  4.4011e-02,  1.3751e-02,  1.5393e-02, -3.9819e-03,\n",
       "                      -2.5514e-04,  6.8464e-03, -3.9268e-03, -2.3191e-02, -2.8742e-02,\n",
       "                       1.8419e-03, -4.5462e-02,  1.3418e-02,  7.3579e-03, -2.2935e-02,\n",
       "                      -7.1934e-03, -4.9280e-02, -4.3461e-02, -9.5870e-03, -4.4663e-02,\n",
       "                       2.2603e-02, -3.8496e-02, -3.2656e-02,  6.6030e-03,  4.0995e-02,\n",
       "                       6.6446e-03, -5.2644e-03,  4.1311e-02, -1.2618e-02,  5.8954e-03,\n",
       "                      -9.2572e-03,  7.5274e-02,  3.4348e-02,  5.1851e-02, -6.4615e-02,\n",
       "                      -1.9558e-02,  1.9186e-03,  9.5409e-03, -6.7135e-03, -6.2938e-03,\n",
       "                      -4.4542e-03, -2.4308e-02,  5.6251e-03,  1.6521e-02,  1.9641e-02,\n",
       "                      -4.9782e-03, -5.3558e-02,  1.8480e-02,  1.7316e-02, -7.2677e-03,\n",
       "                       1.6005e-02, -3.2612e-02, -1.8722e-02,  8.8134e-03,  5.8459e-03,\n",
       "                       2.8373e-02,  2.2868e-02, -5.5297e-03, -2.3341e-02, -1.0671e-02,\n",
       "                       1.1444e-02,  2.5499e-03, -1.8852e-02, -1.8374e-03, -2.1301e-02,\n",
       "                       1.8458e-02, -6.7309e-03,  4.4921e-03, -2.5033e-02,  3.4065e-02,\n",
       "                       1.8319e-02, -2.6957e-02, -1.4169e-03, -1.6221e-02, -4.4786e-02,\n",
       "                       5.3744e-03, -3.9456e-03, -2.4702e-02, -2.0620e-03, -2.8390e-02,\n",
       "                       3.5676e-02,  6.8618e-02,  4.2130e-02,  3.6794e-02,  2.6583e-02,\n",
       "                       3.6357e-02, -9.6613e-03,  5.3460e-02, -2.7994e-02,  1.0401e-02,\n",
       "                      -1.7990e-02,  2.5471e-02, -6.9503e-03, -1.4531e-02, -2.0976e-02,\n",
       "                      -1.4403e-02, -1.2708e-02,  2.5516e-02,  6.9356e-03,  4.7973e-02,\n",
       "                       1.2602e-02, -1.0370e-02, -2.2124e-02, -1.7327e-02, -2.2511e-02,\n",
       "                       1.8140e-02, -2.5600e-02, -5.2165e-02,  4.3673e-02,  2.2373e-02,\n",
       "                      -3.6841e-02,  4.7441e-02,  1.6376e-02,  4.3561e-02,  5.3701e-03,\n",
       "                       3.0768e-02, -8.4813e-03,  9.4638e-03, -2.3279e-02, -4.1205e-02,\n",
       "                      -4.2217e-02,  3.3831e-02,  2.2935e-02,  1.0092e-02, -6.3538e-03,\n",
       "                       1.4933e-02, -3.2807e-02, -4.1802e-02, -3.2265e-03, -5.5477e-03,\n",
       "                       3.4640e-03, -2.2776e-02,  1.6689e-02, -1.1251e-02,  6.2886e-03,\n",
       "                       6.9824e-02,  2.7946e-02,  3.0830e-02, -7.2623e-03,  1.5188e-02,\n",
       "                       2.3163e-03, -7.1398e-03, -2.3950e-02, -2.0785e-02,  2.3543e-02,\n",
       "                       5.0753e-02,  8.4882e-03, -6.4648e-02, -3.0896e-02,  6.5150e-03,\n",
       "                      -2.8607e-02,  5.4588e-02, -4.1059e-02, -2.3858e-02, -2.6325e-02,\n",
       "                      -4.0605e-03, -3.3847e-02,  6.3199e-03,  8.8219e-03, -5.0140e-02,\n",
       "                       4.9470e-04, -1.8845e-02, -1.1036e-02, -1.1163e-03,  3.9167e-02,\n",
       "                       1.9985e-02,  5.6661e-02, -3.5046e-02, -5.4322e-02, -3.5453e-03,\n",
       "                      -4.4137e-03, -1.4502e-02, -1.7417e-02, -2.1080e-03, -1.9395e-02,\n",
       "                       2.3332e-02,  2.6391e-02, -2.8286e-02, -4.0306e-02, -4.2100e-02,\n",
       "                      -2.1413e-02, -1.0897e-02, -2.0350e-02,  6.7864e-03, -5.6557e-04,\n",
       "                       2.6449e-02,  2.6449e-02,  3.4044e-02,  2.3252e-02, -2.7595e-02,\n",
       "                       3.0219e-02,  3.4729e-02,  3.5797e-02, -1.9120e-02, -3.3977e-02,\n",
       "                       2.7304e-02,  5.5376e-04, -5.3100e-03, -3.8835e-02, -4.3279e-02,\n",
       "                      -6.8735e-02,  5.9555e-02,  2.0562e-02,  1.1249e-03, -2.3231e-04,\n",
       "                       3.1287e-02, -1.2766e-02, -2.1379e-02, -1.5305e-02, -1.4326e-02,\n",
       "                       2.4705e-02, -2.1315e-02,  2.8220e-02, -4.1996e-02,  2.2144e-02,\n",
       "                       1.1873e-02,  1.6781e-02, -1.4677e-02, -1.0293e-02, -4.0635e-02,\n",
       "                      -5.6990e-03, -2.3575e-02, -4.0122e-02,  8.1054e-03, -1.3271e-03,\n",
       "                      -9.0636e-04, -5.1714e-03, -1.5857e-02,  1.4008e-02,  3.6806e-02,\n",
       "                      -3.9860e-02, -1.5182e-02,  5.3442e-02,  1.9438e-02, -1.9759e-02],\n",
       "                     device='cuda:0')),\n",
       "             ('embed.0.weight',\n",
       "              tensor([[ 0.0593,  0.0880,  0.0712,  ..., -0.0099, -0.0056,  0.0366],\n",
       "                      [ 0.0115,  0.0051,  0.0168,  ...,  0.0172, -0.0221,  0.0082],\n",
       "                      [-0.0042,  0.0394,  0.0168,  ...,  0.0265, -0.0274, -0.0350],\n",
       "                      ...,\n",
       "                      [-0.0250, -0.0335, -0.0063,  ...,  0.0195, -0.0115, -0.0131],\n",
       "                      [-0.0359, -0.0056,  0.0083,  ...,  0.0068,  0.0177,  0.0286],\n",
       "                      [ 0.0064, -0.0039,  0.0251,  ...,  0.0423,  0.0136, -0.0031]],\n",
       "                     device='cuda:0')),\n",
       "             ('embed.0.bias',\n",
       "              tensor([-1.0595e-02, -1.7056e-02, -2.1325e-02,  6.8763e-03,  3.3603e-02,\n",
       "                       4.9397e-02,  2.5844e-02,  6.5687e-03,  2.1201e-02, -3.5690e-02,\n",
       "                      -4.3432e-03,  2.1214e-02, -3.2466e-02, -1.0855e-03,  1.8802e-02,\n",
       "                       4.7069e-03, -1.2330e-02,  3.5031e-02,  4.6243e-04, -7.6540e-03,\n",
       "                      -1.4618e-02,  8.0311e-02,  3.5354e-02,  7.2246e-02,  2.3623e-02,\n",
       "                       1.4676e-02,  5.7426e-02,  2.2656e-02,  9.7671e-03, -3.7180e-02,\n",
       "                       1.1337e-02, -1.2107e-02, -3.7623e-02,  9.8128e-02, -1.4708e-03,\n",
       "                       4.5957e-02,  3.3917e-02,  2.9490e-02,  1.2940e-01,  2.5445e-03,\n",
       "                      -1.4995e-02,  2.2869e-02, -4.3572e-03,  3.4766e-02,  5.3924e-03,\n",
       "                       2.2942e-02, -2.3720e-03, -3.1567e-02, -7.7343e-03,  9.8881e-03,\n",
       "                      -4.2721e-02, -1.0569e-03,  6.7519e-02, -2.5566e-02,  1.3341e-02,\n",
       "                       1.1329e-02,  3.6280e-03,  1.6219e-03,  4.0488e-02,  1.1700e-02,\n",
       "                       3.9348e-02,  2.3810e-02, -1.8225e-02, -2.7726e-02,  1.4697e-01,\n",
       "                       1.0793e-02, -8.5772e-03, -4.9596e-02,  9.0860e-03,  3.6842e-02,\n",
       "                       3.1600e-02,  1.4183e-02, -3.9522e-02, -3.0793e-02,  3.4133e-02,\n",
       "                      -2.5883e-02, -1.6025e-02,  1.2022e-02, -2.1330e-03,  9.1008e-04,\n",
       "                      -3.2174e-02,  5.4788e-02,  1.1215e-01,  4.5549e-04, -5.1152e-02,\n",
       "                      -1.8240e-02, -2.1260e-03,  1.5356e-02,  7.1275e-02, -4.9783e-03,\n",
       "                       1.3664e-02,  4.8241e-04, -4.3141e-02,  6.2503e-03,  4.3340e-03,\n",
       "                      -1.6668e-02,  9.4406e-04,  5.4192e-02,  4.8574e-04, -4.8708e-02,\n",
       "                       3.4588e-02,  1.3375e-02, -2.9539e-02,  1.5898e-03,  4.4938e-02,\n",
       "                       5.8079e-04, -1.5025e-02,  8.5616e-03,  2.2744e-02, -6.3978e-02,\n",
       "                       3.3995e-02,  2.5623e-02,  2.3692e-02,  3.7442e-02,  5.9586e-02,\n",
       "                       2.1809e-02, -1.0881e-02,  3.6756e-02, -4.2785e-02,  1.5879e-02,\n",
       "                      -7.3333e-03,  2.0301e-02, -1.9333e-02,  5.8171e-02,  8.0757e-03,\n",
       "                      -3.9303e-02, -1.6954e-02,  2.6826e-03, -4.8437e-02,  2.3044e-02,\n",
       "                       3.3602e-02, -3.0041e-03,  4.9999e-02, -4.5579e-02,  4.8802e-02,\n",
       "                      -1.1531e-02,  3.7679e-02,  5.1378e-02,  5.6879e-03,  3.2795e-02,\n",
       "                       4.0359e-03, -1.2989e-02,  2.4566e-02,  1.7822e-03, -1.8149e-02,\n",
       "                      -3.2749e-02, -5.0956e-02, -1.5720e-02,  5.5383e-05,  1.1524e-02,\n",
       "                       5.7892e-02, -3.9528e-02,  2.7997e-02, -1.6815e-02, -4.0689e-02,\n",
       "                      -6.3188e-03, -7.8538e-03, -2.0229e-02,  8.0940e-03,  3.1475e-02,\n",
       "                       2.9353e-02,  5.1617e-02,  4.2883e-02, -1.3724e-02,  6.0675e-03,\n",
       "                       5.7349e-02, -1.6211e-02,  4.3945e-02, -1.0870e-03,  6.3496e-03,\n",
       "                      -2.5424e-02,  2.8310e-02,  1.7255e-02,  4.6190e-02, -3.6254e-03,\n",
       "                       8.2894e-03,  1.7972e-02, -4.1926e-02,  3.3474e-02,  3.5413e-03,\n",
       "                       2.9013e-03,  1.7721e-02,  2.8556e-02, -3.2898e-02, -1.7828e-02,\n",
       "                       5.5008e-02,  5.3861e-03,  6.0759e-02,  7.6229e-03, -2.1898e-02,\n",
       "                      -3.9875e-02,  3.5713e-04, -1.0171e-02, -4.8735e-02,  3.9635e-03,\n",
       "                      -2.4406e-02,  4.0379e-02, -1.2228e-02,  4.3605e-03, -2.0605e-02,\n",
       "                       1.3839e-02,  8.3301e-03,  2.2358e-02, -4.0684e-02,  2.0134e-02,\n",
       "                       2.1538e-02, -3.6779e-04,  4.9297e-03, -4.7174e-04, -3.4113e-03,\n",
       "                       4.7938e-02, -2.8633e-02,  2.9529e-03,  2.8421e-02,  1.9625e-02,\n",
       "                       1.4764e-02,  2.5249e-02,  1.4747e-02,  2.1947e-03,  9.6728e-03,\n",
       "                       2.9642e-02,  3.0588e-02, -7.1405e-02,  1.0276e-02,  3.6010e-02,\n",
       "                       3.8807e-02, -4.6250e-02,  5.9845e-03,  2.1584e-02,  5.5548e-02,\n",
       "                      -5.2551e-02, -3.9809e-02,  1.1735e-02, -1.0519e-02,  4.1042e-03,\n",
       "                       5.8170e-03,  1.2627e-01,  2.9632e-02, -8.7029e-03,  4.9693e-02,\n",
       "                      -1.3603e-02,  7.0678e-02, -1.0744e-02, -3.6705e-03, -4.1402e-02,\n",
       "                      -2.0178e-02,  6.9175e-04,  1.6362e-02, -6.5939e-03,  1.7240e-02,\n",
       "                      -1.1393e-02,  1.8852e-02, -2.7911e-02,  9.3177e-03,  8.4205e-03,\n",
       "                      -3.8896e-02,  1.5878e-03, -4.6124e-03, -2.7164e-02,  2.3011e-02,\n",
       "                       9.3543e-03, -3.4887e-02, -3.8590e-02, -3.4809e-02,  3.9629e-02,\n",
       "                       2.7955e-03, -2.6447e-02, -2.4275e-02, -2.9726e-02,  7.4652e-03,\n",
       "                      -9.8752e-03,  1.1430e-02, -2.5740e-02,  1.3104e-02,  1.3279e-02,\n",
       "                      -5.4384e-03,  3.7664e-02,  2.7714e-02,  7.2928e-02, -1.8416e-02,\n",
       "                      -1.4383e-02,  5.7256e-03, -9.5421e-04,  1.0747e-02, -8.4714e-03,\n",
       "                      -4.8426e-03, -4.5064e-02,  9.8986e-03, -4.9393e-02,  1.8451e-02,\n",
       "                       5.0345e-03,  7.2878e-02,  2.4776e-02, -2.4092e-02,  1.6801e-03,\n",
       "                       2.2450e-02, -1.3217e-02,  4.3135e-03,  2.8535e-03, -1.0977e-02,\n",
       "                       1.8118e-02, -5.6254e-03,  2.0087e-04,  4.5185e-02,  6.0614e-02,\n",
       "                       3.7595e-02,  1.8075e-02,  1.1510e-02, -3.2336e-02,  1.0467e-02,\n",
       "                      -8.9256e-03, -9.7743e-03, -3.1375e-02, -2.9046e-03,  2.6469e-02,\n",
       "                       2.0094e-02, -3.3290e-02, -3.0325e-02,  1.7096e-02,  2.5479e-02,\n",
       "                       9.7635e-02,  2.7397e-02,  1.5385e-02, -2.0317e-02, -1.5600e-02,\n",
       "                      -3.1780e-02,  3.5864e-02,  9.2599e-02, -5.9524e-02,  3.2529e-02,\n",
       "                      -5.0897e-02, -3.1587e-02,  1.9638e-02, -6.4374e-02, -3.2343e-02,\n",
       "                      -2.5287e-02,  1.7815e-02,  1.9950e-02,  3.0544e-03, -2.6507e-02,\n",
       "                       2.3855e-02,  1.0579e-03, -4.3001e-02,  4.4219e-02,  5.1582e-03,\n",
       "                      -1.2030e-02, -2.5638e-02,  4.6878e-02,  2.9526e-02,  1.6947e-02,\n",
       "                       2.2059e-02, -1.1248e-02], device='cuda:0')),\n",
       "             ('embed.1.weight',\n",
       "              tensor([0.3544, 0.3087, 0.2967, 0.0999, 0.1071, 0.1462, 0.2035, 0.3022, 0.0959,\n",
       "                      0.1547, 0.3266, 0.3554, 0.3138, 0.3101, 0.0413, 0.3805, 0.3029, 0.2772,\n",
       "                      0.3507, 0.0496, 0.2957, 0.3462, 0.2267, 0.3750, 0.1038, 0.2624, 0.2578,\n",
       "                      0.2377, 0.3482, 0.3516, 0.1300, 0.1808, 0.3491, 0.3443, 0.3569, 0.3766,\n",
       "                      0.3503, 0.2619, 0.4883, 0.3111, 0.2967, 0.3165, 0.3203, 0.2680, 0.3219,\n",
       "                      0.3828, 0.2086, 0.2947, 0.3242, 0.3327, 0.3209, 0.3100, 0.1560, 0.2323,\n",
       "                      0.0990, 0.0766, 0.3720, 0.1043, 0.2124, 0.1763, 0.1547, 0.3394, 0.1862,\n",
       "                      0.1963, 0.6150, 0.3049, 0.3573, 0.2944, 0.0564, 0.3381, 0.1172, 0.1187,\n",
       "                      0.2335, 0.3223, 0.2403, 0.3621, 0.3143, 0.0817, 0.3727, 0.0510, 0.2421,\n",
       "                      0.3950, 0.4446, 0.3710, 0.2233, 0.1820, 0.4279, 0.2640, 0.3098, 0.3275,\n",
       "                      0.3257, 0.3828, 0.2494, 0.3715, 0.2839, 0.2858, 0.3235, 0.3068, 0.3848,\n",
       "                      0.2214, 0.0820, 0.2387, 0.3450, 0.0308, 0.0732, 0.3468, 0.2138, 0.2973,\n",
       "                      0.2826, 0.1920, 0.2558, 0.1969, 0.3340, 0.2845, 0.3773, 0.2188, 0.3505,\n",
       "                      0.3799, 0.2720, 0.3778, 0.1478, 0.3079, 0.2939, 0.1246, 0.1373, 0.3394,\n",
       "                      0.4303, 0.0770, 0.3378, 0.0701, 0.3296, 0.3204, 0.0715, 0.2495, 0.1582,\n",
       "                      0.3887, 0.3499, 0.1581, 0.1094, 0.3458, 0.0725, 0.3843, 0.3072, 0.3342,\n",
       "                      0.2024, 0.3478, 0.1734, 0.4041, 0.2582, 0.3405, 0.1559, 0.3676, 0.3231,\n",
       "                      0.2531, 0.4228, 0.3559, 0.3203, 0.0947, 0.3628, 0.3028, 0.4295, 0.0709,\n",
       "                      0.3926, 0.3196, 0.4169, 0.1148, 0.2912, 0.3715, 0.3175, 0.3096, 0.3488,\n",
       "                      0.3915, 0.2077, 0.2011, 0.1771, 0.3917, 0.3081, 0.3181, 0.3822, 0.3425,\n",
       "                      0.3632, 0.3702, 0.3715, 0.3157, 0.3280, 0.4508, 0.1749, 0.3033, 0.3246,\n",
       "                      0.3470, 0.1997, 0.2931, 0.3613, 0.1968, 0.1846, 0.1747, 0.3420, 0.4484,\n",
       "                      0.0673, 0.1940, 0.3038, 0.0778, 0.3229, 0.3098, 0.3482, 0.3638, 0.3593,\n",
       "                      0.4240, 0.3630, 0.3985, 0.1415, 0.2442, 0.0783, 0.2874, 0.1440, 0.2993,\n",
       "                      0.0451, 0.1583, 0.2887, 0.3133, 0.2242, 0.2495, 0.3444, 0.2848, 0.3515,\n",
       "                      0.3123, 0.3699, 0.2233, 0.3170, 0.0686, 0.3266, 0.3152, 0.3630, 0.3679,\n",
       "                      0.2105, 0.3690, 0.4458, 0.1754, 0.3250, 0.3834, 0.2620, 0.2054, 0.1643,\n",
       "                      0.3500, 0.3412, 0.3645, 0.3445, 0.4374, 0.2050, 0.3865, 0.3699, 0.3086,\n",
       "                      0.3215, 0.2841, 0.3203, 0.1464, 0.0659, 0.3516, 0.3401, 0.3716, 0.2555,\n",
       "                      0.2953, 0.2966, 0.2669, 0.3302, 0.1082, 0.2876, 0.3168, 0.3776, 0.0960,\n",
       "                      0.0703, 0.2859, 0.3939, 0.3185, 0.3704, 0.4087, 0.2284, 0.3532, 0.4368,\n",
       "                      0.3160, 0.4082, 0.3065, 0.3498, 0.2754, 0.2450, 0.1451, 0.3133, 0.3446,\n",
       "                      0.3057, 0.1906, 0.3152, 0.2966, 0.3552, 0.3233, 0.3602, 0.1972, 0.2633,\n",
       "                      0.3372, 0.2891, 0.3355, 0.3481, 0.3282, 0.3060, 0.2000, 0.1337, 0.1679,\n",
       "                      0.4174, 0.3432, 0.2342, 0.3546, 0.3858, 0.1571, 0.3835, 0.3712, 0.2726,\n",
       "                      0.0894, 0.2860, 0.3876, 0.2789, 0.3844, 0.4142, 0.3708, 0.3628, 0.2945,\n",
       "                      0.3370, 0.1910, 0.1781, 0.3518, 0.2903, 0.3520, 0.2210, 0.2047, 0.4115,\n",
       "                      0.2979, 0.3280, 0.1409, 0.2755, 0.1496, 0.3791, 0.3473, 0.0684, 0.3540,\n",
       "                      0.3288, 0.2497, 0.3704, 0.3826, 0.4170, 0.3075, 0.3083, 0.2761, 0.3416,\n",
       "                      0.1070], device='cuda:0')),\n",
       "             ('embed.1.bias',\n",
       "              tensor([-0.0130, -0.0077, -0.0214, -0.1807, -0.2020, -0.2115, -0.1298, -0.0102,\n",
       "                      -0.1911, -0.1477, -0.0044, -0.0351, -0.0559, -0.0418, -0.2516, -0.0078,\n",
       "                      -0.0203, -0.0130, -0.0167, -0.2345, -0.0217, -0.0367, -0.0476, -0.0585,\n",
       "                      -0.2338, -0.0586, -0.1167, -0.0614, -0.0074, -0.0170, -0.1672, -0.1439,\n",
       "                      -0.0059, -0.0417, -0.0154,  0.0053, -0.0092, -0.0373,  0.0348, -0.0222,\n",
       "                      -0.0091, -0.0084, -0.0152, -0.0189, -0.0096, -0.0192, -0.0966, -0.0243,\n",
       "                      -0.0218, -0.0464, -0.0249, -0.0298, -0.1723, -0.0851, -0.1979, -0.2322,\n",
       "                      -0.0148, -0.2393, -0.0643, -0.1520, -0.1856, -0.0400, -0.1392, -0.0733,\n",
       "                       0.1094, -0.0169, -0.0145, -0.0304, -0.2329, -0.0220, -0.2045, -0.2143,\n",
       "                      -0.0500,  0.0020, -0.0737, -0.0175, -0.0279, -0.2140, -0.0361, -0.2171,\n",
       "                      -0.0584, -0.0150, -0.0033, -0.0178, -0.0850, -0.1061, -0.0036, -0.0181,\n",
       "                      -0.0735, -0.0167, -0.0137, -0.0083, -0.0308, -0.0455, -0.0644, -0.0211,\n",
       "                      -0.0319, -0.0223, -0.0268, -0.0749, -0.2108, -0.0552, -0.0124, -0.2231,\n",
       "                      -0.2010, -0.0120, -0.1381, -0.0252, -0.0424, -0.1275, -0.0475, -0.1063,\n",
       "                      -0.0153, -0.0643, -0.0348, -0.0755, -0.0429, -0.0221, -0.0324, -0.0189,\n",
       "                      -0.1456, -0.0186, -0.0345, -0.2015, -0.2127, -0.0292, -0.0192, -0.2019,\n",
       "                      -0.0235, -0.2272, -0.0419, -0.0257, -0.2281, -0.0164, -0.1758, -0.0162,\n",
       "                      -0.0050, -0.1758, -0.1778, -0.0171, -0.2391, -0.0095, -0.0430, -0.0277,\n",
       "                      -0.0655, -0.0161, -0.1216, -0.0218, -0.0230, -0.0213, -0.2192, -0.0215,\n",
       "                      -0.0167, -0.0590, -0.0013, -0.0151, -0.0125, -0.2035, -0.0211, -0.0194,\n",
       "                      -0.0134, -0.1978, -0.0055, -0.0232, -0.0115, -0.2392, -0.0378, -0.0132,\n",
       "                      -0.0241, -0.0456, -0.0110, -0.0063, -0.1107, -0.1590, -0.0581, -0.0132,\n",
       "                      -0.0328, -0.0060, -0.0157, -0.0270, -0.0192, -0.0289, -0.0234, -0.0385,\n",
       "                      -0.0160,  0.0284, -0.1701, -0.1150, -0.0201, -0.0327, -0.0747, -0.0324,\n",
       "                      -0.0658, -0.1484, -0.0992, -0.1485, -0.0169, -0.0157, -0.2299, -0.1545,\n",
       "                      -0.0703, -0.2452, -0.0025, -0.0286, -0.0097,  0.0051, -0.0357, -0.0309,\n",
       "                      -0.0188,  0.0048, -0.2028, -0.0384, -0.2478, -0.0332, -0.1569, -0.0326,\n",
       "                      -0.2665, -0.1803, -0.0518, -0.0306, -0.1589, -0.0643,  0.0093,  0.0230,\n",
       "                      -0.0082, -0.0112, -0.0163, -0.0421, -0.0168, -0.2129, -0.0175, -0.0156,\n",
       "                      -0.0388, -0.0106, -0.1269, -0.0115, -0.0207, -0.1683, -0.0212, -0.0407,\n",
       "                      -0.0202, -0.1845, -0.1227, -0.0125, -0.0191, -0.0110, -0.0229, -0.0040,\n",
       "                      -0.0664, -0.0202, -0.0148, -0.0295, -0.0177, -0.0266, -0.0298, -0.1736,\n",
       "                      -0.2123, -0.0271, -0.0110, -0.0230, -0.0267, -0.0317, -0.0207, -0.0127,\n",
       "                      -0.0315, -0.1977, -0.0369, -0.0020, -0.0169, -0.2105, -0.2353, -0.0128,\n",
       "                      -0.0058, -0.0264, -0.0126, -0.0247, -0.0717, -0.0250, -0.0056, -0.0170,\n",
       "                      -0.0057, -0.0290, -0.0370, -0.0235, -0.0383, -0.1492, -0.0174, -0.0462,\n",
       "                      -0.0266, -0.0985, -0.0260, -0.0897, -0.0140, -0.0289, -0.0006, -0.0824,\n",
       "                      -0.0391, -0.0004, -0.0208, -0.0165, -0.0259, -0.0198, -0.0737, -0.1796,\n",
       "                      -0.2290, -0.1652, -0.0242, -0.0227, -0.0411, -0.0269,  0.0018, -0.1502,\n",
       "                      -0.0021, -0.0105, -0.0165, -0.1852, -0.0170, -0.0265, -0.0214, -0.0212,\n",
       "                      -0.0425, -0.0042, -0.0243, -0.0170, -0.0243, -0.0827, -0.1135, -0.0719,\n",
       "                      -0.0122, -0.0212, -0.0439, -0.0648, -0.0071, -0.0402, -0.0071, -0.1454,\n",
       "                      -0.0514, -0.1310, -0.0121, -0.0178, -0.2135, -0.0123, -0.0099, -0.1111,\n",
       "                      -0.0162, -0.0250, -0.0227, -0.0182, -0.0148, -0.0235, -0.0250, -0.1763],\n",
       "                     device='cuda:0')),\n",
       "             ('embed.3.weight',\n",
       "              tensor([[ 0.0250, -0.0201, -0.0033,  ..., -0.0076, -0.0106,  0.0060],\n",
       "                      [ 0.0539, -0.0237, -0.0056,  ..., -0.0053,  0.0084,  0.0195],\n",
       "                      [ 0.0118, -0.0146, -0.0642,  ..., -0.0172, -0.0086,  0.0421],\n",
       "                      ...,\n",
       "                      [ 0.0316, -0.0400, -0.0027,  ...,  0.0110,  0.0280,  0.0289],\n",
       "                      [-0.0071, -0.0524, -0.0097,  ...,  0.0713, -0.0106,  0.0318],\n",
       "                      [-0.0170,  0.0167,  0.0779,  ...,  0.0156, -0.0096,  0.0196]],\n",
       "                     device='cuda:0')),\n",
       "             ('embed.3.bias',\n",
       "              tensor([ 7.1345e-03, -6.6182e-03,  2.1287e-02, -3.2421e-03, -3.0586e-02,\n",
       "                       5.9230e-03, -1.1963e-02,  3.9981e-02, -6.6744e-03, -4.4515e-03,\n",
       "                      -1.2210e-02, -1.2007e-02, -1.8971e-02,  1.6335e-02,  1.8361e-03,\n",
       "                      -8.9709e-03,  1.8044e-02,  1.0987e-03, -1.1596e-02, -1.0196e-02,\n",
       "                      -1.1687e-02, -5.4123e-03, -5.1745e-03, -3.7994e-03,  9.5479e-03,\n",
       "                       6.8651e-04,  8.9589e-04, -2.9418e-03, -7.5542e-04,  5.6612e-03,\n",
       "                       1.3337e-02,  1.0177e-03, -1.7874e-02, -8.2704e-03, -2.4662e-02,\n",
       "                       1.7379e-02,  1.4524e-02,  5.9298e-03,  1.4976e-02,  1.3209e-02,\n",
       "                       3.6186e-03, -2.4851e-02, -1.0014e-02,  3.5896e-04,  1.3127e-02,\n",
       "                       9.9673e-03, -5.9211e-04, -6.8378e-03, -4.7466e-03,  1.6620e-02,\n",
       "                       7.0850e-03,  2.9314e-02,  2.1177e-03, -1.2343e-02, -1.2534e-02,\n",
       "                       7.6139e-04,  9.6826e-03, -3.2501e-03,  2.3982e-04, -1.0048e-02,\n",
       "                      -7.2423e-03, -7.0834e-03,  2.6381e-02,  8.1115e-03,  3.0314e-02,\n",
       "                       3.8883e-03, -2.9241e-03, -2.6020e-02, -1.2233e-02,  1.0281e-03,\n",
       "                       5.5327e-03, -1.0373e-02, -7.7820e-03,  1.6001e-02,  4.7717e-03,\n",
       "                      -6.0926e-03,  1.5970e-02, -6.6093e-03, -2.1304e-02,  2.0582e-02,\n",
       "                      -9.4534e-03,  8.6879e-03, -1.9732e-02,  2.1791e-03, -1.0259e-02,\n",
       "                       1.1192e-02, -6.8154e-03,  2.7245e-02,  1.3194e-02,  1.0399e-02,\n",
       "                      -7.9564e-03, -8.8054e-03, -3.7746e-03, -1.5782e-02, -1.0641e-02,\n",
       "                       3.6629e-03,  1.9394e-02,  4.0884e-03,  1.9483e-02, -2.6865e-02,\n",
       "                       5.4089e-03, -4.2982e-03, -2.1471e-02, -1.8047e-02, -1.6354e-02,\n",
       "                       9.2934e-04,  4.5937e-03, -4.5187e-03, -1.1439e-02, -8.8020e-03,\n",
       "                      -2.7303e-03,  4.5085e-05,  1.6611e-02, -1.7495e-02, -4.5255e-03,\n",
       "                      -2.4251e-02, -6.0445e-04,  1.0924e-02, -9.2180e-04, -2.2285e-02,\n",
       "                       1.7519e-03,  6.0320e-03,  2.0845e-02,  7.5224e-03,  1.0368e-02,\n",
       "                      -1.7472e-02,  8.1201e-03, -1.1917e-02,  2.6547e-02,  1.1680e-02,\n",
       "                      -1.8734e-02,  4.8863e-03, -1.4802e-02, -1.9776e-02,  1.1756e-02,\n",
       "                      -2.3514e-02,  1.4344e-02,  1.0818e-02,  9.8448e-03,  1.7523e-02,\n",
       "                      -9.8757e-03,  1.2227e-02,  5.7908e-03, -5.8084e-03, -3.5924e-03,\n",
       "                       1.1841e-04, -8.3242e-03,  3.0799e-03,  9.0904e-03,  4.0024e-03,\n",
       "                       1.8085e-03,  1.1326e-02,  6.6365e-03, -1.1286e-02,  2.6491e-03,\n",
       "                      -2.4270e-02, -1.0525e-02, -2.0186e-02,  9.8730e-03,  1.2064e-02,\n",
       "                       2.0109e-02,  1.0969e-02, -1.3737e-02, -1.3808e-02,  7.4609e-04,\n",
       "                       2.0763e-03,  1.0955e-02,  2.1670e-03,  9.2517e-03, -8.4597e-03,\n",
       "                       7.9624e-04, -1.8676e-02,  5.3454e-03, -3.8334e-03, -2.6617e-02,\n",
       "                       1.0162e-02], device='cuda:0')),\n",
       "             ('embed.4.weight',\n",
       "              tensor([0.3703, 0.5160, 0.5074, 0.5807, 0.5007, 0.4557, 0.4156, 0.5590, 0.3801,\n",
       "                      0.6246, 0.6411, 0.4835, 0.4844, 0.3880, 0.5288, 0.6630, 0.3863, 0.4792,\n",
       "                      0.5129, 0.5301, 0.5469, 0.6596, 0.6331, 0.3986, 0.4894, 0.4462, 0.5745,\n",
       "                      0.4914, 0.6039, 0.4561, 0.6692, 0.4445, 0.4874, 0.6340, 0.4565, 0.3611,\n",
       "                      0.4010, 0.6406, 0.4461, 0.4206, 0.4056, 0.5482, 0.6024, 0.5493, 0.6061,\n",
       "                      0.4527, 0.4158, 0.6228, 0.5891, 0.4640, 0.6729, 0.4093, 0.4318, 0.5982,\n",
       "                      0.4875, 0.6107, 0.4639, 0.4323, 0.5948, 0.6168, 0.6208, 0.5837, 0.4616,\n",
       "                      0.4892, 0.4194, 0.5498, 0.6434, 0.4524, 0.5435, 0.4276, 0.4731, 0.6788,\n",
       "                      0.5902, 0.4183, 0.5622, 0.6581, 0.6067, 0.4123, 0.6511, 0.4547, 0.4311,\n",
       "                      0.5133, 0.4319, 0.5670, 0.6258, 0.4695, 0.6269, 0.4301, 0.3631, 0.3940,\n",
       "                      0.5436, 0.6716, 0.4246, 0.5903, 0.6049, 0.4670, 0.5533, 0.4461, 0.5297,\n",
       "                      0.5265, 0.4455, 0.5136, 0.5939, 0.5313, 0.4646, 0.6038, 0.5476, 0.6098,\n",
       "                      0.4547, 0.6656, 0.5424, 0.4357, 0.5531, 0.7021, 0.4068, 0.5421, 0.3182,\n",
       "                      0.3941, 0.6354, 0.6421, 0.6364, 0.6831, 0.4477, 0.5253, 0.4980, 0.4254,\n",
       "                      0.4225, 0.4778, 0.4125, 0.4177, 0.6143, 0.5013, 0.5385, 0.5598, 0.4397,\n",
       "                      0.6331, 0.4632, 0.4750, 0.5968, 0.5735, 0.4955, 0.6177, 0.6372, 0.4854,\n",
       "                      0.6612, 0.3906, 0.4601, 0.3799, 0.5077, 0.6218, 0.4863, 0.4885, 0.5003,\n",
       "                      0.4104, 0.4827, 0.5460, 0.3901, 0.5623, 0.4163, 0.4532, 0.3742, 0.3995,\n",
       "                      0.6253, 0.5899, 0.4516, 0.6017, 0.5883, 0.4850, 0.5141, 0.5432, 0.2374,\n",
       "                      0.7473, 0.3946, 0.5278, 0.6019, 0.3867], device='cuda:0')),\n",
       "             ('embed.4.bias',\n",
       "              tensor([ 0.0367,  0.0090, -0.0462,  0.0594,  0.0152, -0.0268, -0.0111,  0.1294,\n",
       "                      -0.1160,  0.0275,  0.2145, -0.0216,  0.0738,  0.0396,  0.0584,  0.2067,\n",
       "                       0.0144,  0.0846,  0.0381,  0.0368,  0.0053,  0.1745,  0.0325,  0.0342,\n",
       "                       0.0036, -0.0398,  0.0509,  0.0125,  0.0171, -0.0489,  0.1739,  0.0223,\n",
       "                       0.0381,  0.0275,  0.0388,  0.0322,  0.0321,  0.2043, -0.0053,  0.0272,\n",
       "                       0.0042, -0.0453,  0.0103,  0.0183,  0.1485,  0.0342,  0.0456,  0.1252,\n",
       "                      -0.0219, -0.0230,  0.0349,  0.0487, -0.0080,  0.0996,  0.0454,  0.0287,\n",
       "                       0.0224,  0.0433,  0.1398,  0.2171,  0.1980,  0.0051,  0.0437, -0.0584,\n",
       "                       0.0397,  0.0483,  0.2208,  0.0233,  0.0473,  0.0455,  0.0155,  0.0508,\n",
       "                       0.1936,  0.0248,  0.0563,  0.0076, -0.0025,  0.0191,  0.1651, -0.0794,\n",
       "                       0.0439, -0.0006,  0.0431,  0.1890,  0.2064,  0.0441,  0.1596,  0.0488,\n",
       "                       0.0258,  0.0333,  0.0648,  0.1798,  0.0563,  0.0311,  0.1504, -0.0457,\n",
       "                       0.1435,  0.0749,  0.1255, -0.0202, -0.0187, -0.0348,  0.0237,  0.1088,\n",
       "                      -0.0635,  0.1917,  0.0289,  0.1614,  0.0448,  0.2322,  0.0301, -0.0048,\n",
       "                       0.0769,  0.1833, -0.0091, -0.0296, -0.0650,  0.0151,  0.1863, -0.0216,\n",
       "                       0.2214, -0.0028,  0.0268, -0.0224, -0.0109,  0.0087,  0.0533, -0.0016,\n",
       "                       0.0381,  0.0033,  0.1945,  0.0328,  0.0172,  0.0265, -0.0316,  0.2311,\n",
       "                       0.0465, -0.0345,  0.1139,  0.1834, -0.0031,  0.2009,  0.2344, -0.0018,\n",
       "                       0.1781,  0.0218, -0.0205,  0.0393, -0.0188,  0.2208, -0.0129,  0.0285,\n",
       "                      -0.0023,  0.0322,  0.0236,  0.0078, -0.0713,  0.0063, -0.1147,  0.0237,\n",
       "                       0.0408,  0.0561,  0.2317,  0.0023,  0.0697,  0.0190,  0.1857,  0.0169,\n",
       "                      -0.0107,  0.0323, -0.0985,  0.0497,  0.0217, -0.0313,  0.0374,  0.0131],\n",
       "                     device='cuda:0'))])"
      ]
     },
     "execution_count": 30,
     "metadata": {},
     "output_type": "execute_result"
    }
   ],
   "source": [
    "model.state_dict()"
   ]
  },
  {
   "cell_type": "code",
   "execution_count": null,
   "id": "da099c45",
   "metadata": {},
   "outputs": [],
   "source": [
    "model.load_state_dict(torch.load(\"/kaggle/input/lstm-model/lstm_model_100Epochs_ss.pth\"))"
   ]
  },
  {
   "cell_type": "code",
   "execution_count": 6,
   "id": "bcac23bb",
   "metadata": {
    "execution": {
     "iopub.execute_input": "2023-04-20T18:42:19.690242Z",
     "iopub.status.busy": "2023-04-20T18:42:19.689764Z",
     "iopub.status.idle": "2023-04-20T18:42:20.802441Z",
     "shell.execute_reply": "2023-04-20T18:42:20.801191Z",
     "shell.execute_reply.started": "2023-04-20T18:42:19.690204Z"
    }
   },
   "outputs": [
    {
     "name": "stdout",
     "output_type": "stream",
     "text": [
      "/kaggle/working\n"
     ]
    }
   ],
   "source": [
    "!pwd"
   ]
  },
  {
   "cell_type": "code",
   "execution_count": 4,
   "id": "403035e7",
   "metadata": {
    "execution": {
     "iopub.execute_input": "2023-04-20T18:41:56.256055Z",
     "iopub.status.busy": "2023-04-20T18:41:56.255060Z",
     "iopub.status.idle": "2023-04-20T18:41:57.245222Z",
     "shell.execute_reply": "2023-04-20T18:41:57.243839Z",
     "shell.execute_reply.started": "2023-04-20T18:41:56.255979Z"
    }
   },
   "outputs": [
    {
     "name": "stdout",
     "output_type": "stream",
     "text": [
      "__notebook_source__.ipynb\n"
     ]
    }
   ],
   "source": [
    "ls"
   ]
  },
  {
   "cell_type": "code",
   "execution_count": 5,
   "id": "d9673908",
   "metadata": {
    "execution": {
     "iopub.execute_input": "2023-04-20T18:42:11.455506Z",
     "iopub.status.busy": "2023-04-20T18:42:11.454785Z",
     "iopub.status.idle": "2023-04-20T18:42:12.573577Z",
     "shell.execute_reply": "2023-04-20T18:42:12.571417Z",
     "shell.execute_reply.started": "2023-04-20T18:42:11.455460Z"
    }
   },
   "outputs": [],
   "source": [
    "!cd .."
   ]
  },
  {
   "cell_type": "code",
   "execution_count": null,
   "id": "d1733044",
   "metadata": {},
   "outputs": [],
   "source": [
    "!"
   ]
  }
 ],
 "metadata": {
  "kernelspec": {
   "display_name": "Python 3",
   "language": "python",
   "name": "python3"
  },
  "language_info": {
   "codemirror_mode": {
    "name": "ipython",
    "version": 3
   },
   "file_extension": ".py",
   "mimetype": "text/x-python",
   "name": "python",
   "nbconvert_exporter": "python",
   "pygments_lexer": "ipython3",
   "version": "3.8.8"
  }
 },
 "nbformat": 4,
 "nbformat_minor": 5
}
